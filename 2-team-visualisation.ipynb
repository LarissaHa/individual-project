{
 "cells": [
  {
   "cell_type": "markdown",
   "metadata": {},
   "source": [
    "# 2 - Team Composition and Homogeneity\n",
    "\n",
    "## attribute analysis and visualization"
   ]
  },
  {
   "cell_type": "code",
   "execution_count": 1,
   "metadata": {},
   "outputs": [],
   "source": [
    "import pandas as pd\n",
    "import re \n",
    "import numpy as np\n",
    "import seaborn as sns\n",
    "import matplotlib.mlab as mlab\n",
    "import matplotlib.pyplot as plt\n",
    "import math\n",
    "from scipy import stats\n",
    "from scipy.stats import ttest_ind\n",
    "pd.options.display.max_columns = 50"
   ]
  },
  {
   "cell_type": "code",
   "execution_count": 2,
   "metadata": {},
   "outputs": [],
   "source": [
    "gem = pd.read_csv('task-and-exam-marks-in-groups.csv', delimiter=\";\", encoding=\"utf-8\")\n",
    "del gem[\"Unnamed: 0\"]"
   ]
  },
  {
   "cell_type": "code",
   "execution_count": 3,
   "metadata": {},
   "outputs": [
    {
     "data": {
      "text/html": [
       "<div>\n",
       "<table border=\"1\" class=\"dataframe\">\n",
       "  <thead>\n",
       "    <tr style=\"text-align: right;\">\n",
       "      <th></th>\n",
       "      <th>tutor</th>\n",
       "      <th>team_id</th>\n",
       "      <th>b1</th>\n",
       "      <th>b2</th>\n",
       "      <th>b3</th>\n",
       "      <th>b4</th>\n",
       "      <th>b5</th>\n",
       "      <th>b6</th>\n",
       "      <th>b7</th>\n",
       "      <th>b8</th>\n",
       "      <th>b9</th>\n",
       "      <th>b10</th>\n",
       "      <th>b11</th>\n",
       "      <th>hash2</th>\n",
       "      <th>a1</th>\n",
       "      <th>a2</th>\n",
       "      <th>a3</th>\n",
       "      <th>a4</th>\n",
       "      <th>a5</th>\n",
       "      <th>a6</th>\n",
       "      <th>a7</th>\n",
       "      <th>punkte</th>\n",
       "      <th>note</th>\n",
       "      <th>student_id</th>\n",
       "      <th>pass</th>\n",
       "      <th>subject</th>\n",
       "      <th>semester</th>\n",
       "      <th>faculty</th>\n",
       "      <th>degree</th>\n",
       "    </tr>\n",
       "  </thead>\n",
       "  <tbody>\n",
       "    <tr>\n",
       "      <th>0</th>\n",
       "      <td>tutor2</td>\n",
       "      <td>1.0</td>\n",
       "      <td>10.00</td>\n",
       "      <td>6.5</td>\n",
       "      <td>11.5</td>\n",
       "      <td>13.0</td>\n",
       "      <td>8.5</td>\n",
       "      <td>8.0</td>\n",
       "      <td>10.5</td>\n",
       "      <td>12.5</td>\n",
       "      <td>7.0</td>\n",
       "      <td>13.0</td>\n",
       "      <td>0.0</td>\n",
       "      <td>0afdc45f7ee8e52ebf1afb2970e37b36</td>\n",
       "      <td>0.0</td>\n",
       "      <td>0.0</td>\n",
       "      <td>0.0</td>\n",
       "      <td>0.0</td>\n",
       "      <td>0.0</td>\n",
       "      <td>0.0</td>\n",
       "      <td>0.0</td>\n",
       "      <td>0.0</td>\n",
       "      <td>0.0</td>\n",
       "      <td>0.0</td>\n",
       "      <td>0.0</td>\n",
       "      <td>inf</td>\n",
       "      <td>1.0</td>\n",
       "      <td>tec</td>\n",
       "      <td>ba</td>\n",
       "    </tr>\n",
       "    <tr>\n",
       "      <th>1</th>\n",
       "      <td>tutor2</td>\n",
       "      <td>1.0</td>\n",
       "      <td>10.00</td>\n",
       "      <td>6.5</td>\n",
       "      <td>11.5</td>\n",
       "      <td>13.0</td>\n",
       "      <td>8.5</td>\n",
       "      <td>8.0</td>\n",
       "      <td>10.5</td>\n",
       "      <td>12.5</td>\n",
       "      <td>7.0</td>\n",
       "      <td>13.0</td>\n",
       "      <td>0.0</td>\n",
       "      <td>d821cd2c7b995d4e3a75c64d25e53529</td>\n",
       "      <td>0.0</td>\n",
       "      <td>0.0</td>\n",
       "      <td>0.0</td>\n",
       "      <td>0.0</td>\n",
       "      <td>0.0</td>\n",
       "      <td>0.0</td>\n",
       "      <td>0.0</td>\n",
       "      <td>0.0</td>\n",
       "      <td>0.0</td>\n",
       "      <td>1.0</td>\n",
       "      <td>0.0</td>\n",
       "      <td>inf</td>\n",
       "      <td>1.0</td>\n",
       "      <td>tec</td>\n",
       "      <td>ba</td>\n",
       "    </tr>\n",
       "    <tr>\n",
       "      <th>2</th>\n",
       "      <td>tutor1</td>\n",
       "      <td>1146.0</td>\n",
       "      <td>13.75</td>\n",
       "      <td>13.5</td>\n",
       "      <td>14.5</td>\n",
       "      <td>13.5</td>\n",
       "      <td>11.0</td>\n",
       "      <td>11.5</td>\n",
       "      <td>13.5</td>\n",
       "      <td>15.0</td>\n",
       "      <td>14.5</td>\n",
       "      <td>4.0</td>\n",
       "      <td>0.0</td>\n",
       "      <td>fa873577b8543ed8a6d7d8d7fe6ca546</td>\n",
       "      <td>7.0</td>\n",
       "      <td>7.0</td>\n",
       "      <td>8.5</td>\n",
       "      <td>8.0</td>\n",
       "      <td>6.0</td>\n",
       "      <td>7.0</td>\n",
       "      <td>8.5</td>\n",
       "      <td>52.0</td>\n",
       "      <td>3.3</td>\n",
       "      <td>2.0</td>\n",
       "      <td>1.0</td>\n",
       "      <td>inf</td>\n",
       "      <td>1.0</td>\n",
       "      <td>tec</td>\n",
       "      <td>ba</td>\n",
       "    </tr>\n",
       "    <tr>\n",
       "      <th>3</th>\n",
       "      <td>tutor3</td>\n",
       "      <td>19.0</td>\n",
       "      <td>13.00</td>\n",
       "      <td>6.5</td>\n",
       "      <td>7.5</td>\n",
       "      <td>9.0</td>\n",
       "      <td>3.5</td>\n",
       "      <td>4.5</td>\n",
       "      <td>5.5</td>\n",
       "      <td>0.0</td>\n",
       "      <td>0.0</td>\n",
       "      <td>0.0</td>\n",
       "      <td>0.0</td>\n",
       "      <td>e7c181a90d7161b4f885a69f6d426474</td>\n",
       "      <td>0.0</td>\n",
       "      <td>0.0</td>\n",
       "      <td>0.0</td>\n",
       "      <td>0.0</td>\n",
       "      <td>0.0</td>\n",
       "      <td>0.0</td>\n",
       "      <td>0.0</td>\n",
       "      <td>0.0</td>\n",
       "      <td>0.0</td>\n",
       "      <td>3.0</td>\n",
       "      <td>0.0</td>\n",
       "      <td>inf</td>\n",
       "      <td>1.0</td>\n",
       "      <td>tec</td>\n",
       "      <td>ba</td>\n",
       "    </tr>\n",
       "    <tr>\n",
       "      <th>4</th>\n",
       "      <td>tutor5</td>\n",
       "      <td>5012.0</td>\n",
       "      <td>14.00</td>\n",
       "      <td>11.5</td>\n",
       "      <td>12.5</td>\n",
       "      <td>14.5</td>\n",
       "      <td>8.0</td>\n",
       "      <td>7.0</td>\n",
       "      <td>13.5</td>\n",
       "      <td>6.5</td>\n",
       "      <td>8.5</td>\n",
       "      <td>14.0</td>\n",
       "      <td>0.0</td>\n",
       "      <td>e2be9ece8b482afb4717e4e13907a525</td>\n",
       "      <td>4.0</td>\n",
       "      <td>7.0</td>\n",
       "      <td>7.0</td>\n",
       "      <td>8.5</td>\n",
       "      <td>6.5</td>\n",
       "      <td>1.5</td>\n",
       "      <td>4.0</td>\n",
       "      <td>38.5</td>\n",
       "      <td>5.0</td>\n",
       "      <td>4.0</td>\n",
       "      <td>0.0</td>\n",
       "      <td>inf</td>\n",
       "      <td>3.0</td>\n",
       "      <td>tec</td>\n",
       "      <td>ba</td>\n",
       "    </tr>\n",
       "  </tbody>\n",
       "</table>\n",
       "</div>"
      ],
      "text/plain": [
       "    tutor  team_id     b1    b2    b3    b4    b5    b6    b7    b8    b9  \\\n",
       "0  tutor2      1.0  10.00   6.5  11.5  13.0   8.5   8.0  10.5  12.5   7.0   \n",
       "1  tutor2      1.0  10.00   6.5  11.5  13.0   8.5   8.0  10.5  12.5   7.0   \n",
       "2  tutor1   1146.0  13.75  13.5  14.5  13.5  11.0  11.5  13.5  15.0  14.5   \n",
       "3  tutor3     19.0  13.00   6.5   7.5   9.0   3.5   4.5   5.5   0.0   0.0   \n",
       "4  tutor5   5012.0  14.00  11.5  12.5  14.5   8.0   7.0  13.5   6.5   8.5   \n",
       "\n",
       "    b10  b11                             hash2   a1   a2   a3   a4   a5   a6  \\\n",
       "0  13.0  0.0  0afdc45f7ee8e52ebf1afb2970e37b36  0.0  0.0  0.0  0.0  0.0  0.0   \n",
       "1  13.0  0.0  d821cd2c7b995d4e3a75c64d25e53529  0.0  0.0  0.0  0.0  0.0  0.0   \n",
       "2   4.0  0.0  fa873577b8543ed8a6d7d8d7fe6ca546  7.0  7.0  8.5  8.0  6.0  7.0   \n",
       "3   0.0  0.0  e7c181a90d7161b4f885a69f6d426474  0.0  0.0  0.0  0.0  0.0  0.0   \n",
       "4  14.0  0.0  e2be9ece8b482afb4717e4e13907a525  4.0  7.0  7.0  8.5  6.5  1.5   \n",
       "\n",
       "    a7  punkte  note  student_id  pass subject  semester faculty degree  \n",
       "0  0.0     0.0   0.0         0.0   0.0     inf       1.0     tec     ba  \n",
       "1  0.0     0.0   0.0         1.0   0.0     inf       1.0     tec     ba  \n",
       "2  8.5    52.0   3.3         2.0   1.0     inf       1.0     tec     ba  \n",
       "3  0.0     0.0   0.0         3.0   0.0     inf       1.0     tec     ba  \n",
       "4  4.0    38.5   5.0         4.0   0.0     inf       3.0     tec     ba  "
      ]
     },
     "execution_count": 3,
     "metadata": {},
     "output_type": "execute_result"
    }
   ],
   "source": [
    "gem.head()"
   ]
  },
  {
   "cell_type": "code",
   "execution_count": 4,
   "metadata": {},
   "outputs": [
    {
     "data": {
      "text/plain": [
       "32.66129032258065"
      ]
     },
     "execution_count": 4,
     "metadata": {},
     "output_type": "execute_result"
    }
   ],
   "source": [
    "gem[\"punkte\"].mean()"
   ]
  },
  {
   "cell_type": "markdown",
   "metadata": {},
   "source": [
    "In our dataset we have 125 teams, mostly with 2 members. There are exactly 2 teams with 3 members and several alone working students (17, to be precise). In the following section we will describe the relationship within the teams with their difference to the team mean, because on the one hand, for 2-member teams there is no substantial difference in the difference to the mean or the absolute difference (only the value is divided in half), on the other hand it makes it easier to handle the 3-member teams, as they get one resulting difference and not 2 differences to each of the other team members."
   ]
  },
  {
   "cell_type": "markdown",
   "metadata": {},
   "source": [
    "# attribute generation\n",
    "\n",
    "+ average homework grade\n",
    "+ team average\n",
    "+ difference between team members\n",
    "    + to mean\n",
    "    + absolute\n",
    "    \n",
    "   \n",
    "## average grade in homeworks\n",
    "\n",
    "only if grade does not equals zero"
   ]
  },
  {
   "cell_type": "code",
   "execution_count": 5,
   "metadata": {},
   "outputs": [],
   "source": [
    "gem = gem.replace(\"0\", np.nan)\n",
    "gem[\"team_id\"] = gem[\"team_id\"].replace(np.nan, \"0\")\n",
    "gem[\"student_id\"] = gem[\"student_id\"].replace(np.nan, \"0\")"
   ]
  },
  {
   "cell_type": "code",
   "execution_count": 6,
   "metadata": {},
   "outputs": [],
   "source": [
    "gem[\"avg_hw\"] = gem[[\"b1\", \"b2\", \"b3\", \"b4\", \"b5\", \"b6\", \"b7\", \"b8\", \"b9\", \"b10\", \"b11\"]].mean(axis=1)"
   ]
  },
  {
   "cell_type": "code",
   "execution_count": 7,
   "metadata": {},
   "outputs": [
    {
     "data": {
      "text/plain": [
       "count    230.000000\n",
       "mean      11.330308\n",
       "std        1.905145\n",
       "min        6.562500\n",
       "25%       10.100000\n",
       "50%       11.550000\n",
       "75%       12.800000\n",
       "max       14.900000\n",
       "Name: avg_hw, dtype: float64"
      ]
     },
     "execution_count": 7,
     "metadata": {},
     "output_type": "execute_result"
    }
   ],
   "source": [
    "gem[\"avg_hw\"].describe()"
   ]
  },
  {
   "cell_type": "markdown",
   "metadata": {},
   "source": [
    "## team average\n",
    "\n",
    "creates an average value of points in the final exam for each team"
   ]
  },
  {
   "cell_type": "code",
   "execution_count": 8,
   "metadata": {},
   "outputs": [
    {
     "name": "stderr",
     "output_type": "stream",
     "text": [
      "C:\\Users\\laris\\Anaconda3\\lib\\site-packages\\ipykernel_launcher.py:3: SettingWithCopyWarning: \n",
      "A value is trying to be set on a copy of a slice from a DataFrame\n",
      "\n",
      "See the caveats in the documentation: http://pandas.pydata.org/pandas-docs/stable/indexing.html#indexing-view-versus-copy\n",
      "  This is separate from the ipykernel package so we can avoid doing imports until\n"
     ]
    }
   ],
   "source": [
    "gem[\"team_avg\"] = 0\n",
    "for i in gem[\"team_id\"]:\n",
    "    gem[\"team_avg\"][gem[\"team_id\"] == i] = gem[\"punkte\"][gem[\"team_id\"] == i].mean()"
   ]
  },
  {
   "cell_type": "code",
   "execution_count": 9,
   "metadata": {},
   "outputs": [
    {
     "data": {
      "text/plain": [
       "count    194.000000\n",
       "mean      51.788660\n",
       "std       13.424580\n",
       "min        9.000000\n",
       "25%       42.750000\n",
       "50%       54.125000\n",
       "75%       62.166667\n",
       "max       80.500000\n",
       "Name: team_avg, dtype: float64"
      ]
     },
     "execution_count": 9,
     "metadata": {},
     "output_type": "execute_result"
    }
   ],
   "source": [
    "gem[\"team_avg\"].describe()"
   ]
  },
  {
   "cell_type": "markdown",
   "metadata": {},
   "source": [
    "## difference between team members\n",
    "\n",
    "is calculated between each student and it's team average value."
   ]
  },
  {
   "cell_type": "code",
   "execution_count": 10,
   "metadata": {},
   "outputs": [],
   "source": [
    "gem[\"student_id\"] = gem[\"student_id\"].astype(int)"
   ]
  },
  {
   "cell_type": "code",
   "execution_count": 11,
   "metadata": {},
   "outputs": [],
   "source": [
    "gem = gem[~pd.isnull(gem[\"tutor\"])]"
   ]
  },
  {
   "cell_type": "code",
   "execution_count": 12,
   "metadata": {},
   "outputs": [],
   "source": [
    "gem[\"diff_to_team\"] = gem[\"punkte\"] - gem[\"team_avg\"]"
   ]
  },
  {
   "cell_type": "code",
   "execution_count": 13,
   "metadata": {},
   "outputs": [
    {
     "name": "stderr",
     "output_type": "stream",
     "text": [
      "C:\\Users\\laris\\Anaconda3\\lib\\site-packages\\ipykernel_launcher.py:5: SettingWithCopyWarning: \n",
      "A value is trying to be set on a copy of a slice from a DataFrame\n",
      "\n",
      "See the caveats in the documentation: http://pandas.pydata.org/pandas-docs/stable/indexing.html#indexing-view-versus-copy\n",
      "  \"\"\"\n"
     ]
    }
   ],
   "source": [
    "gem[\"member_no\"] = 0\n",
    "for i in gem[\"team_id\"].unique():\n",
    "    v = 0\n",
    "    for j in gem[\"student_id\"][gem[\"team_id\"] == i]:\n",
    "        gem[\"member_no\"][gem[\"student_id\"] == j] = v\n",
    "        v = v + 1"
   ]
  },
  {
   "cell_type": "code",
   "execution_count": 14,
   "metadata": {},
   "outputs": [
    {
     "data": {
      "text/html": [
       "<div>\n",
       "<table border=\"1\" class=\"dataframe\">\n",
       "  <thead>\n",
       "    <tr style=\"text-align: right;\">\n",
       "      <th></th>\n",
       "      <th>tutor</th>\n",
       "      <th>team_id</th>\n",
       "      <th>b1</th>\n",
       "      <th>b2</th>\n",
       "      <th>b3</th>\n",
       "      <th>b4</th>\n",
       "      <th>b5</th>\n",
       "      <th>b6</th>\n",
       "      <th>b7</th>\n",
       "      <th>b8</th>\n",
       "      <th>b9</th>\n",
       "      <th>b10</th>\n",
       "      <th>b11</th>\n",
       "      <th>hash2</th>\n",
       "      <th>a1</th>\n",
       "      <th>a2</th>\n",
       "      <th>a3</th>\n",
       "      <th>a4</th>\n",
       "      <th>a5</th>\n",
       "      <th>a6</th>\n",
       "      <th>a7</th>\n",
       "      <th>punkte</th>\n",
       "      <th>note</th>\n",
       "      <th>student_id</th>\n",
       "      <th>pass</th>\n",
       "      <th>subject</th>\n",
       "      <th>semester</th>\n",
       "      <th>faculty</th>\n",
       "      <th>degree</th>\n",
       "      <th>avg_hw</th>\n",
       "      <th>team_avg</th>\n",
       "      <th>diff_to_team</th>\n",
       "      <th>member_no</th>\n",
       "    </tr>\n",
       "  </thead>\n",
       "  <tbody>\n",
       "    <tr>\n",
       "      <th>230</th>\n",
       "      <td>tutor2</td>\n",
       "      <td>23</td>\n",
       "      <td>13.0</td>\n",
       "      <td>8.0</td>\n",
       "      <td>9.0</td>\n",
       "      <td>13.0</td>\n",
       "      <td>4.5</td>\n",
       "      <td>2.0</td>\n",
       "      <td>2.5</td>\n",
       "      <td>8.5</td>\n",
       "      <td>5.5</td>\n",
       "      <td>13.0</td>\n",
       "      <td>4.5</td>\n",
       "      <td>d54a5c324c7e3b08441d4e91e5f1ddc3</td>\n",
       "      <td>NaN</td>\n",
       "      <td>NaN</td>\n",
       "      <td>NaN</td>\n",
       "      <td>NaN</td>\n",
       "      <td>NaN</td>\n",
       "      <td>NaN</td>\n",
       "      <td>NaN</td>\n",
       "      <td>NaN</td>\n",
       "      <td>NaN</td>\n",
       "      <td>230</td>\n",
       "      <td>NaN</td>\n",
       "      <td>wip</td>\n",
       "      <td>5.0</td>\n",
       "      <td>eco</td>\n",
       "      <td>ba</td>\n",
       "      <td>7.590909</td>\n",
       "      <td>NaN</td>\n",
       "      <td>NaN</td>\n",
       "      <td>1</td>\n",
       "    </tr>\n",
       "    <tr>\n",
       "      <th>231</th>\n",
       "      <td>tutor4</td>\n",
       "      <td>44</td>\n",
       "      <td>15.0</td>\n",
       "      <td>15.0</td>\n",
       "      <td>9.0</td>\n",
       "      <td>9.0</td>\n",
       "      <td>NaN</td>\n",
       "      <td>6.5</td>\n",
       "      <td>8.5</td>\n",
       "      <td>12.0</td>\n",
       "      <td>5.5</td>\n",
       "      <td>12.5</td>\n",
       "      <td>NaN</td>\n",
       "      <td>c23fe2a55d01694711e6b683243b415a</td>\n",
       "      <td>NaN</td>\n",
       "      <td>NaN</td>\n",
       "      <td>NaN</td>\n",
       "      <td>NaN</td>\n",
       "      <td>NaN</td>\n",
       "      <td>NaN</td>\n",
       "      <td>NaN</td>\n",
       "      <td>NaN</td>\n",
       "      <td>NaN</td>\n",
       "      <td>231</td>\n",
       "      <td>NaN</td>\n",
       "      <td>mat</td>\n",
       "      <td>7.0</td>\n",
       "      <td>tec</td>\n",
       "      <td>ba</td>\n",
       "      <td>10.333333</td>\n",
       "      <td>NaN</td>\n",
       "      <td>NaN</td>\n",
       "      <td>1</td>\n",
       "    </tr>\n",
       "    <tr>\n",
       "      <th>232</th>\n",
       "      <td>tutor3</td>\n",
       "      <td>75</td>\n",
       "      <td>15.0</td>\n",
       "      <td>13.0</td>\n",
       "      <td>14.0</td>\n",
       "      <td>14.0</td>\n",
       "      <td>12.5</td>\n",
       "      <td>14.5</td>\n",
       "      <td>13.5</td>\n",
       "      <td>14.0</td>\n",
       "      <td>13.5</td>\n",
       "      <td>10.0</td>\n",
       "      <td>NaN</td>\n",
       "      <td>2411cc6ea15b4d75f5f217d140a8c598</td>\n",
       "      <td>4.5</td>\n",
       "      <td>10.0</td>\n",
       "      <td>9.0</td>\n",
       "      <td>8.0</td>\n",
       "      <td>11.0</td>\n",
       "      <td>6.0</td>\n",
       "      <td>8.5</td>\n",
       "      <td>57.0</td>\n",
       "      <td>2.7</td>\n",
       "      <td>232</td>\n",
       "      <td>1.0</td>\n",
       "      <td>mat</td>\n",
       "      <td>5.0</td>\n",
       "      <td>tec</td>\n",
       "      <td>ba</td>\n",
       "      <td>13.400000</td>\n",
       "      <td>57.00</td>\n",
       "      <td>0.00</td>\n",
       "      <td>1</td>\n",
       "    </tr>\n",
       "    <tr>\n",
       "      <th>233</th>\n",
       "      <td>tutor5</td>\n",
       "      <td>5002</td>\n",
       "      <td>14.0</td>\n",
       "      <td>9.0</td>\n",
       "      <td>14.5</td>\n",
       "      <td>15.0</td>\n",
       "      <td>12.5</td>\n",
       "      <td>12.5</td>\n",
       "      <td>15.0</td>\n",
       "      <td>6.5</td>\n",
       "      <td>9.5</td>\n",
       "      <td>5.0</td>\n",
       "      <td>NaN</td>\n",
       "      <td>b0578b0298581be610d5eea04436a9d4</td>\n",
       "      <td>3.0</td>\n",
       "      <td>6.5</td>\n",
       "      <td>4.0</td>\n",
       "      <td>12.0</td>\n",
       "      <td>7.0</td>\n",
       "      <td>2.0</td>\n",
       "      <td>4.0</td>\n",
       "      <td>38.5</td>\n",
       "      <td>5.0</td>\n",
       "      <td>233</td>\n",
       "      <td>NaN</td>\n",
       "      <td>mat</td>\n",
       "      <td>5.0</td>\n",
       "      <td>tec</td>\n",
       "      <td>ba</td>\n",
       "      <td>11.350000</td>\n",
       "      <td>53.00</td>\n",
       "      <td>-14.50</td>\n",
       "      <td>1</td>\n",
       "    </tr>\n",
       "    <tr>\n",
       "      <th>234</th>\n",
       "      <td>tutor5</td>\n",
       "      <td>5013</td>\n",
       "      <td>15.0</td>\n",
       "      <td>13.0</td>\n",
       "      <td>15.0</td>\n",
       "      <td>14.0</td>\n",
       "      <td>13.0</td>\n",
       "      <td>15.0</td>\n",
       "      <td>14.5</td>\n",
       "      <td>14.0</td>\n",
       "      <td>14.5</td>\n",
       "      <td>15.0</td>\n",
       "      <td>NaN</td>\n",
       "      <td>77b22a70f68d52c23703f071b4de5d4f</td>\n",
       "      <td>6.0</td>\n",
       "      <td>11.0</td>\n",
       "      <td>9.0</td>\n",
       "      <td>12.0</td>\n",
       "      <td>9.0</td>\n",
       "      <td>8.0</td>\n",
       "      <td>12.0</td>\n",
       "      <td>67.0</td>\n",
       "      <td>1.7</td>\n",
       "      <td>234</td>\n",
       "      <td>1.0</td>\n",
       "      <td>inf</td>\n",
       "      <td>1.0</td>\n",
       "      <td>tec</td>\n",
       "      <td>ba</td>\n",
       "      <td>14.300000</td>\n",
       "      <td>57.25</td>\n",
       "      <td>9.75</td>\n",
       "      <td>1</td>\n",
       "    </tr>\n",
       "  </tbody>\n",
       "</table>\n",
       "</div>"
      ],
      "text/plain": [
       "      tutor team_id    b1    b2    b3    b4    b5    b6    b7    b8    b9  \\\n",
       "230  tutor2      23  13.0   8.0   9.0  13.0   4.5   2.0   2.5   8.5   5.5   \n",
       "231  tutor4      44  15.0  15.0   9.0   9.0   NaN   6.5   8.5  12.0   5.5   \n",
       "232  tutor3      75  15.0  13.0  14.0  14.0  12.5  14.5  13.5  14.0  13.5   \n",
       "233  tutor5    5002  14.0   9.0  14.5  15.0  12.5  12.5  15.0   6.5   9.5   \n",
       "234  tutor5    5013  15.0  13.0  15.0  14.0  13.0  15.0  14.5  14.0  14.5   \n",
       "\n",
       "      b10  b11                             hash2   a1    a2   a3    a4    a5  \\\n",
       "230  13.0  4.5  d54a5c324c7e3b08441d4e91e5f1ddc3  NaN   NaN  NaN   NaN   NaN   \n",
       "231  12.5  NaN  c23fe2a55d01694711e6b683243b415a  NaN   NaN  NaN   NaN   NaN   \n",
       "232  10.0  NaN  2411cc6ea15b4d75f5f217d140a8c598  4.5  10.0  9.0   8.0  11.0   \n",
       "233   5.0  NaN  b0578b0298581be610d5eea04436a9d4  3.0   6.5  4.0  12.0   7.0   \n",
       "234  15.0  NaN  77b22a70f68d52c23703f071b4de5d4f  6.0  11.0  9.0  12.0   9.0   \n",
       "\n",
       "      a6    a7  punkte  note  student_id  pass subject  semester faculty  \\\n",
       "230  NaN   NaN     NaN   NaN         230   NaN     wip       5.0     eco   \n",
       "231  NaN   NaN     NaN   NaN         231   NaN     mat       7.0     tec   \n",
       "232  6.0   8.5    57.0   2.7         232   1.0     mat       5.0     tec   \n",
       "233  2.0   4.0    38.5   5.0         233   NaN     mat       5.0     tec   \n",
       "234  8.0  12.0    67.0   1.7         234   1.0     inf       1.0     tec   \n",
       "\n",
       "    degree     avg_hw  team_avg  diff_to_team  member_no  \n",
       "230     ba   7.590909       NaN           NaN          1  \n",
       "231     ba  10.333333       NaN           NaN          1  \n",
       "232     ba  13.400000     57.00          0.00          1  \n",
       "233     ba  11.350000     53.00        -14.50          1  \n",
       "234     ba  14.300000     57.25          9.75          1  "
      ]
     },
     "execution_count": 14,
     "metadata": {},
     "output_type": "execute_result"
    }
   ],
   "source": [
    "gem.tail()"
   ]
  },
  {
   "cell_type": "code",
   "execution_count": 15,
   "metadata": {},
   "outputs": [],
   "source": [
    "gem.to_csv('task-and-exam-marks-in-groups_with_mean2.csv', sep=\";\", encoding=\"utf-8\")"
   ]
  },
  {
   "cell_type": "code",
   "execution_count": 16,
   "metadata": {},
   "outputs": [
    {
     "data": {
      "text/html": [
       "<div>\n",
       "<table border=\"1\" class=\"dataframe\">\n",
       "  <thead>\n",
       "    <tr style=\"text-align: right;\">\n",
       "      <th></th>\n",
       "      <th>tutor</th>\n",
       "      <th>team_id</th>\n",
       "      <th>b1</th>\n",
       "      <th>b2</th>\n",
       "      <th>b3</th>\n",
       "      <th>b4</th>\n",
       "      <th>b5</th>\n",
       "      <th>b6</th>\n",
       "      <th>b7</th>\n",
       "      <th>b8</th>\n",
       "      <th>b9</th>\n",
       "      <th>b10</th>\n",
       "      <th>b11</th>\n",
       "      <th>hash2</th>\n",
       "      <th>a1</th>\n",
       "      <th>a2</th>\n",
       "      <th>a3</th>\n",
       "      <th>a4</th>\n",
       "      <th>a5</th>\n",
       "      <th>a6</th>\n",
       "      <th>a7</th>\n",
       "      <th>punkte</th>\n",
       "      <th>note</th>\n",
       "      <th>student_id</th>\n",
       "      <th>pass</th>\n",
       "      <th>subject</th>\n",
       "      <th>semester</th>\n",
       "      <th>faculty</th>\n",
       "      <th>degree</th>\n",
       "      <th>avg_hw</th>\n",
       "      <th>team_avg</th>\n",
       "      <th>diff_to_team</th>\n",
       "      <th>member_no</th>\n",
       "    </tr>\n",
       "  </thead>\n",
       "  <tbody>\n",
       "    <tr>\n",
       "      <th>0</th>\n",
       "      <td>tutor2</td>\n",
       "      <td>1.0</td>\n",
       "      <td>10.00</td>\n",
       "      <td>6.5</td>\n",
       "      <td>11.5</td>\n",
       "      <td>13.0</td>\n",
       "      <td>8.5</td>\n",
       "      <td>8.0</td>\n",
       "      <td>10.5</td>\n",
       "      <td>12.5</td>\n",
       "      <td>7.0</td>\n",
       "      <td>13.0</td>\n",
       "      <td>NaN</td>\n",
       "      <td>0afdc45f7ee8e52ebf1afb2970e37b36</td>\n",
       "      <td>NaN</td>\n",
       "      <td>NaN</td>\n",
       "      <td>NaN</td>\n",
       "      <td>NaN</td>\n",
       "      <td>NaN</td>\n",
       "      <td>NaN</td>\n",
       "      <td>NaN</td>\n",
       "      <td>NaN</td>\n",
       "      <td>NaN</td>\n",
       "      <td>0</td>\n",
       "      <td>NaN</td>\n",
       "      <td>inf</td>\n",
       "      <td>1.0</td>\n",
       "      <td>tec</td>\n",
       "      <td>ba</td>\n",
       "      <td>10.050000</td>\n",
       "      <td>NaN</td>\n",
       "      <td>NaN</td>\n",
       "      <td>0</td>\n",
       "    </tr>\n",
       "    <tr>\n",
       "      <th>1</th>\n",
       "      <td>tutor2</td>\n",
       "      <td>1.0</td>\n",
       "      <td>10.00</td>\n",
       "      <td>6.5</td>\n",
       "      <td>11.5</td>\n",
       "      <td>13.0</td>\n",
       "      <td>8.5</td>\n",
       "      <td>8.0</td>\n",
       "      <td>10.5</td>\n",
       "      <td>12.5</td>\n",
       "      <td>7.0</td>\n",
       "      <td>13.0</td>\n",
       "      <td>NaN</td>\n",
       "      <td>d821cd2c7b995d4e3a75c64d25e53529</td>\n",
       "      <td>NaN</td>\n",
       "      <td>NaN</td>\n",
       "      <td>NaN</td>\n",
       "      <td>NaN</td>\n",
       "      <td>NaN</td>\n",
       "      <td>NaN</td>\n",
       "      <td>NaN</td>\n",
       "      <td>NaN</td>\n",
       "      <td>NaN</td>\n",
       "      <td>1</td>\n",
       "      <td>NaN</td>\n",
       "      <td>inf</td>\n",
       "      <td>1.0</td>\n",
       "      <td>tec</td>\n",
       "      <td>ba</td>\n",
       "      <td>10.050000</td>\n",
       "      <td>NaN</td>\n",
       "      <td>NaN</td>\n",
       "      <td>1</td>\n",
       "    </tr>\n",
       "    <tr>\n",
       "      <th>2</th>\n",
       "      <td>tutor1</td>\n",
       "      <td>1146.0</td>\n",
       "      <td>13.75</td>\n",
       "      <td>13.5</td>\n",
       "      <td>14.5</td>\n",
       "      <td>13.5</td>\n",
       "      <td>11.0</td>\n",
       "      <td>11.5</td>\n",
       "      <td>13.5</td>\n",
       "      <td>15.0</td>\n",
       "      <td>14.5</td>\n",
       "      <td>4.0</td>\n",
       "      <td>NaN</td>\n",
       "      <td>fa873577b8543ed8a6d7d8d7fe6ca546</td>\n",
       "      <td>7.0</td>\n",
       "      <td>7.0</td>\n",
       "      <td>8.5</td>\n",
       "      <td>8.0</td>\n",
       "      <td>6.0</td>\n",
       "      <td>7.0</td>\n",
       "      <td>8.5</td>\n",
       "      <td>52.0</td>\n",
       "      <td>3.3</td>\n",
       "      <td>2</td>\n",
       "      <td>1.0</td>\n",
       "      <td>inf</td>\n",
       "      <td>1.0</td>\n",
       "      <td>tec</td>\n",
       "      <td>ba</td>\n",
       "      <td>12.475000</td>\n",
       "      <td>52.00</td>\n",
       "      <td>0.00</td>\n",
       "      <td>0</td>\n",
       "    </tr>\n",
       "    <tr>\n",
       "      <th>3</th>\n",
       "      <td>tutor3</td>\n",
       "      <td>19.0</td>\n",
       "      <td>13.00</td>\n",
       "      <td>6.5</td>\n",
       "      <td>7.5</td>\n",
       "      <td>9.0</td>\n",
       "      <td>3.5</td>\n",
       "      <td>4.5</td>\n",
       "      <td>5.5</td>\n",
       "      <td>NaN</td>\n",
       "      <td>NaN</td>\n",
       "      <td>NaN</td>\n",
       "      <td>NaN</td>\n",
       "      <td>e7c181a90d7161b4f885a69f6d426474</td>\n",
       "      <td>NaN</td>\n",
       "      <td>NaN</td>\n",
       "      <td>NaN</td>\n",
       "      <td>NaN</td>\n",
       "      <td>NaN</td>\n",
       "      <td>NaN</td>\n",
       "      <td>NaN</td>\n",
       "      <td>NaN</td>\n",
       "      <td>NaN</td>\n",
       "      <td>3</td>\n",
       "      <td>NaN</td>\n",
       "      <td>inf</td>\n",
       "      <td>1.0</td>\n",
       "      <td>tec</td>\n",
       "      <td>ba</td>\n",
       "      <td>7.071429</td>\n",
       "      <td>NaN</td>\n",
       "      <td>NaN</td>\n",
       "      <td>0</td>\n",
       "    </tr>\n",
       "    <tr>\n",
       "      <th>4</th>\n",
       "      <td>tutor5</td>\n",
       "      <td>5012.0</td>\n",
       "      <td>14.00</td>\n",
       "      <td>11.5</td>\n",
       "      <td>12.5</td>\n",
       "      <td>14.5</td>\n",
       "      <td>8.0</td>\n",
       "      <td>7.0</td>\n",
       "      <td>13.5</td>\n",
       "      <td>6.5</td>\n",
       "      <td>8.5</td>\n",
       "      <td>14.0</td>\n",
       "      <td>NaN</td>\n",
       "      <td>e2be9ece8b482afb4717e4e13907a525</td>\n",
       "      <td>4.0</td>\n",
       "      <td>7.0</td>\n",
       "      <td>7.0</td>\n",
       "      <td>8.5</td>\n",
       "      <td>6.5</td>\n",
       "      <td>1.5</td>\n",
       "      <td>4.0</td>\n",
       "      <td>38.5</td>\n",
       "      <td>5.0</td>\n",
       "      <td>4</td>\n",
       "      <td>NaN</td>\n",
       "      <td>inf</td>\n",
       "      <td>3.0</td>\n",
       "      <td>tec</td>\n",
       "      <td>ba</td>\n",
       "      <td>11.000000</td>\n",
       "      <td>32.25</td>\n",
       "      <td>6.25</td>\n",
       "      <td>0</td>\n",
       "    </tr>\n",
       "  </tbody>\n",
       "</table>\n",
       "</div>"
      ],
      "text/plain": [
       "    tutor  team_id     b1    b2    b3    b4    b5    b6    b7    b8    b9  \\\n",
       "0  tutor2      1.0  10.00   6.5  11.5  13.0   8.5   8.0  10.5  12.5   7.0   \n",
       "1  tutor2      1.0  10.00   6.5  11.5  13.0   8.5   8.0  10.5  12.5   7.0   \n",
       "2  tutor1   1146.0  13.75  13.5  14.5  13.5  11.0  11.5  13.5  15.0  14.5   \n",
       "3  tutor3     19.0  13.00   6.5   7.5   9.0   3.5   4.5   5.5   NaN   NaN   \n",
       "4  tutor5   5012.0  14.00  11.5  12.5  14.5   8.0   7.0  13.5   6.5   8.5   \n",
       "\n",
       "    b10  b11                             hash2   a1   a2   a3   a4   a5   a6  \\\n",
       "0  13.0  NaN  0afdc45f7ee8e52ebf1afb2970e37b36  NaN  NaN  NaN  NaN  NaN  NaN   \n",
       "1  13.0  NaN  d821cd2c7b995d4e3a75c64d25e53529  NaN  NaN  NaN  NaN  NaN  NaN   \n",
       "2   4.0  NaN  fa873577b8543ed8a6d7d8d7fe6ca546  7.0  7.0  8.5  8.0  6.0  7.0   \n",
       "3   NaN  NaN  e7c181a90d7161b4f885a69f6d426474  NaN  NaN  NaN  NaN  NaN  NaN   \n",
       "4  14.0  NaN  e2be9ece8b482afb4717e4e13907a525  4.0  7.0  7.0  8.5  6.5  1.5   \n",
       "\n",
       "    a7  punkte  note  student_id  pass subject  semester faculty degree  \\\n",
       "0  NaN     NaN   NaN           0   NaN     inf       1.0     tec     ba   \n",
       "1  NaN     NaN   NaN           1   NaN     inf       1.0     tec     ba   \n",
       "2  8.5    52.0   3.3           2   1.0     inf       1.0     tec     ba   \n",
       "3  NaN     NaN   NaN           3   NaN     inf       1.0     tec     ba   \n",
       "4  4.0    38.5   5.0           4   NaN     inf       3.0     tec     ba   \n",
       "\n",
       "      avg_hw  team_avg  diff_to_team  member_no  \n",
       "0  10.050000       NaN           NaN          0  \n",
       "1  10.050000       NaN           NaN          1  \n",
       "2  12.475000     52.00          0.00          0  \n",
       "3   7.071429       NaN           NaN          0  \n",
       "4  11.000000     32.25          6.25          0  "
      ]
     },
     "execution_count": 16,
     "metadata": {},
     "output_type": "execute_result"
    }
   ],
   "source": [
    "gem = pd.read_csv('task-and-exam-marks-in-groups_with_mean2.csv', sep=\";\", encoding=\"utf-8\")\n",
    "del gem[\"Unnamed: 0\"]\n",
    "gem.head()"
   ]
  },
  {
   "cell_type": "markdown",
   "metadata": {},
   "source": [
    "# visualisation"
   ]
  },
  {
   "cell_type": "code",
   "execution_count": 17,
   "metadata": {},
   "outputs": [
    {
     "data": {
      "text/plain": [
       "(array([  2.,   0.,   1.,   2.,   1.,   0.,   2.,   1.,   2.,   1.,   5.,\n",
       "          8.,   5.,   5.,   7.,  11.,   7.,   7.,   8.,  10.,   8.,   5.,\n",
       "          5.,   8.,   7.,   5.,   7.,   2.,   2.,   1.]),\n",
       " array([  9.        ,  11.38333333,  13.76666667,  16.15      ,\n",
       "         18.53333333,  20.91666667,  23.3       ,  25.68333333,\n",
       "         28.06666667,  30.45      ,  32.83333333,  35.21666667,\n",
       "         37.6       ,  39.98333333,  42.36666667,  44.75      ,\n",
       "         47.13333333,  49.51666667,  51.9       ,  54.28333333,\n",
       "         56.66666667,  59.05      ,  61.43333333,  63.81666667,\n",
       "         66.2       ,  68.58333333,  70.96666667,  73.35      ,\n",
       "         75.73333333,  78.11666667,  80.5       ]),\n",
       " <a list of 30 Patch objects>)"
      ]
     },
     "execution_count": 17,
     "metadata": {},
     "output_type": "execute_result"
    },
    {
     "data": {
      "image/png": "[encoded data removed]",
      "text/plain": [
       "<matplotlib.figure.Figure at 0x1eaaceb1c88>"
      ]
     },
     "metadata": {},
     "output_type": "display_data"
    }
   ],
   "source": [
    "plt.hist(gem[\"punkte\"].dropna(), bins=30)"
   ]
  },
  {
   "cell_type": "code",
   "execution_count": 18,
   "metadata": {},
   "outputs": [
    {
     "data": {
      "text/plain": [
       "<matplotlib.text.Text at 0x1eaacfc0630>"
      ]
     },
     "execution_count": 18,
     "metadata": {},
     "output_type": "execute_result"
    },
    {
     "data": {
      "image/png": "[encoded data removed]",
      "text/plain": [
       "<matplotlib.figure.Figure at 0x1eaad01b390>"
      ]
     },
     "metadata": {},
     "output_type": "display_data"
    }
   ],
   "source": [
    "plt.hist(gem[\"diff_to_team\"].dropna(), bins=30)\n",
    "plt.title(\"all students\")\n",
    "plt.xlabel(\"Difference to Team Average\")"
   ]
  },
  {
   "cell_type": "markdown",
   "metadata": {},
   "source": [
    "Histogram of the differences from each student to the team average. The high number in the middle indicates all teams, that scored 0 in the individual points as well as in the team average."
   ]
  },
  {
   "cell_type": "code",
   "execution_count": 19,
   "metadata": {},
   "outputs": [],
   "source": [
    "gem[\"plott_diff\"] = gem[\"diff_to_team\"]\n",
    "gem[\"plott_diff\"] = gem[\"plott_diff\"].abs()\n",
    "gem[\"plott_diff\"] = gem[\"plott_diff\"].replace(\"0\", np.nan)"
   ]
  },
  {
   "cell_type": "code",
   "execution_count": 20,
   "metadata": {},
   "outputs": [
    {
     "data": {
      "text/plain": [
       "<matplotlib.text.Text at 0x1eaad0274e0>"
      ]
     },
     "execution_count": 20,
     "metadata": {},
     "output_type": "execute_result"
    },
    {
     "data": {
      "image/png": "[encoded data removed]",
      "text/plain": [
       "<matplotlib.figure.Figure at 0x1eaad22f710>"
      ]
     },
     "metadata": {},
     "output_type": "display_data"
    }
   ],
   "source": [
    "plt.hist(gem[\"plott_diff\"].dropna(), bins=10)\n",
    "plt.title(\"all students\")\n",
    "plt.xlabel(\"Absolute Difference between Team Members\")"
   ]
  },
  {
   "cell_type": "markdown",
   "metadata": {},
   "source": [
    "Same as above, only without the 0s and with only positive differences from single students to their team average."
   ]
  },
  {
   "cell_type": "code",
   "execution_count": 21,
   "metadata": {},
   "outputs": [
    {
     "data": {
      "text/plain": [
       "count    35.000000\n",
       "mean     36.042857\n",
       "std       9.055484\n",
       "min       9.000000\n",
       "25%      33.250000\n",
       "50%      36.000000\n",
       "75%      41.750000\n",
       "max      53.000000\n",
       "Name: team_avg, dtype: float64"
      ]
     },
     "execution_count": 21,
     "metadata": {},
     "output_type": "execute_result"
    }
   ],
   "source": [
    "gem[\"team_avg\"][gem[\"punkte\"] < 42.5].describe()"
   ]
  },
  {
   "cell_type": "code",
   "execution_count": 22,
   "metadata": {},
   "outputs": [
    {
     "data": {
      "text/plain": [
       "count    100.000000\n",
       "mean      56.395000\n",
       "std        9.597597\n",
       "min       31.250000\n",
       "25%       49.937500\n",
       "50%       57.125000\n",
       "75%       62.687500\n",
       "max       80.500000\n",
       "Name: team_avg, dtype: float64"
      ]
     },
     "execution_count": 22,
     "metadata": {},
     "output_type": "execute_result"
    }
   ],
   "source": [
    "gem[\"team_avg\"][gem[\"punkte\"] >= 42.5].describe()"
   ]
  },
  {
   "cell_type": "markdown",
   "metadata": {},
   "source": [
    "The team average of those students who passed the final exam seems to be higher (`mean = 59.19`) than the team average of those students who failed (`mean = 41.17`). Is there a systematic difference in teams between passing and failing students? Are they members of systematic different teams? Have a look at the t-test below."
   ]
  },
  {
   "cell_type": "code",
   "execution_count": 23,
   "metadata": {},
   "outputs": [
    {
     "data": {
      "text/plain": [
       "1.6524698419693926"
      ]
     },
     "execution_count": 23,
     "metadata": {},
     "output_type": "execute_result"
    }
   ],
   "source": [
    "stats.t.ppf(1-0.05, len(gem)-len(gem.columns))"
   ]
  },
  {
   "cell_type": "code",
   "execution_count": 24,
   "metadata": {},
   "outputs": [
    {
     "data": {
      "text/plain": [
       "Ttest_indResult(statistic=-10.902241097247618, pvalue=3.6133459807014933e-20)"
      ]
     },
     "execution_count": 24,
     "metadata": {},
     "output_type": "execute_result"
    }
   ],
   "source": [
    "ttest_ind(gem[\"team_avg\"][gem[\"punkte\"] < 50], gem[\"team_avg\"][gem[\"punkte\"] >= 50])"
   ]
  },
  {
   "cell_type": "markdown",
   "metadata": {},
   "source": [
    "As 1. the calculated critical t-value is higher than the statistical calculated value, and 2. the pvalue is smaller than the critical value of 0.05, we can reject the nullhypothesis, that the two groups are statistically the same, in other words: students who failed the exam are statistically (in their team averages of exam grades) different from students who passed the exam. This means that the teams were not constructed evenly among failing and passing students, on the contrary, the two groups tended to build groups seperately. Or, we can never exclude this possibility, a weaker student working together with a better student was \"forced\" to pass the exam, while other weaker students, trying to solve the problems on their own, were foredoomed and failed all together. "
   ]
  },
  {
   "cell_type": "markdown",
   "metadata": {},
   "source": [
    "Additional to the t-test you can see the difference for the passing and failing teams in this histogram. We see clearly two different curves. (I am not sure if this plotting is correct. My gut feeling says that it's not as easy as I want to have it here). "
   ]
  },
  {
   "cell_type": "markdown",
   "metadata": {},
   "source": [
    "# Are groupmembers very alike each other or do they differ?"
   ]
  },
  {
   "cell_type": "markdown",
   "metadata": {},
   "source": [
    "## #1"
   ]
  },
  {
   "cell_type": "code",
   "execution_count": 25,
   "metadata": {},
   "outputs": [
    {
     "data": {
      "text/plain": [
       "108"
      ]
     },
     "execution_count": 25,
     "metadata": {},
     "output_type": "execute_result"
    }
   ],
   "source": [
    "member1 = gem[gem[\"member_no\"] == 1]\n",
    "member1[\"student_id\"].count()"
   ]
  },
  {
   "cell_type": "code",
   "execution_count": 26,
   "metadata": {},
   "outputs": [
    {
     "data": {
      "text/plain": [
       "125"
      ]
     },
     "execution_count": 26,
     "metadata": {},
     "output_type": "execute_result"
    }
   ],
   "source": [
    "member2 = gem[gem[\"member_no\"] == 0]\n",
    "member2[\"student_id\"].count()"
   ]
  },
  {
   "cell_type": "code",
   "execution_count": 27,
   "metadata": {},
   "outputs": [],
   "source": [
    "new = pd.merge(member1, member2, on='team_id', how='outer')"
   ]
  },
  {
   "cell_type": "code",
   "execution_count": 28,
   "metadata": {},
   "outputs": [
    {
     "data": {
      "text/html": [
       "<div>\n",
       "<table border=\"1\" class=\"dataframe\">\n",
       "  <thead>\n",
       "    <tr style=\"text-align: right;\">\n",
       "      <th></th>\n",
       "      <th>punkte_x</th>\n",
       "      <th>punkte_y</th>\n",
       "    </tr>\n",
       "  </thead>\n",
       "  <tbody>\n",
       "    <tr>\n",
       "      <th>punkte_x</th>\n",
       "      <td>1.000000</td>\n",
       "      <td>0.285659</td>\n",
       "    </tr>\n",
       "    <tr>\n",
       "      <th>punkte_y</th>\n",
       "      <td>0.285659</td>\n",
       "      <td>1.000000</td>\n",
       "    </tr>\n",
       "  </tbody>\n",
       "</table>\n",
       "</div>"
      ],
      "text/plain": [
       "          punkte_x  punkte_y\n",
       "punkte_x  1.000000  0.285659\n",
       "punkte_y  0.285659  1.000000"
      ]
     },
     "execution_count": 28,
     "metadata": {},
     "output_type": "execute_result"
    }
   ],
   "source": [
    "new[[\"punkte_x\", \"punkte_y\"]].corr()"
   ]
  },
  {
   "cell_type": "code",
   "execution_count": 29,
   "metadata": {},
   "outputs": [
    {
     "data": {
      "image/png": "[encoded data removed]",
      "text/plain": [
       "<matplotlib.figure.Figure at 0x1eaad2b9cc0>"
      ]
     },
     "metadata": {},
     "output_type": "display_data"
    }
   ],
   "source": [
    "plt.title(\"all students\")\n",
    "plt.xlabel(\"Student Grades Compared to their Team Members\")\n",
    "plt.scatter(new[\"punkte_x\"], new[\"punkte_y\"])\n",
    "plt.scatter(new[\"punkte_y\"], new[\"punkte_x\"], c=\"blue\")\n",
    "plt.show()"
   ]
  },
  {
   "cell_type": "code",
   "execution_count": 30,
   "metadata": {},
   "outputs": [
    {
     "data": {
      "text/plain": [
       "1.6715527621536721"
      ]
     },
     "execution_count": 30,
     "metadata": {},
     "output_type": "execute_result"
    }
   ],
   "source": [
    "stats.t.ppf(1-0.05, len(new)-len(new.columns))"
   ]
  },
  {
   "cell_type": "code",
   "execution_count": 31,
   "metadata": {},
   "outputs": [
    {
     "data": {
      "text/plain": [
       "Ttest_indResult(statistic=-0.96517637794730504, pvalue=0.3891131010994201)"
      ]
     },
     "execution_count": 31,
     "metadata": {},
     "output_type": "execute_result"
    }
   ],
   "source": [
    "ttest_ind(new.dropna()[\"punkte_x\"], new.dropna()[\"punkte_y\"])"
   ]
  },
  {
   "cell_type": "markdown",
   "metadata": {},
   "source": [
    "## #2"
   ]
  },
  {
   "cell_type": "code",
   "execution_count": 32,
   "metadata": {},
   "outputs": [],
   "source": [
    "new[\"difference\"] = new[\"punkte_x\"] - new[\"punkte_y\"]"
   ]
  },
  {
   "cell_type": "code",
   "execution_count": 33,
   "metadata": {},
   "outputs": [
    {
     "data": {
      "text/plain": [
       "1.6720288881322787"
      ]
     },
     "execution_count": 33,
     "metadata": {},
     "output_type": "execute_result"
    }
   ],
   "source": [
    "stats.t.ppf(1-0.05, len(new)-len(new.columns))"
   ]
  },
  {
   "cell_type": "code",
   "execution_count": 34,
   "metadata": {},
   "outputs": [
    {
     "data": {
      "text/plain": [
       "Ttest_1sampResult(statistic=-0.68974894287267385, pvalue=0.56163352459968308)"
      ]
     },
     "execution_count": 34,
     "metadata": {},
     "output_type": "execute_result"
    }
   ],
   "source": [
    "stats.ttest_1samp(new.dropna()[\"difference\"], 0)"
   ]
  }
 ],
 "metadata": {
  "kernelspec": {
   "display_name": "Python 3",
   "language": "python",
   "name": "python3"
  },
  "language_info": {
   "codemirror_mode": {
    "name": "ipython",
    "version": 3
   },
   "file_extension": ".py",
   "mimetype": "text/x-python",
   "name": "python",
   "nbconvert_exporter": "python",
   "pygments_lexer": "ipython3",
   "version": "3.6.4"
  }
 },
 "nbformat": 4,
 "nbformat_minor": 2
}
