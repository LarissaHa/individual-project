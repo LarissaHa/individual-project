{
 "cells": [
  {
   "cell_type": "markdown",
   "metadata": {},
   "source": [
    "# 1 - Representativeness of the Collected Data - Tutorial\n",
    "\n",
    "The students had the possibility to decide if their actions in ILIAS should be tracked anonymously or with pseudonyms. A decision for pseudonyms would imply that the events in the data set (produced by the actions taken in ILIAS) can be connected to one person respectively ID as I don't know (due to privacy protection issues) which ID belongs to which \"real life\" person. As \"anonymous\" was actually the default option, only 10.7% of the students changed this setting to \"pseudonymous\". One aspect of the following report will therefore be: Is the data and the collected behaviour of the pseudonymous students representative for the whole course? Later on this will facilitate to generalise our findings for the whole course. \n",
    "\n",
    "**ideas for creating TIME variables**\n",
    "\n",
    "+ time difference\n",
    "+ point of time / day / week\n",
    "    + weekend y/n\n",
    "    + morning / noon / afternoon / night\n",
    "+ time left until exam\n",
    "\n",
    "**ideas for creating FILE variables**\n",
    "\n",
    "+ distribution over file types\n",
    "+ distribution over files?"
   ]
  },
  {
   "cell_type": "code",
   "execution_count": 1,
   "metadata": {},
   "outputs": [],
   "source": [
    "import pandas as pd\n",
    "import re \n",
    "import numpy as np\n",
    "from dateutil import parser\n",
    "from datetime import datetime\n",
    "import seaborn as sn\n",
    "import matplotlib.pyplot as plt\n",
    "from scipy.stats import mannwhitneyu\n",
    "from scipy.stats import ttest_ind"
   ]
  },
  {
   "cell_type": "code",
   "execution_count": 2,
   "metadata": {},
   "outputs": [
    {
     "data": {
      "text/html": [
       "<div>\n",
       "<table border=\"1\" class=\"dataframe\">\n",
       "  <thead>\n",
       "    <tr style=\"text-align: right;\">\n",
       "      <th></th>\n",
       "      <th>Unnamed: 0</th>\n",
       "      <th>event_id</th>\n",
       "      <th>student_id</th>\n",
       "      <th>resource_id</th>\n",
       "      <th>type_x</th>\n",
       "      <th>timestamp</th>\n",
       "      <th>content</th>\n",
       "      <th>createDate</th>\n",
       "      <th>description</th>\n",
       "      <th>leapId</th>\n",
       "      <th>name</th>\n",
       "      <th>numberOfEvents</th>\n",
       "      <th>type_y</th>\n",
       "      <th>uri</th>\n",
       "    </tr>\n",
       "  </thead>\n",
       "  <tbody>\n",
       "    <tr>\n",
       "      <th>0</th>\n",
       "      <td>0</td>\n",
       "      <td>292</td>\n",
       "      <td>2</td>\n",
       "      <td>39</td>\n",
       "      <td>click</td>\n",
       "      <td>19.09.2017 19:42</td>\n",
       "      <td>NaN</td>\n",
       "      <td>19.09.2017 17:42:21</td>\n",
       "      <td>NaN</td>\n",
       "      <td>39</td>\n",
       "      <td>Übungsblätter Teil 1</td>\n",
       "      <td>1443</td>\n",
       "      <td>exc</td>\n",
       "      <td>https://ilias.uni-mannheim.de/goto.php?target=...</td>\n",
       "    </tr>\n",
       "    <tr>\n",
       "      <th>1</th>\n",
       "      <td>1</td>\n",
       "      <td>293</td>\n",
       "      <td>2</td>\n",
       "      <td>39</td>\n",
       "      <td>click</td>\n",
       "      <td>19.09.2017 19:42</td>\n",
       "      <td>NaN</td>\n",
       "      <td>19.09.2017 17:42:21</td>\n",
       "      <td>NaN</td>\n",
       "      <td>39</td>\n",
       "      <td>Übungsblätter Teil 1</td>\n",
       "      <td>1443</td>\n",
       "      <td>exc</td>\n",
       "      <td>https://ilias.uni-mannheim.de/goto.php?target=...</td>\n",
       "    </tr>\n",
       "    <tr>\n",
       "      <th>2</th>\n",
       "      <td>2</td>\n",
       "      <td>294</td>\n",
       "      <td>2</td>\n",
       "      <td>39</td>\n",
       "      <td>click</td>\n",
       "      <td>19.09.2017 19:43</td>\n",
       "      <td>NaN</td>\n",
       "      <td>19.09.2017 17:42:21</td>\n",
       "      <td>NaN</td>\n",
       "      <td>39</td>\n",
       "      <td>Übungsblätter Teil 1</td>\n",
       "      <td>1443</td>\n",
       "      <td>exc</td>\n",
       "      <td>https://ilias.uni-mannheim.de/goto.php?target=...</td>\n",
       "    </tr>\n",
       "    <tr>\n",
       "      <th>3</th>\n",
       "      <td>3</td>\n",
       "      <td>295</td>\n",
       "      <td>2</td>\n",
       "      <td>39</td>\n",
       "      <td>click</td>\n",
       "      <td>19.09.2017 19:43</td>\n",
       "      <td>NaN</td>\n",
       "      <td>19.09.2017 17:42:21</td>\n",
       "      <td>NaN</td>\n",
       "      <td>39</td>\n",
       "      <td>Übungsblätter Teil 1</td>\n",
       "      <td>1443</td>\n",
       "      <td>exc</td>\n",
       "      <td>https://ilias.uni-mannheim.de/goto.php?target=...</td>\n",
       "    </tr>\n",
       "    <tr>\n",
       "      <th>4</th>\n",
       "      <td>4</td>\n",
       "      <td>296</td>\n",
       "      <td>2</td>\n",
       "      <td>39</td>\n",
       "      <td>click</td>\n",
       "      <td>19.09.2017 19:43</td>\n",
       "      <td>NaN</td>\n",
       "      <td>19.09.2017 17:42:21</td>\n",
       "      <td>NaN</td>\n",
       "      <td>39</td>\n",
       "      <td>Übungsblätter Teil 1</td>\n",
       "      <td>1443</td>\n",
       "      <td>exc</td>\n",
       "      <td>https://ilias.uni-mannheim.de/goto.php?target=...</td>\n",
       "    </tr>\n",
       "  </tbody>\n",
       "</table>\n",
       "</div>"
      ],
      "text/plain": [
       "   Unnamed: 0  event_id  student_id  resource_id type_x         timestamp  \\\n",
       "0           0       292           2           39  click  19.09.2017 19:42   \n",
       "1           1       293           2           39  click  19.09.2017 19:42   \n",
       "2           2       294           2           39  click  19.09.2017 19:43   \n",
       "3           3       295           2           39  click  19.09.2017 19:43   \n",
       "4           4       296           2           39  click  19.09.2017 19:43   \n",
       "\n",
       "  content           createDate description  leapId                  name  \\\n",
       "0     NaN  19.09.2017 17:42:21         NaN      39  Übungsblätter Teil 1   \n",
       "1     NaN  19.09.2017 17:42:21         NaN      39  Übungsblätter Teil 1   \n",
       "2     NaN  19.09.2017 17:42:21         NaN      39  Übungsblätter Teil 1   \n",
       "3     NaN  19.09.2017 17:42:21         NaN      39  Übungsblätter Teil 1   \n",
       "4     NaN  19.09.2017 17:42:21         NaN      39  Übungsblätter Teil 1   \n",
       "\n",
       "   numberOfEvents type_y                                                uri  \n",
       "0            1443    exc  https://ilias.uni-mannheim.de/goto.php?target=...  \n",
       "1            1443    exc  https://ilias.uni-mannheim.de/goto.php?target=...  \n",
       "2            1443    exc  https://ilias.uni-mannheim.de/goto.php?target=...  \n",
       "3            1443    exc  https://ilias.uni-mannheim.de/goto.php?target=...  \n",
       "4            1443    exc  https://ilias.uni-mannheim.de/goto.php?target=...  "
      ]
     },
     "execution_count": 2,
     "metadata": {},
     "output_type": "execute_result"
    }
   ],
   "source": [
    "results = pd.read_csv('tut-events-and-resources.csv', delimiter=\";\", encoding=\"utf-8\")\n",
    "results.head()"
   ]
  },
  {
   "cell_type": "markdown",
   "metadata": {},
   "source": [
    "## date parsing and attribute creation"
   ]
  },
  {
   "cell_type": "code",
   "execution_count": 3,
   "metadata": {},
   "outputs": [],
   "source": [
    "def parsing_with_sec(date_str):\n",
    "    parsed = datetime.strptime(date_str, \"%d.%m.%Y %H:%M:%S\")\n",
    "    return parsed\n",
    "def parsing_without_sec(date_str):\n",
    "    parsed = datetime.strptime(date_str, \"%d.%m.%Y %H:%M\")\n",
    "    return parsed"
   ]
  },
  {
   "cell_type": "code",
   "execution_count": 4,
   "metadata": {},
   "outputs": [],
   "source": [
    "results[\"timestamp\"] = results[\"timestamp\"].apply(parsing_without_sec)\n",
    "results[\"createDate\"] = results[\"createDate\"].apply(parsing_with_sec)\n",
    "\n",
    "results[\"time_diff\"] = results[\"timestamp\"] - results[\"createDate\"]"
   ]
  },
  {
   "cell_type": "code",
   "execution_count": 5,
   "metadata": {},
   "outputs": [],
   "source": [
    "exam1 = datetime.strptime(\"2017-12-12 17:00\", \"%Y-%m-%d %H:%M\")\n",
    "results[\"time_to_exam1\"] = exam1 - results[\"timestamp\"]\n",
    "exam2 = datetime.strptime(\"2018-02-07 15:00\", \"%Y-%m-%d %H:%M\")\n",
    "results[\"time_to_exam2\"] = exam2 - results[\"timestamp\"]"
   ]
  },
  {
   "cell_type": "code",
   "execution_count": 6,
   "metadata": {},
   "outputs": [],
   "source": [
    "def weekdaynumber(date):\n",
    "    return date.weekday()\n",
    "\n",
    "results[\"weekday\"] = results[\"timestamp\"].apply(weekdaynumber) + 1    "
   ]
  },
  {
   "cell_type": "code",
   "execution_count": 7,
   "metadata": {},
   "outputs": [],
   "source": [
    "def part_of_day(date):\n",
    "    return date.hour\n",
    "\n",
    "results[\"part_of_day\"] = results[\"timestamp\"].apply(part_of_day)"
   ]
  },
  {
   "cell_type": "code",
   "execution_count": 8,
   "metadata": {},
   "outputs": [],
   "source": [
    "def weeknumber(date):\n",
    "    return date.isocalendar()[1]\n",
    "\n",
    "results[\"weeknumber\"] = results[\"timestamp\"].apply(weeknumber)"
   ]
  },
  {
   "cell_type": "code",
   "execution_count": 9,
   "metadata": {},
   "outputs": [],
   "source": [
    "results[\"status\"] = np.where(results[\"student_id\"] == 2, 'anonym', 'pseudonym')"
   ]
  },
  {
   "cell_type": "code",
   "execution_count": 10,
   "metadata": {},
   "outputs": [],
   "source": [
    "pseudonym = results[results['student_id'] != 2]\n",
    "anonym = results[results['student_id'] == 2]"
   ]
  },
  {
   "cell_type": "code",
   "execution_count": 11,
   "metadata": {},
   "outputs": [
    {
     "data": {
      "text/html": [
       "<div>\n",
       "<table border=\"1\" class=\"dataframe\">\n",
       "  <thead>\n",
       "    <tr style=\"text-align: right;\">\n",
       "      <th></th>\n",
       "      <th>Unnamed: 0</th>\n",
       "      <th>event_id</th>\n",
       "      <th>student_id</th>\n",
       "      <th>resource_id</th>\n",
       "      <th>leapId</th>\n",
       "      <th>numberOfEvents</th>\n",
       "      <th>time_diff</th>\n",
       "      <th>time_to_exam1</th>\n",
       "      <th>time_to_exam2</th>\n",
       "      <th>weekday</th>\n",
       "      <th>part_of_day</th>\n",
       "      <th>weeknumber</th>\n",
       "    </tr>\n",
       "  </thead>\n",
       "  <tbody>\n",
       "    <tr>\n",
       "      <th>count</th>\n",
       "      <td>5995.000000</td>\n",
       "      <td>5995.000000</td>\n",
       "      <td>5995.000000</td>\n",
       "      <td>5995.000000</td>\n",
       "      <td>5995.000000</td>\n",
       "      <td>5995.000000</td>\n",
       "      <td>5995</td>\n",
       "      <td>5995</td>\n",
       "      <td>5995</td>\n",
       "      <td>5995.000000</td>\n",
       "      <td>5995.000000</td>\n",
       "      <td>5995.000000</td>\n",
       "    </tr>\n",
       "    <tr>\n",
       "      <th>mean</th>\n",
       "      <td>33963.192494</td>\n",
       "      <td>64611.739950</td>\n",
       "      <td>243.038699</td>\n",
       "      <td>134.323937</td>\n",
       "      <td>134.323937</td>\n",
       "      <td>3161.442202</td>\n",
       "      <td>31 days 20:17:48.448373</td>\n",
       "      <td>45 days 10:45:41.814845</td>\n",
       "      <td>102 days 08:45:41.814845</td>\n",
       "      <td>3.459216</td>\n",
       "      <td>14.161968</td>\n",
       "      <td>41.673561</td>\n",
       "    </tr>\n",
       "    <tr>\n",
       "      <th>std</th>\n",
       "      <td>18338.821068</td>\n",
       "      <td>35385.410558</td>\n",
       "      <td>111.347963</td>\n",
       "      <td>130.892229</td>\n",
       "      <td>130.892229</td>\n",
       "      <td>3040.833028</td>\n",
       "      <td>26 days 00:11:59.750715</td>\n",
       "      <td>26 days 14:32:21.679749</td>\n",
       "      <td>26 days 14:32:21.679749</td>\n",
       "      <td>2.104414</td>\n",
       "      <td>5.812378</td>\n",
       "      <td>7.750469</td>\n",
       "    </tr>\n",
       "    <tr>\n",
       "      <th>min</th>\n",
       "      <td>106.000000</td>\n",
       "      <td>708.000000</td>\n",
       "      <td>40.000000</td>\n",
       "      <td>39.000000</td>\n",
       "      <td>39.000000</td>\n",
       "      <td>2.000000</td>\n",
       "      <td>-1 days +23:59:05</td>\n",
       "      <td>-42 days +20:23:00</td>\n",
       "      <td>15 days 18:23:00</td>\n",
       "      <td>1.000000</td>\n",
       "      <td>0.000000</td>\n",
       "      <td>1.000000</td>\n",
       "    </tr>\n",
       "    <tr>\n",
       "      <th>25%</th>\n",
       "      <td>17886.500000</td>\n",
       "      <td>34167.500000</td>\n",
       "      <td>185.000000</td>\n",
       "      <td>50.000000</td>\n",
       "      <td>50.000000</td>\n",
       "      <td>1417.000000</td>\n",
       "      <td>11 days 06:31:43</td>\n",
       "      <td>29 days 03:25:00</td>\n",
       "      <td>86 days 01:25:00</td>\n",
       "      <td>1.000000</td>\n",
       "      <td>12.000000</td>\n",
       "      <td>40.000000</td>\n",
       "    </tr>\n",
       "    <tr>\n",
       "      <th>50%</th>\n",
       "      <td>34431.000000</td>\n",
       "      <td>65641.000000</td>\n",
       "      <td>283.000000</td>\n",
       "      <td>75.000000</td>\n",
       "      <td>75.000000</td>\n",
       "      <td>2065.000000</td>\n",
       "      <td>26 days 15:24:27</td>\n",
       "      <td>49 days 04:19:00</td>\n",
       "      <td>106 days 02:19:00</td>\n",
       "      <td>3.000000</td>\n",
       "      <td>15.000000</td>\n",
       "      <td>43.000000</td>\n",
       "    </tr>\n",
       "    <tr>\n",
       "      <th>75%</th>\n",
       "      <td>48456.500000</td>\n",
       "      <td>88340.500000</td>\n",
       "      <td>332.000000</td>\n",
       "      <td>102.000000</td>\n",
       "      <td>102.000000</td>\n",
       "      <td>3740.000000</td>\n",
       "      <td>47 days 01:53:43</td>\n",
       "      <td>67 days 17:43:00</td>\n",
       "      <td>124 days 15:43:00</td>\n",
       "      <td>5.000000</td>\n",
       "      <td>18.000000</td>\n",
       "      <td>45.000000</td>\n",
       "    </tr>\n",
       "    <tr>\n",
       "      <th>max</th>\n",
       "      <td>69804.000000</td>\n",
       "      <td>143441.000000</td>\n",
       "      <td>396.000000</td>\n",
       "      <td>608.000000</td>\n",
       "      <td>608.000000</td>\n",
       "      <td>9583.000000</td>\n",
       "      <td>125 days 02:46:12</td>\n",
       "      <td>83 days 19:23:00</td>\n",
       "      <td>140 days 17:23:00</td>\n",
       "      <td>7.000000</td>\n",
       "      <td>23.000000</td>\n",
       "      <td>52.000000</td>\n",
       "    </tr>\n",
       "  </tbody>\n",
       "</table>\n",
       "</div>"
      ],
      "text/plain": [
       "         Unnamed: 0       event_id   student_id  resource_id       leapId  \\\n",
       "count   5995.000000    5995.000000  5995.000000  5995.000000  5995.000000   \n",
       "mean   33963.192494   64611.739950   243.038699   134.323937   134.323937   \n",
       "std    18338.821068   35385.410558   111.347963   130.892229   130.892229   \n",
       "min      106.000000     708.000000    40.000000    39.000000    39.000000   \n",
       "25%    17886.500000   34167.500000   185.000000    50.000000    50.000000   \n",
       "50%    34431.000000   65641.000000   283.000000    75.000000    75.000000   \n",
       "75%    48456.500000   88340.500000   332.000000   102.000000   102.000000   \n",
       "max    69804.000000  143441.000000   396.000000   608.000000   608.000000   \n",
       "\n",
       "       numberOfEvents                time_diff            time_to_exam1  \\\n",
       "count     5995.000000                     5995                     5995   \n",
       "mean      3161.442202  31 days 20:17:48.448373  45 days 10:45:41.814845   \n",
       "std       3040.833028  26 days 00:11:59.750715  26 days 14:32:21.679749   \n",
       "min          2.000000        -1 days +23:59:05       -42 days +20:23:00   \n",
       "25%       1417.000000         11 days 06:31:43         29 days 03:25:00   \n",
       "50%       2065.000000         26 days 15:24:27         49 days 04:19:00   \n",
       "75%       3740.000000         47 days 01:53:43         67 days 17:43:00   \n",
       "max       9583.000000        125 days 02:46:12         83 days 19:23:00   \n",
       "\n",
       "                  time_to_exam2      weekday  part_of_day   weeknumber  \n",
       "count                      5995  5995.000000  5995.000000  5995.000000  \n",
       "mean   102 days 08:45:41.814845     3.459216    14.161968    41.673561  \n",
       "std     26 days 14:32:21.679749     2.104414     5.812378     7.750469  \n",
       "min            15 days 18:23:00     1.000000     0.000000     1.000000  \n",
       "25%            86 days 01:25:00     1.000000    12.000000    40.000000  \n",
       "50%           106 days 02:19:00     3.000000    15.000000    43.000000  \n",
       "75%           124 days 15:43:00     5.000000    18.000000    45.000000  \n",
       "max           140 days 17:23:00     7.000000    23.000000    52.000000  "
      ]
     },
     "execution_count": 11,
     "metadata": {},
     "output_type": "execute_result"
    }
   ],
   "source": [
    "pseudonym.describe()"
   ]
  },
  {
   "cell_type": "code",
   "execution_count": 12,
   "metadata": {},
   "outputs": [
    {
     "data": {
      "text/html": [
       "<div>\n",
       "<table border=\"1\" class=\"dataframe\">\n",
       "  <thead>\n",
       "    <tr style=\"text-align: right;\">\n",
       "      <th></th>\n",
       "      <th>Unnamed: 0</th>\n",
       "      <th>event_id</th>\n",
       "      <th>student_id</th>\n",
       "      <th>resource_id</th>\n",
       "      <th>leapId</th>\n",
       "      <th>numberOfEvents</th>\n",
       "      <th>time_diff</th>\n",
       "      <th>time_to_exam1</th>\n",
       "      <th>time_to_exam2</th>\n",
       "      <th>weekday</th>\n",
       "      <th>part_of_day</th>\n",
       "      <th>weeknumber</th>\n",
       "    </tr>\n",
       "  </thead>\n",
       "  <tbody>\n",
       "    <tr>\n",
       "      <th>count</th>\n",
       "      <td>64619.000000</td>\n",
       "      <td>64619.000000</td>\n",
       "      <td>64619.0</td>\n",
       "      <td>64619.000000</td>\n",
       "      <td>64619.000000</td>\n",
       "      <td>64619.000000</td>\n",
       "      <td>64619</td>\n",
       "      <td>64619</td>\n",
       "      <td>64619</td>\n",
       "      <td>64619.000000</td>\n",
       "      <td>64619.000000</td>\n",
       "      <td>64619.000000</td>\n",
       "    </tr>\n",
       "    <tr>\n",
       "      <th>mean</th>\n",
       "      <td>35431.124778</td>\n",
       "      <td>68005.977143</td>\n",
       "      <td>2.0</td>\n",
       "      <td>146.133583</td>\n",
       "      <td>146.133583</td>\n",
       "      <td>2806.269627</td>\n",
       "      <td>33 days 03:11:26.630124</td>\n",
       "      <td>42 days 14:44:12.912920</td>\n",
       "      <td>99 days 12:44:12.912920</td>\n",
       "      <td>3.654451</td>\n",
       "      <td>14.567217</td>\n",
       "      <td>41.823752</td>\n",
       "    </tr>\n",
       "    <tr>\n",
       "      <th>std</th>\n",
       "      <td>20559.817439</td>\n",
       "      <td>40156.757750</td>\n",
       "      <td>0.0</td>\n",
       "      <td>143.223064</td>\n",
       "      <td>143.223064</td>\n",
       "      <td>2904.702566</td>\n",
       "      <td>28 days 13:21:32.388042</td>\n",
       "      <td>29 days 17:54:42.085395</td>\n",
       "      <td>29 days 17:54:42.085395</td>\n",
       "      <td>2.179491</td>\n",
       "      <td>5.567615</td>\n",
       "      <td>8.362828</td>\n",
       "    </tr>\n",
       "    <tr>\n",
       "      <th>min</th>\n",
       "      <td>0.000000</td>\n",
       "      <td>292.000000</td>\n",
       "      <td>2.0</td>\n",
       "      <td>39.000000</td>\n",
       "      <td>39.000000</td>\n",
       "      <td>1.000000</td>\n",
       "      <td>-1 days +23:50:24</td>\n",
       "      <td>-45 days +00:26:00</td>\n",
       "      <td>11 days 22:26:00</td>\n",
       "      <td>1.000000</td>\n",
       "      <td>0.000000</td>\n",
       "      <td>1.000000</td>\n",
       "    </tr>\n",
       "    <tr>\n",
       "      <th>25%</th>\n",
       "      <td>17599.500000</td>\n",
       "      <td>33418.500000</td>\n",
       "      <td>2.0</td>\n",
       "      <td>50.000000</td>\n",
       "      <td>50.000000</td>\n",
       "      <td>988.000000</td>\n",
       "      <td>9 days 17:25:09.500000</td>\n",
       "      <td>21 days 07:04:00</td>\n",
       "      <td>78 days 05:04:00</td>\n",
       "      <td>1.000000</td>\n",
       "      <td>12.000000</td>\n",
       "      <td>40.000000</td>\n",
       "    </tr>\n",
       "    <tr>\n",
       "      <th>50%</th>\n",
       "      <td>35452.000000</td>\n",
       "      <td>67857.000000</td>\n",
       "      <td>2.0</td>\n",
       "      <td>75.000000</td>\n",
       "      <td>75.000000</td>\n",
       "      <td>1836.000000</td>\n",
       "      <td>26 days 00:12:01</td>\n",
       "      <td>47 days 22:07:00</td>\n",
       "      <td>104 days 20:07:00</td>\n",
       "      <td>3.000000</td>\n",
       "      <td>15.000000</td>\n",
       "      <td>43.000000</td>\n",
       "    </tr>\n",
       "    <tr>\n",
       "      <th>75%</th>\n",
       "      <td>53519.500000</td>\n",
       "      <td>98160.500000</td>\n",
       "      <td>2.0</td>\n",
       "      <td>219.000000</td>\n",
       "      <td>219.000000</td>\n",
       "      <td>2829.000000</td>\n",
       "      <td>49 days 23:04:12</td>\n",
       "      <td>67 days 23:21:00</td>\n",
       "      <td>124 days 21:21:00</td>\n",
       "      <td>6.000000</td>\n",
       "      <td>18.000000</td>\n",
       "      <td>46.000000</td>\n",
       "    </tr>\n",
       "    <tr>\n",
       "      <th>max</th>\n",
       "      <td>70613.000000</td>\n",
       "      <td>145376.000000</td>\n",
       "      <td>2.0</td>\n",
       "      <td>626.000000</td>\n",
       "      <td>626.000000</td>\n",
       "      <td>9583.000000</td>\n",
       "      <td>128 days 22:42:12</td>\n",
       "      <td>83 days 22:53:00</td>\n",
       "      <td>140 days 20:53:00</td>\n",
       "      <td>7.000000</td>\n",
       "      <td>23.000000</td>\n",
       "      <td>52.000000</td>\n",
       "    </tr>\n",
       "  </tbody>\n",
       "</table>\n",
       "</div>"
      ],
      "text/plain": [
       "         Unnamed: 0       event_id  student_id   resource_id        leapId  \\\n",
       "count  64619.000000   64619.000000     64619.0  64619.000000  64619.000000   \n",
       "mean   35431.124778   68005.977143         2.0    146.133583    146.133583   \n",
       "std    20559.817439   40156.757750         0.0    143.223064    143.223064   \n",
       "min        0.000000     292.000000         2.0     39.000000     39.000000   \n",
       "25%    17599.500000   33418.500000         2.0     50.000000     50.000000   \n",
       "50%    35452.000000   67857.000000         2.0     75.000000     75.000000   \n",
       "75%    53519.500000   98160.500000         2.0    219.000000    219.000000   \n",
       "max    70613.000000  145376.000000         2.0    626.000000    626.000000   \n",
       "\n",
       "       numberOfEvents                time_diff            time_to_exam1  \\\n",
       "count    64619.000000                    64619                    64619   \n",
       "mean      2806.269627  33 days 03:11:26.630124  42 days 14:44:12.912920   \n",
       "std       2904.702566  28 days 13:21:32.388042  29 days 17:54:42.085395   \n",
       "min          1.000000        -1 days +23:50:24       -45 days +00:26:00   \n",
       "25%        988.000000   9 days 17:25:09.500000         21 days 07:04:00   \n",
       "50%       1836.000000         26 days 00:12:01         47 days 22:07:00   \n",
       "75%       2829.000000         49 days 23:04:12         67 days 23:21:00   \n",
       "max       9583.000000        128 days 22:42:12         83 days 22:53:00   \n",
       "\n",
       "                 time_to_exam2       weekday   part_of_day    weeknumber  \n",
       "count                    64619  64619.000000  64619.000000  64619.000000  \n",
       "mean   99 days 12:44:12.912920      3.654451     14.567217     41.823752  \n",
       "std    29 days 17:54:42.085395      2.179491      5.567615      8.362828  \n",
       "min           11 days 22:26:00      1.000000      0.000000      1.000000  \n",
       "25%           78 days 05:04:00      1.000000     12.000000     40.000000  \n",
       "50%          104 days 20:07:00      3.000000     15.000000     43.000000  \n",
       "75%          124 days 21:21:00      6.000000     18.000000     46.000000  \n",
       "max          140 days 20:53:00      7.000000     23.000000     52.000000  "
      ]
     },
     "execution_count": 12,
     "metadata": {},
     "output_type": "execute_result"
    }
   ],
   "source": [
    "anonym.describe()"
   ]
  },
  {
   "cell_type": "markdown",
   "metadata": {},
   "source": [
    "### visualizing event date differences"
   ]
  },
  {
   "cell_type": "code",
   "execution_count": 13,
   "metadata": {},
   "outputs": [],
   "source": [
    "def to_seconds(delta):\n",
    "    return delta.total_seconds()"
   ]
  },
  {
   "cell_type": "code",
   "execution_count": 14,
   "metadata": {},
   "outputs": [
    {
     "data": {
      "text/plain": [
       "<matplotlib.text.Text at 0x242700ac470>"
      ]
     },
     "execution_count": 14,
     "metadata": {},
     "output_type": "execute_result"
    },
    {
     "data": {
      "image/png": "[encoded data removed]",
      "text/plain": [
       "<matplotlib.figure.Figure at 0x24270f92438>"
      ]
     },
     "metadata": {},
     "output_type": "display_data"
    }
   ],
   "source": [
    "plt.hist(results[\"time_diff\"].apply(to_seconds), normed=True, bins=90)\n",
    "plt.axvline(x=0, linewidth=2, color='k')\n",
    "plt.title(\"all students\")\n",
    "plt.xlabel(\"Time Difference\")"
   ]
  },
  {
   "cell_type": "code",
   "execution_count": 15,
   "metadata": {},
   "outputs": [
    {
     "data": {
      "image/png": "[encoded data removed]",
      "text/plain": [
       "<matplotlib.figure.Figure at 0x24270144470>"
      ]
     },
     "metadata": {},
     "output_type": "display_data"
    }
   ],
   "source": [
    "plt.subplot(311)\n",
    "plt.hist(results[\"time_diff\"].apply(to_seconds), normed=True, bins=90)\n",
    "plt.axvline(x=0, linewidth=2, color='k')\n",
    "plt.title(\"all students\")\n",
    "plt.xlabel(\"Time Difference\")\n",
    "\n",
    "plt.subplot(312)\n",
    "plt.hist(anonym[\"time_diff\"].apply(to_seconds), normed=True, bins=90)\n",
    "plt.axvline(x=0, linewidth=2, color='k')\n",
    "plt.title(\"anonymized\")\n",
    "plt.xlabel(\"Time Difference\")\n",
    "\n",
    "plt.subplot(313)\n",
    "plt.hist(pseudonym[\"time_diff\"].apply(to_seconds), normed=True, bins=90)\n",
    "plt.axvline(x=0, linewidth=2, color='k')\n",
    "plt.title(\"pseudonymized\")\n",
    "plt.xlabel(\"Time Difference\")\n",
    "plt.tight_layout()"
   ]
  },
  {
   "cell_type": "code",
   "execution_count": 16,
   "metadata": {},
   "outputs": [
    {
     "data": {
      "text/plain": [
       "MannwhitneyuResult(statistic=193162546.0, pvalue=0.72412296711418866)"
      ]
     },
     "execution_count": 16,
     "metadata": {},
     "output_type": "execute_result"
    }
   ],
   "source": [
    "mannwhitneyu(anonym[\"time_diff\"].apply(to_seconds), pseudonym[\"time_diff\"].apply(to_seconds), alternative='two-sided')"
   ]
  },
  {
   "cell_type": "code",
   "execution_count": 17,
   "metadata": {},
   "outputs": [
    {
     "data": {
      "text/plain": [
       "Ttest_indResult(statistic=3.6343101271221796, pvalue=0.00028061507869550374)"
      ]
     },
     "execution_count": 17,
     "metadata": {},
     "output_type": "execute_result"
    }
   ],
   "source": [
    "ttest_ind(anonym[\"time_diff\"].apply(to_seconds), pseudonym[\"time_diff\"].apply(to_seconds), equal_var=False)"
   ]
  },
  {
   "cell_type": "code",
   "execution_count": 18,
   "metadata": {},
   "outputs": [
    {
     "data": {
      "text/plain": [
       "<matplotlib.text.Text at 0x24272699390>"
      ]
     },
     "execution_count": 18,
     "metadata": {},
     "output_type": "execute_result"
    },
    {
     "data": {
      "image/png": "[encoded data removed]",
      "text/plain": [
       "<matplotlib.figure.Figure at 0x242705370f0>"
      ]
     },
     "metadata": {},
     "output_type": "display_data"
    }
   ],
   "source": [
    "plt.hist(results[\"time_to_exam1\"].apply(to_seconds), normed=True, bins=90)\n",
    "plt.axvline(x=0, linewidth=2, color='k')\n",
    "plt.title(\"all students\")\n",
    "plt.xlabel(\"Time to first Exam\")"
   ]
  },
  {
   "cell_type": "code",
   "execution_count": 19,
   "metadata": {},
   "outputs": [
    {
     "data": {
      "image/png": "[encoded data removed]",
      "text/plain": [
       "<matplotlib.figure.Figure at 0x242713ae0b8>"
      ]
     },
     "metadata": {},
     "output_type": "display_data"
    }
   ],
   "source": [
    "plt.subplot(311)\n",
    "plt.hist(results[\"time_to_exam1\"].apply(to_seconds), normed=True, bins=90)\n",
    "plt.axvline(x=0, linewidth=2, color='k')\n",
    "plt.title(\"all students\")\n",
    "plt.xlabel(\"Time to first Exam\")\n",
    "\n",
    "plt.subplot(312)\n",
    "plt.hist(anonym[\"time_to_exam1\"].apply(to_seconds), normed=True, bins=90)\n",
    "plt.axvline(x=0, linewidth=2, color='k')\n",
    "plt.title(\"anonymized\")\n",
    "plt.xlabel(\"Time to first Exam\")\n",
    "\n",
    "plt.subplot(313)\n",
    "plt.hist(pseudonym[\"time_to_exam1\"].apply(to_seconds), normed=True, bins=90)\n",
    "plt.axvline(x=0, linewidth=2, color='k')\n",
    "plt.title(\"pseudonymized\")\n",
    "plt.xlabel(\"Time to first Exam\")\n",
    "plt.tight_layout()"
   ]
  },
  {
   "cell_type": "code",
   "execution_count": 20,
   "metadata": {},
   "outputs": [
    {
     "data": {
      "text/plain": [
       "MannwhitneyuResult(statistic=185640633.0, pvalue=9.5617058797114649e-08)"
      ]
     },
     "execution_count": 20,
     "metadata": {},
     "output_type": "execute_result"
    }
   ],
   "source": [
    "mannwhitneyu(anonym[\"time_to_exam1\"].apply(to_seconds), pseudonym[\"time_to_exam1\"].apply(to_seconds), alternative='two-sided')"
   ]
  },
  {
   "cell_type": "code",
   "execution_count": 21,
   "metadata": {},
   "outputs": [
    {
     "data": {
      "text/plain": [
       "Ttest_indResult(statistic=-7.8081370225725921, pvalue=6.5965260605769901e-15)"
      ]
     },
     "execution_count": 21,
     "metadata": {},
     "output_type": "execute_result"
    }
   ],
   "source": [
    "ttest_ind(anonym[\"time_to_exam1\"].apply(to_seconds), pseudonym[\"time_to_exam1\"].apply(to_seconds), equal_var=False)"
   ]
  },
  {
   "cell_type": "markdown",
   "metadata": {},
   "source": [
    "## weekday and part of day"
   ]
  },
  {
   "cell_type": "code",
   "execution_count": 22,
   "metadata": {},
   "outputs": [
    {
     "data": {
      "text/plain": [
       "<matplotlib.text.Text at 0x2427262aa58>"
      ]
     },
     "execution_count": 22,
     "metadata": {},
     "output_type": "execute_result"
    },
    {
     "data": {
      "image/png": "[encoded data removed]",
      "text/plain": [
       "<matplotlib.figure.Figure at 0x24271297a58>"
      ]
     },
     "metadata": {},
     "output_type": "display_data"
    }
   ],
   "source": [
    "plt.hist(results[\"weekday\"], normed=True, bins=7)\n",
    "plt.title(\"all students\")\n",
    "plt.xlabel(\"Weekday\")"
   ]
  },
  {
   "cell_type": "code",
   "execution_count": 23,
   "metadata": {},
   "outputs": [
    {
     "data": {
      "text/plain": [
       "<matplotlib.text.Text at 0x24272859a90>"
      ]
     },
     "execution_count": 23,
     "metadata": {},
     "output_type": "execute_result"
    },
    {
     "data": {
      "image/png": "[encoded data removed]",
      "text/plain": [
       "<matplotlib.figure.Figure at 0x24271297be0>"
      ]
     },
     "metadata": {},
     "output_type": "display_data"
    }
   ],
   "source": [
    "plt.subplot(131)\n",
    "plt.hist(results[\"weekday\"], normed=True, bins=7)\n",
    "plt.title(\"all students\")\n",
    "plt.xlabel(\"Weekday\")\n",
    "\n",
    "plt.subplot(132)\n",
    "plt.hist(anonym[\"weekday\"], normed=True, bins=7)\n",
    "plt.title(\"anonymized\")\n",
    "plt.xlabel(\"Weekday\")\n",
    "\n",
    "plt.subplot(133)\n",
    "plt.hist(pseudonym[\"weekday\"], normed=True, bins=7)\n",
    "plt.title(\"pseudonymized\")\n",
    "plt.xlabel(\"Weekday\")"
   ]
  },
  {
   "cell_type": "code",
   "execution_count": 24,
   "metadata": {},
   "outputs": [
    {
     "data": {
      "text/plain": [
       "MannwhitneyuResult(statistic=203504590.0, pvalue=4.1985737932988028e-11)"
      ]
     },
     "execution_count": 24,
     "metadata": {},
     "output_type": "execute_result"
    }
   ],
   "source": [
    "mannwhitneyu(anonym[\"weekday\"], pseudonym[\"weekday\"], alternative='two-sided')"
   ]
  },
  {
   "cell_type": "code",
   "execution_count": 25,
   "metadata": {},
   "outputs": [
    {
     "data": {
      "text/plain": [
       "Ttest_indResult(statistic=6.8504968577984151, pvalue=7.963777605212744e-12)"
      ]
     },
     "execution_count": 25,
     "metadata": {},
     "output_type": "execute_result"
    }
   ],
   "source": [
    "ttest_ind(anonym[\"weekday\"], pseudonym[\"weekday\"], equal_var=False)"
   ]
  },
  {
   "cell_type": "code",
   "execution_count": 26,
   "metadata": {},
   "outputs": [
    {
     "data": {
      "text/plain": [
       "<matplotlib.text.Text at 0x242713cf9e8>"
      ]
     },
     "execution_count": 26,
     "metadata": {},
     "output_type": "execute_result"
    },
    {
     "data": {
      "image/png": "[encoded data removed]",
      "text/plain": [
       "<matplotlib.figure.Figure at 0x242728ec898>"
      ]
     },
     "metadata": {},
     "output_type": "display_data"
    }
   ],
   "source": [
    "plt.hist(results[\"part_of_day\"], normed=True, bins=24)\n",
    "plt.title(\"all students\")\n",
    "plt.xlabel(\"Hour of Day\")"
   ]
  },
  {
   "cell_type": "code",
   "execution_count": 27,
   "metadata": {},
   "outputs": [
    {
     "data": {
      "text/plain": [
       "<matplotlib.text.Text at 0x2427120bef0>"
      ]
     },
     "execution_count": 27,
     "metadata": {},
     "output_type": "execute_result"
    },
    {
     "data": {
      "image/png": "[encoded data removed]",
      "text/plain": [
       "<matplotlib.figure.Figure at 0x242729637b8>"
      ]
     },
     "metadata": {},
     "output_type": "display_data"
    }
   ],
   "source": [
    "plt.subplot(131)\n",
    "plt.hist(results[\"part_of_day\"], normed=True, bins=24)\n",
    "plt.title(\"all students\")\n",
    "plt.xlabel(\"Hour of Day\")\n",
    "\n",
    "plt.subplot(132)\n",
    "plt.hist(anonym[\"part_of_day\"], normed=True, bins=24)\n",
    "plt.title(\"anonymized\")\n",
    "plt.xlabel(\"Hour of Day\")\n",
    "\n",
    "plt.subplot(133)\n",
    "plt.hist(pseudonym[\"part_of_day\"], normed=True, bins=24)\n",
    "plt.title(\"pseudonymized\")\n",
    "plt.xlabel(\"Hour of Day\")"
   ]
  },
  {
   "cell_type": "code",
   "execution_count": 28,
   "metadata": {},
   "outputs": [
    {
     "data": {
      "text/plain": [
       "MannwhitneyuResult(statistic=199508517.0, pvalue=0.00011409245988907217)"
      ]
     },
     "execution_count": 28,
     "metadata": {},
     "output_type": "execute_result"
    }
   ],
   "source": [
    "mannwhitneyu(anonym[\"part_of_day\"], pseudonym[\"part_of_day\"], alternative='two-sided')"
   ]
  },
  {
   "cell_type": "code",
   "execution_count": 29,
   "metadata": {},
   "outputs": [
    {
     "data": {
      "text/plain": [
       "Ttest_indResult(statistic=5.1822988623705166, pvalue=2.2524985546317552e-07)"
      ]
     },
     "execution_count": 29,
     "metadata": {},
     "output_type": "execute_result"
    }
   ],
   "source": [
    "ttest_ind(anonym[\"part_of_day\"], pseudonym[\"part_of_day\"], equal_var=False)"
   ]
  },
  {
   "cell_type": "code",
   "execution_count": 30,
   "metadata": {},
   "outputs": [
    {
     "data": {
      "text/plain": [
       "<matplotlib.axes._subplots.AxesSubplot at 0x242727a0b70>"
      ]
     },
     "execution_count": 30,
     "metadata": {},
     "output_type": "execute_result"
    },
    {
     "data": {
      "image/png": "[encoded data removed]",
      "text/plain": [
       "<matplotlib.figure.Figure at 0x24271203cc0>"
      ]
     },
     "metadata": {},
     "output_type": "display_data"
    }
   ],
   "source": [
    "ct1 = pd.crosstab(index=results[\"weeknumber\"], columns = results[\"type_y\"])\n",
    "ct1.plot(grid=False, title=\"usage of file types over semester weeks\")\n",
    "#ct1"
   ]
  },
  {
   "cell_type": "code",
   "execution_count": 31,
   "metadata": {},
   "outputs": [
    {
     "data": {
      "text/plain": [
       "<matplotlib.axes._subplots.AxesSubplot at 0x242727e1588>"
      ]
     },
     "execution_count": 31,
     "metadata": {},
     "output_type": "execute_result"
    },
    {
     "data": {
      "image/png": "[encoded data removed]",
      "text/plain": [
       "<matplotlib.figure.Figure at 0x24272f453c8>"
      ]
     },
     "metadata": {},
     "output_type": "display_data"
    }
   ],
   "source": [
    "ct2 = pd.crosstab(index=results[\"weeknumber\"], columns = results[\"type_x\"])\n",
    "ct2.plot(kind='bar', grid=False, title=\"usage of file types over semester weeks\")\n",
    "#ct2"
   ]
  },
  {
   "cell_type": "markdown",
   "metadata": {},
   "source": [
    "## different types of events"
   ]
  },
  {
   "cell_type": "code",
   "execution_count": 32,
   "metadata": {},
   "outputs": [
    {
     "data": {
      "text/plain": [
       "<matplotlib.axes._subplots.AxesSubplot at 0x24272c021d0>"
      ]
     },
     "execution_count": 32,
     "metadata": {},
     "output_type": "execute_result"
    },
    {
     "data": {
      "image/png": "[encoded data removed]",
      "text/plain": [
       "<matplotlib.figure.Figure at 0x24272b2c240>"
      ]
     },
     "metadata": {},
     "output_type": "display_data"
    },
    {
     "data": {
      "image/png": "[encoded data removed]",
      "text/plain": [
       "<matplotlib.figure.Figure at 0x24272b2c160>"
      ]
     },
     "metadata": {},
     "output_type": "display_data"
    }
   ],
   "source": [
    "ct3 = pd.crosstab(index=anonym[\"status\"], columns = results[\"type_y\"], normalize=True)\n",
    "ct3.plot(kind='bar', grid=False, title=\"usage of file types\")\n",
    "\n",
    "ct4 = pd.crosstab(index=pseudonym[\"status\"], columns = results[\"type_y\"], normalize=True)\n",
    "ct4.plot(kind='bar', grid=False, title=\"usage of file types\")"
   ]
  },
  {
   "cell_type": "code",
   "execution_count": 33,
   "metadata": {},
   "outputs": [
    {
     "data": {
      "text/html": [
       "<div>\n",
       "<table border=\"1\" class=\"dataframe\">\n",
       "  <thead>\n",
       "    <tr style=\"text-align: right;\">\n",
       "      <th>type_x</th>\n",
       "      <th>click</th>\n",
       "      <th>link</th>\n",
       "    </tr>\n",
       "    <tr>\n",
       "      <th>type_y</th>\n",
       "      <th></th>\n",
       "      <th></th>\n",
       "    </tr>\n",
       "  </thead>\n",
       "  <tbody>\n",
       "    <tr>\n",
       "      <th>crs</th>\n",
       "      <td>8172</td>\n",
       "      <td>574</td>\n",
       "    </tr>\n",
       "    <tr>\n",
       "      <th>exc</th>\n",
       "      <td>18711</td>\n",
       "      <td>0</td>\n",
       "    </tr>\n",
       "    <tr>\n",
       "      <th>file</th>\n",
       "      <td>32</td>\n",
       "      <td>3523</td>\n",
       "    </tr>\n",
       "    <tr>\n",
       "      <th>fold</th>\n",
       "      <td>16201</td>\n",
       "      <td>1489</td>\n",
       "    </tr>\n",
       "    <tr>\n",
       "      <th>frm</th>\n",
       "      <td>3292</td>\n",
       "      <td>0</td>\n",
       "    </tr>\n",
       "    <tr>\n",
       "      <th>grp</th>\n",
       "      <td>10720</td>\n",
       "      <td>1621</td>\n",
       "    </tr>\n",
       "    <tr>\n",
       "      <th>root</th>\n",
       "      <td>0</td>\n",
       "      <td>3</td>\n",
       "    </tr>\n",
       "    <tr>\n",
       "      <th>svy</th>\n",
       "      <td>163</td>\n",
       "      <td>0</td>\n",
       "    </tr>\n",
       "    <tr>\n",
       "      <th>xuiz</th>\n",
       "      <td>118</td>\n",
       "      <td>0</td>\n",
       "    </tr>\n",
       "  </tbody>\n",
       "</table>\n",
       "</div>"
      ],
      "text/plain": [
       "type_x  click  link\n",
       "type_y             \n",
       "crs      8172   574\n",
       "exc     18711     0\n",
       "file       32  3523\n",
       "fold    16201  1489\n",
       "frm      3292     0\n",
       "grp     10720  1621\n",
       "root        0     3\n",
       "svy       163     0\n",
       "xuiz      118     0"
      ]
     },
     "execution_count": 33,
     "metadata": {},
     "output_type": "execute_result"
    }
   ],
   "source": [
    "pd.crosstab(index=anonym[\"type_y\"], columns = anonym[\"type_x\"])"
   ]
  },
  {
   "cell_type": "code",
   "execution_count": 34,
   "metadata": {},
   "outputs": [
    {
     "data": {
      "text/html": [
       "<div>\n",
       "<table border=\"1\" class=\"dataframe\">\n",
       "  <thead>\n",
       "    <tr style=\"text-align: right;\">\n",
       "      <th>type_x</th>\n",
       "      <th>click</th>\n",
       "      <th>link</th>\n",
       "    </tr>\n",
       "    <tr>\n",
       "      <th>type_y</th>\n",
       "      <th></th>\n",
       "      <th></th>\n",
       "    </tr>\n",
       "  </thead>\n",
       "  <tbody>\n",
       "    <tr>\n",
       "      <th>crs</th>\n",
       "      <td>896</td>\n",
       "      <td>81</td>\n",
       "    </tr>\n",
       "    <tr>\n",
       "      <th>exc</th>\n",
       "      <td>1608</td>\n",
       "      <td>0</td>\n",
       "    </tr>\n",
       "    <tr>\n",
       "      <th>file</th>\n",
       "      <td>0</td>\n",
       "      <td>264</td>\n",
       "    </tr>\n",
       "    <tr>\n",
       "      <th>fold</th>\n",
       "      <td>1250</td>\n",
       "      <td>113</td>\n",
       "    </tr>\n",
       "    <tr>\n",
       "      <th>frm</th>\n",
       "      <td>491</td>\n",
       "      <td>0</td>\n",
       "    </tr>\n",
       "    <tr>\n",
       "      <th>grp</th>\n",
       "      <td>1096</td>\n",
       "      <td>186</td>\n",
       "    </tr>\n",
       "    <tr>\n",
       "      <th>root</th>\n",
       "      <td>0</td>\n",
       "      <td>2</td>\n",
       "    </tr>\n",
       "    <tr>\n",
       "      <th>svy</th>\n",
       "      <td>8</td>\n",
       "      <td>0</td>\n",
       "    </tr>\n",
       "  </tbody>\n",
       "</table>\n",
       "</div>"
      ],
      "text/plain": [
       "type_x  click  link\n",
       "type_y             \n",
       "crs       896    81\n",
       "exc      1608     0\n",
       "file        0   264\n",
       "fold     1250   113\n",
       "frm       491     0\n",
       "grp      1096   186\n",
       "root        0     2\n",
       "svy         8     0"
      ]
     },
     "execution_count": 34,
     "metadata": {},
     "output_type": "execute_result"
    }
   ],
   "source": [
    "pd.crosstab(index=pseudonym[\"type_y\"], columns = pseudonym[\"type_x\"])"
   ]
  }
 ],
 "metadata": {
  "kernelspec": {
   "display_name": "Python 3",
   "language": "python",
   "name": "python3"
  },
  "language_info": {
   "codemirror_mode": {
    "name": "ipython",
    "version": 3
   },
   "file_extension": ".py",
   "mimetype": "text/x-python",
   "name": "python",
   "nbconvert_exporter": "python",
   "pygments_lexer": "ipython3",
   "version": "3.6.4"
  }
 },
 "nbformat": 4,
 "nbformat_minor": 2
}
