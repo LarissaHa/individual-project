{
 "cells": [
  {
   "cell_type": "markdown",
   "metadata": {},
   "source": [
    "# 3 - Correlation and Pattern Prediction\n",
    "\n",
    "## prediction of only those who tried"
   ]
  },
  {
   "cell_type": "code",
   "execution_count": 1,
   "metadata": {},
   "outputs": [],
   "source": [
    "import pandas as pd\n",
    "import re \n",
    "import numpy as np\n",
    "import seaborn as sn"
   ]
  },
  {
   "cell_type": "code",
   "execution_count": 2,
   "metadata": {},
   "outputs": [],
   "source": [
    "gem = pd.read_csv('task-and-exam-marks-in-groups.csv', delimiter=\";\", encoding=\"utf-8\")\n",
    "del gem[\"Unnamed: 0\"]"
   ]
  },
  {
   "cell_type": "code",
   "execution_count": 3,
   "metadata": {},
   "outputs": [],
   "source": [
    "pd.options.display.max_columns = 50"
   ]
  },
  {
   "cell_type": "code",
   "execution_count": 4,
   "metadata": {},
   "outputs": [
    {
     "data": {
      "text/html": [
       "<div>\n",
       "<table border=\"1\" class=\"dataframe\">\n",
       "  <thead>\n",
       "    <tr style=\"text-align: right;\">\n",
       "      <th></th>\n",
       "      <th>tutor</th>\n",
       "      <th>team_id</th>\n",
       "      <th>b1</th>\n",
       "      <th>b2</th>\n",
       "      <th>b3</th>\n",
       "      <th>b4</th>\n",
       "      <th>b5</th>\n",
       "      <th>b6</th>\n",
       "      <th>b7</th>\n",
       "      <th>b8</th>\n",
       "      <th>b9</th>\n",
       "      <th>b10</th>\n",
       "      <th>b11</th>\n",
       "      <th>hash2</th>\n",
       "      <th>a1</th>\n",
       "      <th>a2</th>\n",
       "      <th>a3</th>\n",
       "      <th>a4</th>\n",
       "      <th>a5</th>\n",
       "      <th>a6</th>\n",
       "      <th>a7</th>\n",
       "      <th>punkte</th>\n",
       "      <th>note</th>\n",
       "      <th>student_id</th>\n",
       "      <th>pass</th>\n",
       "      <th>subject</th>\n",
       "      <th>semester</th>\n",
       "      <th>faculty</th>\n",
       "      <th>degree</th>\n",
       "    </tr>\n",
       "  </thead>\n",
       "  <tbody>\n",
       "    <tr>\n",
       "      <th>0</th>\n",
       "      <td>tutor2</td>\n",
       "      <td>1.0</td>\n",
       "      <td>10.00</td>\n",
       "      <td>6.5</td>\n",
       "      <td>11.5</td>\n",
       "      <td>13.0</td>\n",
       "      <td>8.5</td>\n",
       "      <td>8.0</td>\n",
       "      <td>10.5</td>\n",
       "      <td>12.5</td>\n",
       "      <td>7.0</td>\n",
       "      <td>13.0</td>\n",
       "      <td>0.0</td>\n",
       "      <td>0afdc45f7ee8e52ebf1afb2970e37b36</td>\n",
       "      <td>0.0</td>\n",
       "      <td>0.0</td>\n",
       "      <td>0.0</td>\n",
       "      <td>0.0</td>\n",
       "      <td>0.0</td>\n",
       "      <td>0.0</td>\n",
       "      <td>0.0</td>\n",
       "      <td>0.0</td>\n",
       "      <td>0.0</td>\n",
       "      <td>0.0</td>\n",
       "      <td>0.0</td>\n",
       "      <td>inf</td>\n",
       "      <td>1.0</td>\n",
       "      <td>tec</td>\n",
       "      <td>ba</td>\n",
       "    </tr>\n",
       "    <tr>\n",
       "      <th>1</th>\n",
       "      <td>tutor2</td>\n",
       "      <td>1.0</td>\n",
       "      <td>10.00</td>\n",
       "      <td>6.5</td>\n",
       "      <td>11.5</td>\n",
       "      <td>13.0</td>\n",
       "      <td>8.5</td>\n",
       "      <td>8.0</td>\n",
       "      <td>10.5</td>\n",
       "      <td>12.5</td>\n",
       "      <td>7.0</td>\n",
       "      <td>13.0</td>\n",
       "      <td>0.0</td>\n",
       "      <td>d821cd2c7b995d4e3a75c64d25e53529</td>\n",
       "      <td>0.0</td>\n",
       "      <td>0.0</td>\n",
       "      <td>0.0</td>\n",
       "      <td>0.0</td>\n",
       "      <td>0.0</td>\n",
       "      <td>0.0</td>\n",
       "      <td>0.0</td>\n",
       "      <td>0.0</td>\n",
       "      <td>0.0</td>\n",
       "      <td>1.0</td>\n",
       "      <td>0.0</td>\n",
       "      <td>inf</td>\n",
       "      <td>1.0</td>\n",
       "      <td>tec</td>\n",
       "      <td>ba</td>\n",
       "    </tr>\n",
       "    <tr>\n",
       "      <th>2</th>\n",
       "      <td>tutor1</td>\n",
       "      <td>1146.0</td>\n",
       "      <td>13.75</td>\n",
       "      <td>13.5</td>\n",
       "      <td>14.5</td>\n",
       "      <td>13.5</td>\n",
       "      <td>11.0</td>\n",
       "      <td>11.5</td>\n",
       "      <td>13.5</td>\n",
       "      <td>15.0</td>\n",
       "      <td>14.5</td>\n",
       "      <td>4.0</td>\n",
       "      <td>0.0</td>\n",
       "      <td>fa873577b8543ed8a6d7d8d7fe6ca546</td>\n",
       "      <td>7.0</td>\n",
       "      <td>7.0</td>\n",
       "      <td>8.5</td>\n",
       "      <td>8.0</td>\n",
       "      <td>6.0</td>\n",
       "      <td>7.0</td>\n",
       "      <td>8.5</td>\n",
       "      <td>52.0</td>\n",
       "      <td>3.3</td>\n",
       "      <td>2.0</td>\n",
       "      <td>1.0</td>\n",
       "      <td>inf</td>\n",
       "      <td>1.0</td>\n",
       "      <td>tec</td>\n",
       "      <td>ba</td>\n",
       "    </tr>\n",
       "    <tr>\n",
       "      <th>3</th>\n",
       "      <td>tutor3</td>\n",
       "      <td>19.0</td>\n",
       "      <td>13.00</td>\n",
       "      <td>6.5</td>\n",
       "      <td>7.5</td>\n",
       "      <td>9.0</td>\n",
       "      <td>3.5</td>\n",
       "      <td>4.5</td>\n",
       "      <td>5.5</td>\n",
       "      <td>0.0</td>\n",
       "      <td>0.0</td>\n",
       "      <td>0.0</td>\n",
       "      <td>0.0</td>\n",
       "      <td>e7c181a90d7161b4f885a69f6d426474</td>\n",
       "      <td>0.0</td>\n",
       "      <td>0.0</td>\n",
       "      <td>0.0</td>\n",
       "      <td>0.0</td>\n",
       "      <td>0.0</td>\n",
       "      <td>0.0</td>\n",
       "      <td>0.0</td>\n",
       "      <td>0.0</td>\n",
       "      <td>0.0</td>\n",
       "      <td>3.0</td>\n",
       "      <td>0.0</td>\n",
       "      <td>inf</td>\n",
       "      <td>1.0</td>\n",
       "      <td>tec</td>\n",
       "      <td>ba</td>\n",
       "    </tr>\n",
       "    <tr>\n",
       "      <th>4</th>\n",
       "      <td>tutor5</td>\n",
       "      <td>5012.0</td>\n",
       "      <td>14.00</td>\n",
       "      <td>11.5</td>\n",
       "      <td>12.5</td>\n",
       "      <td>14.5</td>\n",
       "      <td>8.0</td>\n",
       "      <td>7.0</td>\n",
       "      <td>13.5</td>\n",
       "      <td>6.5</td>\n",
       "      <td>8.5</td>\n",
       "      <td>14.0</td>\n",
       "      <td>0.0</td>\n",
       "      <td>e2be9ece8b482afb4717e4e13907a525</td>\n",
       "      <td>4.0</td>\n",
       "      <td>7.0</td>\n",
       "      <td>7.0</td>\n",
       "      <td>8.5</td>\n",
       "      <td>6.5</td>\n",
       "      <td>1.5</td>\n",
       "      <td>4.0</td>\n",
       "      <td>38.5</td>\n",
       "      <td>5.0</td>\n",
       "      <td>4.0</td>\n",
       "      <td>0.0</td>\n",
       "      <td>inf</td>\n",
       "      <td>3.0</td>\n",
       "      <td>tec</td>\n",
       "      <td>ba</td>\n",
       "    </tr>\n",
       "  </tbody>\n",
       "</table>\n",
       "</div>"
      ],
      "text/plain": [
       "    tutor  team_id     b1    b2    b3    b4    b5    b6    b7    b8    b9  \\\n",
       "0  tutor2      1.0  10.00   6.5  11.5  13.0   8.5   8.0  10.5  12.5   7.0   \n",
       "1  tutor2      1.0  10.00   6.5  11.5  13.0   8.5   8.0  10.5  12.5   7.0   \n",
       "2  tutor1   1146.0  13.75  13.5  14.5  13.5  11.0  11.5  13.5  15.0  14.5   \n",
       "3  tutor3     19.0  13.00   6.5   7.5   9.0   3.5   4.5   5.5   0.0   0.0   \n",
       "4  tutor5   5012.0  14.00  11.5  12.5  14.5   8.0   7.0  13.5   6.5   8.5   \n",
       "\n",
       "    b10  b11                             hash2   a1   a2   a3   a4   a5   a6  \\\n",
       "0  13.0  0.0  0afdc45f7ee8e52ebf1afb2970e37b36  0.0  0.0  0.0  0.0  0.0  0.0   \n",
       "1  13.0  0.0  d821cd2c7b995d4e3a75c64d25e53529  0.0  0.0  0.0  0.0  0.0  0.0   \n",
       "2   4.0  0.0  fa873577b8543ed8a6d7d8d7fe6ca546  7.0  7.0  8.5  8.0  6.0  7.0   \n",
       "3   0.0  0.0  e7c181a90d7161b4f885a69f6d426474  0.0  0.0  0.0  0.0  0.0  0.0   \n",
       "4  14.0  0.0  e2be9ece8b482afb4717e4e13907a525  4.0  7.0  7.0  8.5  6.5  1.5   \n",
       "\n",
       "    a7  punkte  note  student_id  pass subject  semester faculty degree  \n",
       "0  0.0     0.0   0.0         0.0   0.0     inf       1.0     tec     ba  \n",
       "1  0.0     0.0   0.0         1.0   0.0     inf       1.0     tec     ba  \n",
       "2  8.5    52.0   3.3         2.0   1.0     inf       1.0     tec     ba  \n",
       "3  0.0     0.0   0.0         3.0   0.0     inf       1.0     tec     ba  \n",
       "4  4.0    38.5   5.0         4.0   0.0     inf       3.0     tec     ba  "
      ]
     },
     "execution_count": 4,
     "metadata": {},
     "output_type": "execute_result"
    }
   ],
   "source": [
    "gem.head()"
   ]
  },
  {
   "cell_type": "markdown",
   "metadata": {},
   "source": [
    "## Preparation of Dataset"
   ]
  },
  {
   "cell_type": "code",
   "execution_count": 5,
   "metadata": {},
   "outputs": [],
   "source": [
    "learn = gem.copy()"
   ]
  },
  {
   "cell_type": "code",
   "execution_count": 6,
   "metadata": {},
   "outputs": [],
   "source": [
    "learn = learn.drop(learn[learn[\"punkte\"] < 9.0].index)"
   ]
  },
  {
   "cell_type": "code",
   "execution_count": 7,
   "metadata": {},
   "outputs": [
    {
     "data": {
      "text/plain": [
       "count    171.000000\n",
       "mean       0.602339\n",
       "std        0.490852\n",
       "min        0.000000\n",
       "25%        0.000000\n",
       "50%        1.000000\n",
       "75%        1.000000\n",
       "max        1.000000\n",
       "Name: pass, dtype: float64"
      ]
     },
     "execution_count": 7,
     "metadata": {},
     "output_type": "execute_result"
    }
   ],
   "source": [
    "learn[\"pass\"].describe()"
   ]
  },
  {
   "cell_type": "code",
   "execution_count": 8,
   "metadata": {},
   "outputs": [],
   "source": [
    "del learn[\"b6\"]\n",
    "del learn[\"b7\"]\n",
    "del learn[\"b8\"]\n",
    "del learn[\"b9\"]\n",
    "del learn[\"b10\"]\n",
    "del learn[\"b11\"]\n",
    "del learn[\"hash2\"]\n",
    "del learn[\"a1\"]\n",
    "del learn[\"a2\"]\n",
    "del learn[\"a3\"]\n",
    "del learn[\"a4\"]\n",
    "del learn[\"a5\"]\n",
    "del learn[\"a6\"]\n",
    "del learn[\"a7\"]\n",
    "del learn[\"note\"]\n",
    "del learn[\"punkte\"]\n",
    "del learn[\"student_id\"]"
   ]
  },
  {
   "cell_type": "code",
   "execution_count": 9,
   "metadata": {},
   "outputs": [],
   "source": [
    "target = learn[\"pass\"]\n",
    "del learn[\"pass\"]\n",
    "del learn[\"team_id\"]"
   ]
  },
  {
   "cell_type": "markdown",
   "metadata": {},
   "source": [
    "## Preparation of Evaluation"
   ]
  },
  {
   "cell_type": "code",
   "execution_count": 10,
   "metadata": {},
   "outputs": [],
   "source": [
    "from sklearn.metrics import confusion_matrix\n",
    "from sklearn.utils.multiclass import unique_labels\n",
    "from sklearn.metrics import classification_report\n",
    "from sklearn.metrics import accuracy_score\n",
    "\n",
    "def confusion_matrix_report(y_true, y_pred):\n",
    "\tcm, labels = confusion_matrix(y_true, y_pred), unique_labels(y_true, y_pred)\n",
    "\tcolumn_width = max([len(str(x)) for x in labels] + [5])\n",
    "\treport = \" \" * column_width + \" \" + \"{:_^{}}\".format(\"Prediction\", column_width * len(labels))+ \"\\n\"\n",
    "\treport += \" \" * column_width + \" \".join([\"{:>{}}\".format(label, column_width) for label in labels]) + \"\\n\"\n",
    "\tfor i, label1 in enumerate(labels):\n",
    "\t\treport += \"{:>{}}\".format(label1, column_width) + \" \".join([\"{:{}d}\".format(cm[i, j], column_width) for j in range(len(labels))]) + \"\\n\"\n",
    "\treturn report"
   ]
  },
  {
   "cell_type": "code",
   "execution_count": 11,
   "metadata": {},
   "outputs": [],
   "source": [
    "def evaluate(model, X_test, y_test):\n",
    "    prediction = model.predict(X_test)\n",
    "    y_pred = X_test.assign(prediction = prediction)\n",
    "    y_pred = y_pred.assign(true = y_test)\n",
    "    print(confusion_matrix_report(y_pred[\"true\"], y_pred[\"prediction\"]))\n",
    "    print(accuracy_score(y_pred[\"true\"], y_pred[\"prediction\"]))\n",
    "    print(classification_report(y_pred[\"true\"], y_pred[\"prediction\"]))"
   ]
  },
  {
   "cell_type": "markdown",
   "metadata": {},
   "source": [
    "## Data Preparation"
   ]
  },
  {
   "cell_type": "code",
   "execution_count": 12,
   "metadata": {},
   "outputs": [
    {
     "data": {
      "text/plain": [
       "Index(['tutor', 'b1', 'b2', 'b3', 'b4', 'b5', 'subject', 'semester', 'faculty',\n",
       "       'degree'],\n",
       "      dtype='object')"
      ]
     },
     "execution_count": 12,
     "metadata": {},
     "output_type": "execute_result"
    }
   ],
   "source": [
    "learn.columns"
   ]
  },
  {
   "cell_type": "code",
   "execution_count": 13,
   "metadata": {},
   "outputs": [
    {
     "data": {
      "text/html": [
       "<div>\n",
       "<table border=\"1\" class=\"dataframe\">\n",
       "  <thead>\n",
       "    <tr style=\"text-align: right;\">\n",
       "      <th></th>\n",
       "      <th>b1</th>\n",
       "      <th>b2</th>\n",
       "      <th>b3</th>\n",
       "      <th>b4</th>\n",
       "      <th>b5</th>\n",
       "      <th>semester</th>\n",
       "      <th>tutor_tutor1</th>\n",
       "      <th>tutor_tutor2</th>\n",
       "      <th>tutor_tutor3</th>\n",
       "      <th>tutor_tutor4</th>\n",
       "      <th>tutor_tutor5</th>\n",
       "      <th>tutor_tutor6</th>\n",
       "      <th>subject_inf</th>\n",
       "      <th>subject_lehr</th>\n",
       "      <th>subject_mat</th>\n",
       "      <th>subject_mmm</th>\n",
       "      <th>subject_psy</th>\n",
       "      <th>subject_soz</th>\n",
       "      <th>subject_wip</th>\n",
       "      <th>degree_ba</th>\n",
       "      <th>degree_ma</th>\n",
       "    </tr>\n",
       "  </thead>\n",
       "  <tbody>\n",
       "    <tr>\n",
       "      <th>2</th>\n",
       "      <td>13.75</td>\n",
       "      <td>13.5</td>\n",
       "      <td>14.5</td>\n",
       "      <td>13.5</td>\n",
       "      <td>11</td>\n",
       "      <td>1</td>\n",
       "      <td>1</td>\n",
       "      <td>0</td>\n",
       "      <td>0</td>\n",
       "      <td>0</td>\n",
       "      <td>0</td>\n",
       "      <td>0</td>\n",
       "      <td>1</td>\n",
       "      <td>0</td>\n",
       "      <td>0</td>\n",
       "      <td>0</td>\n",
       "      <td>0</td>\n",
       "      <td>0</td>\n",
       "      <td>0</td>\n",
       "      <td>1</td>\n",
       "      <td>0</td>\n",
       "    </tr>\n",
       "    <tr>\n",
       "      <th>4</th>\n",
       "      <td>14</td>\n",
       "      <td>11.5</td>\n",
       "      <td>12.5</td>\n",
       "      <td>14.5</td>\n",
       "      <td>8</td>\n",
       "      <td>3</td>\n",
       "      <td>0</td>\n",
       "      <td>0</td>\n",
       "      <td>0</td>\n",
       "      <td>0</td>\n",
       "      <td>1</td>\n",
       "      <td>0</td>\n",
       "      <td>1</td>\n",
       "      <td>0</td>\n",
       "      <td>0</td>\n",
       "      <td>0</td>\n",
       "      <td>0</td>\n",
       "      <td>0</td>\n",
       "      <td>0</td>\n",
       "      <td>1</td>\n",
       "      <td>0</td>\n",
       "    </tr>\n",
       "    <tr>\n",
       "      <th>5</th>\n",
       "      <td>15</td>\n",
       "      <td>14.5</td>\n",
       "      <td>15</td>\n",
       "      <td>15</td>\n",
       "      <td>15</td>\n",
       "      <td>1</td>\n",
       "      <td>0</td>\n",
       "      <td>0</td>\n",
       "      <td>0</td>\n",
       "      <td>0</td>\n",
       "      <td>1</td>\n",
       "      <td>0</td>\n",
       "      <td>1</td>\n",
       "      <td>0</td>\n",
       "      <td>0</td>\n",
       "      <td>0</td>\n",
       "      <td>0</td>\n",
       "      <td>0</td>\n",
       "      <td>0</td>\n",
       "      <td>1</td>\n",
       "      <td>0</td>\n",
       "    </tr>\n",
       "    <tr>\n",
       "      <th>6</th>\n",
       "      <td>13.5</td>\n",
       "      <td>11</td>\n",
       "      <td>13</td>\n",
       "      <td>9.5</td>\n",
       "      <td>3.5</td>\n",
       "      <td>1</td>\n",
       "      <td>0</td>\n",
       "      <td>0</td>\n",
       "      <td>1</td>\n",
       "      <td>0</td>\n",
       "      <td>0</td>\n",
       "      <td>0</td>\n",
       "      <td>1</td>\n",
       "      <td>0</td>\n",
       "      <td>0</td>\n",
       "      <td>0</td>\n",
       "      <td>0</td>\n",
       "      <td>0</td>\n",
       "      <td>0</td>\n",
       "      <td>1</td>\n",
       "      <td>0</td>\n",
       "    </tr>\n",
       "    <tr>\n",
       "      <th>7</th>\n",
       "      <td>14.5</td>\n",
       "      <td>13</td>\n",
       "      <td>12</td>\n",
       "      <td>9.5</td>\n",
       "      <td>2.5</td>\n",
       "      <td>1</td>\n",
       "      <td>0</td>\n",
       "      <td>0</td>\n",
       "      <td>0</td>\n",
       "      <td>1</td>\n",
       "      <td>0</td>\n",
       "      <td>0</td>\n",
       "      <td>1</td>\n",
       "      <td>0</td>\n",
       "      <td>0</td>\n",
       "      <td>0</td>\n",
       "      <td>0</td>\n",
       "      <td>0</td>\n",
       "      <td>0</td>\n",
       "      <td>1</td>\n",
       "      <td>0</td>\n",
       "    </tr>\n",
       "  </tbody>\n",
       "</table>\n",
       "</div>"
      ],
      "text/plain": [
       "      b1    b2    b3    b4   b5 semester  tutor_tutor1  tutor_tutor2  \\\n",
       "2  13.75  13.5  14.5  13.5   11        1             1             0   \n",
       "4     14  11.5  12.5  14.5    8        3             0             0   \n",
       "5     15  14.5    15    15   15        1             0             0   \n",
       "6   13.5    11    13   9.5  3.5        1             0             0   \n",
       "7   14.5    13    12   9.5  2.5        1             0             0   \n",
       "\n",
       "   tutor_tutor3  tutor_tutor4  tutor_tutor5  tutor_tutor6  subject_inf  \\\n",
       "2             0             0             0             0            1   \n",
       "4             0             0             1             0            1   \n",
       "5             0             0             1             0            1   \n",
       "6             1             0             0             0            1   \n",
       "7             0             1             0             0            1   \n",
       "\n",
       "   subject_lehr  subject_mat  subject_mmm  subject_psy  subject_soz  \\\n",
       "2             0            0            0            0            0   \n",
       "4             0            0            0            0            0   \n",
       "5             0            0            0            0            0   \n",
       "6             0            0            0            0            0   \n",
       "7             0            0            0            0            0   \n",
       "\n",
       "   subject_wip  degree_ba  degree_ma  \n",
       "2            0          1          0  \n",
       "4            0          1          0  \n",
       "5            0          1          0  \n",
       "6            0          1          0  \n",
       "7            0          1          0  "
      ]
     },
     "execution_count": 13,
     "metadata": {},
     "output_type": "execute_result"
    }
   ],
   "source": [
    "learn_subject = learn.copy()\n",
    "del learn_subject[\"faculty\"]\n",
    "learn_subject = pd.get_dummies(learn_subject)\n",
    "del learn_subject[\"subject_ext\"]\n",
    "del learn_subject[\"degree_ext\"]\n",
    "learn_subject = learn_subject.replace(np.nan, \"0\")\n",
    "learn_subject.head()"
   ]
  },
  {
   "cell_type": "code",
   "execution_count": 14,
   "metadata": {},
   "outputs": [
    {
     "data": {
      "text/html": [
       "<div>\n",
       "<table border=\"1\" class=\"dataframe\">\n",
       "  <thead>\n",
       "    <tr style=\"text-align: right;\">\n",
       "      <th></th>\n",
       "      <th>b1</th>\n",
       "      <th>b2</th>\n",
       "      <th>b3</th>\n",
       "      <th>b4</th>\n",
       "      <th>b5</th>\n",
       "      <th>semester</th>\n",
       "      <th>tutor_tutor1</th>\n",
       "      <th>tutor_tutor2</th>\n",
       "      <th>tutor_tutor3</th>\n",
       "      <th>tutor_tutor4</th>\n",
       "      <th>tutor_tutor5</th>\n",
       "      <th>tutor_tutor6</th>\n",
       "      <th>faculty_eco</th>\n",
       "      <th>faculty_hum</th>\n",
       "      <th>faculty_soc</th>\n",
       "      <th>faculty_tec</th>\n",
       "      <th>degree_ba</th>\n",
       "      <th>degree_ma</th>\n",
       "    </tr>\n",
       "  </thead>\n",
       "  <tbody>\n",
       "    <tr>\n",
       "      <th>2</th>\n",
       "      <td>13.75</td>\n",
       "      <td>13.5</td>\n",
       "      <td>14.5</td>\n",
       "      <td>13.5</td>\n",
       "      <td>11</td>\n",
       "      <td>1</td>\n",
       "      <td>1</td>\n",
       "      <td>0</td>\n",
       "      <td>0</td>\n",
       "      <td>0</td>\n",
       "      <td>0</td>\n",
       "      <td>0</td>\n",
       "      <td>0</td>\n",
       "      <td>0</td>\n",
       "      <td>0</td>\n",
       "      <td>1</td>\n",
       "      <td>1</td>\n",
       "      <td>0</td>\n",
       "    </tr>\n",
       "    <tr>\n",
       "      <th>4</th>\n",
       "      <td>14</td>\n",
       "      <td>11.5</td>\n",
       "      <td>12.5</td>\n",
       "      <td>14.5</td>\n",
       "      <td>8</td>\n",
       "      <td>3</td>\n",
       "      <td>0</td>\n",
       "      <td>0</td>\n",
       "      <td>0</td>\n",
       "      <td>0</td>\n",
       "      <td>1</td>\n",
       "      <td>0</td>\n",
       "      <td>0</td>\n",
       "      <td>0</td>\n",
       "      <td>0</td>\n",
       "      <td>1</td>\n",
       "      <td>1</td>\n",
       "      <td>0</td>\n",
       "    </tr>\n",
       "    <tr>\n",
       "      <th>5</th>\n",
       "      <td>15</td>\n",
       "      <td>14.5</td>\n",
       "      <td>15</td>\n",
       "      <td>15</td>\n",
       "      <td>15</td>\n",
       "      <td>1</td>\n",
       "      <td>0</td>\n",
       "      <td>0</td>\n",
       "      <td>0</td>\n",
       "      <td>0</td>\n",
       "      <td>1</td>\n",
       "      <td>0</td>\n",
       "      <td>0</td>\n",
       "      <td>0</td>\n",
       "      <td>0</td>\n",
       "      <td>1</td>\n",
       "      <td>1</td>\n",
       "      <td>0</td>\n",
       "    </tr>\n",
       "    <tr>\n",
       "      <th>6</th>\n",
       "      <td>13.5</td>\n",
       "      <td>11</td>\n",
       "      <td>13</td>\n",
       "      <td>9.5</td>\n",
       "      <td>3.5</td>\n",
       "      <td>1</td>\n",
       "      <td>0</td>\n",
       "      <td>0</td>\n",
       "      <td>1</td>\n",
       "      <td>0</td>\n",
       "      <td>0</td>\n",
       "      <td>0</td>\n",
       "      <td>0</td>\n",
       "      <td>0</td>\n",
       "      <td>0</td>\n",
       "      <td>1</td>\n",
       "      <td>1</td>\n",
       "      <td>0</td>\n",
       "    </tr>\n",
       "    <tr>\n",
       "      <th>7</th>\n",
       "      <td>14.5</td>\n",
       "      <td>13</td>\n",
       "      <td>12</td>\n",
       "      <td>9.5</td>\n",
       "      <td>2.5</td>\n",
       "      <td>1</td>\n",
       "      <td>0</td>\n",
       "      <td>0</td>\n",
       "      <td>0</td>\n",
       "      <td>1</td>\n",
       "      <td>0</td>\n",
       "      <td>0</td>\n",
       "      <td>0</td>\n",
       "      <td>0</td>\n",
       "      <td>0</td>\n",
       "      <td>1</td>\n",
       "      <td>1</td>\n",
       "      <td>0</td>\n",
       "    </tr>\n",
       "  </tbody>\n",
       "</table>\n",
       "</div>"
      ],
      "text/plain": [
       "      b1    b2    b3    b4   b5 semester  tutor_tutor1  tutor_tutor2  \\\n",
       "2  13.75  13.5  14.5  13.5   11        1             1             0   \n",
       "4     14  11.5  12.5  14.5    8        3             0             0   \n",
       "5     15  14.5    15    15   15        1             0             0   \n",
       "6   13.5    11    13   9.5  3.5        1             0             0   \n",
       "7   14.5    13    12   9.5  2.5        1             0             0   \n",
       "\n",
       "   tutor_tutor3  tutor_tutor4  tutor_tutor5  tutor_tutor6  faculty_eco  \\\n",
       "2             0             0             0             0            0   \n",
       "4             0             0             1             0            0   \n",
       "5             0             0             1             0            0   \n",
       "6             1             0             0             0            0   \n",
       "7             0             1             0             0            0   \n",
       "\n",
       "   faculty_hum  faculty_soc  faculty_tec  degree_ba  degree_ma  \n",
       "2            0            0            1          1          0  \n",
       "4            0            0            1          1          0  \n",
       "5            0            0            1          1          0  \n",
       "6            0            0            1          1          0  \n",
       "7            0            0            1          1          0  "
      ]
     },
     "execution_count": 14,
     "metadata": {},
     "output_type": "execute_result"
    }
   ],
   "source": [
    "learn_faculty = learn.copy()\n",
    "del learn_faculty[\"subject\"]\n",
    "learn_faculty = pd.get_dummies(learn_faculty)\n",
    "del learn_faculty[\"faculty_ext\"]\n",
    "del learn_faculty[\"degree_ext\"]\n",
    "learn_faculty = learn_faculty.replace(np.nan, \"0\")\n",
    "learn_faculty.head()"
   ]
  },
  {
   "cell_type": "code",
   "execution_count": 15,
   "metadata": {},
   "outputs": [
    {
     "data": {
      "text/html": [
       "<div>\n",
       "<table border=\"1\" class=\"dataframe\">\n",
       "  <thead>\n",
       "    <tr style=\"text-align: right;\">\n",
       "      <th></th>\n",
       "      <th>b1</th>\n",
       "      <th>b2</th>\n",
       "      <th>b3</th>\n",
       "      <th>b4</th>\n",
       "      <th>b5</th>\n",
       "      <th>semester</th>\n",
       "      <th>degree_ba</th>\n",
       "      <th>degree_ma</th>\n",
       "    </tr>\n",
       "  </thead>\n",
       "  <tbody>\n",
       "    <tr>\n",
       "      <th>2</th>\n",
       "      <td>13.75</td>\n",
       "      <td>13.5</td>\n",
       "      <td>14.5</td>\n",
       "      <td>13.5</td>\n",
       "      <td>11</td>\n",
       "      <td>1</td>\n",
       "      <td>1</td>\n",
       "      <td>0</td>\n",
       "    </tr>\n",
       "    <tr>\n",
       "      <th>4</th>\n",
       "      <td>14</td>\n",
       "      <td>11.5</td>\n",
       "      <td>12.5</td>\n",
       "      <td>14.5</td>\n",
       "      <td>8</td>\n",
       "      <td>3</td>\n",
       "      <td>1</td>\n",
       "      <td>0</td>\n",
       "    </tr>\n",
       "    <tr>\n",
       "      <th>5</th>\n",
       "      <td>15</td>\n",
       "      <td>14.5</td>\n",
       "      <td>15</td>\n",
       "      <td>15</td>\n",
       "      <td>15</td>\n",
       "      <td>1</td>\n",
       "      <td>1</td>\n",
       "      <td>0</td>\n",
       "    </tr>\n",
       "    <tr>\n",
       "      <th>6</th>\n",
       "      <td>13.5</td>\n",
       "      <td>11</td>\n",
       "      <td>13</td>\n",
       "      <td>9.5</td>\n",
       "      <td>3.5</td>\n",
       "      <td>1</td>\n",
       "      <td>1</td>\n",
       "      <td>0</td>\n",
       "    </tr>\n",
       "    <tr>\n",
       "      <th>7</th>\n",
       "      <td>14.5</td>\n",
       "      <td>13</td>\n",
       "      <td>12</td>\n",
       "      <td>9.5</td>\n",
       "      <td>2.5</td>\n",
       "      <td>1</td>\n",
       "      <td>1</td>\n",
       "      <td>0</td>\n",
       "    </tr>\n",
       "  </tbody>\n",
       "</table>\n",
       "</div>"
      ],
      "text/plain": [
       "      b1    b2    b3    b4   b5 semester  degree_ba  degree_ma\n",
       "2  13.75  13.5  14.5  13.5   11        1          1          0\n",
       "4     14  11.5  12.5  14.5    8        3          1          0\n",
       "5     15  14.5    15    15   15        1          1          0\n",
       "6   13.5    11    13   9.5  3.5        1          1          0\n",
       "7   14.5    13    12   9.5  2.5        1          1          0"
      ]
     },
     "execution_count": 15,
     "metadata": {},
     "output_type": "execute_result"
    }
   ],
   "source": [
    "learn_only = learn.copy()\n",
    "del learn_only[\"faculty\"]\n",
    "del learn_only[\"tutor\"]\n",
    "del learn_only[\"subject\"]\n",
    "learn_only = pd.get_dummies(learn_only)\n",
    "del learn_only[\"degree_ext\"]\n",
    "learn_only = learn_only.replace(np.nan, \"0\")\n",
    "learn_only.head()"
   ]
  },
  {
   "cell_type": "code",
   "execution_count": 16,
   "metadata": {},
   "outputs": [
    {
     "name": "stdout",
     "output_type": "stream",
     "text": [
      "(145, 8) (145,)\n",
      "(26, 8) (26,)\n"
     ]
    }
   ],
   "source": [
    "from sklearn.model_selection import train_test_split\n",
    "X_train, X_test, y_train, y_test = train_test_split(learn_subject, target, test_size=0.15, random_state=42)\n",
    "X_train2, X_test2, y_train2, y_test2 = train_test_split(learn_faculty, target, test_size=0.15, random_state=42)\n",
    "X_train3, X_test3, y_train3, y_test3 = train_test_split(learn_only, target, test_size=0.15, random_state=42)\n",
    "print(X_train3.shape, y_train3.shape)\n",
    "print(X_test3.shape, y_test3.shape)"
   ]
  },
  {
   "cell_type": "code",
   "execution_count": 17,
   "metadata": {},
   "outputs": [
    {
     "data": {
      "text/plain": [
       "count    145.000000\n",
       "mean       0.613793\n",
       "std        0.488567\n",
       "min        0.000000\n",
       "25%        0.000000\n",
       "50%        1.000000\n",
       "75%        1.000000\n",
       "max        1.000000\n",
       "Name: pass, dtype: float64"
      ]
     },
     "execution_count": 17,
     "metadata": {},
     "output_type": "execute_result"
    }
   ],
   "source": [
    "y_train.describe()"
   ]
  },
  {
   "cell_type": "markdown",
   "metadata": {},
   "source": [
    "# Naive Bayes (as Baseline Model)"
   ]
  },
  {
   "cell_type": "code",
   "execution_count": 18,
   "metadata": {},
   "outputs": [],
   "source": [
    "from sklearn.naive_bayes import GaussianNB"
   ]
  },
  {
   "cell_type": "code",
   "execution_count": 19,
   "metadata": {},
   "outputs": [
    {
     "data": {
      "text/plain": [
       "GaussianNB(priors=None)"
      ]
     },
     "execution_count": 19,
     "metadata": {},
     "output_type": "execute_result"
    }
   ],
   "source": [
    "naive_bayes = GaussianNB()\n",
    "naive_bayes.fit(X_train, y_train)"
   ]
  },
  {
   "cell_type": "code",
   "execution_count": 20,
   "metadata": {},
   "outputs": [
    {
     "name": "stdout",
     "output_type": "stream",
     "text": [
      "      Prediction\n",
      "       0.0   1.0\n",
      "  0.0   12     0\n",
      "  1.0   11     3\n",
      "\n",
      "0.576923076923\n",
      "             precision    recall  f1-score   support\n",
      "\n",
      "        0.0       0.52      1.00      0.69        12\n",
      "        1.0       1.00      0.21      0.35        14\n",
      "\n",
      "avg / total       0.78      0.58      0.51        26\n",
      "\n"
     ]
    }
   ],
   "source": [
    "evaluate(naive_bayes, X_test, y_test)"
   ]
  },
  {
   "cell_type": "code",
   "execution_count": 21,
   "metadata": {},
   "outputs": [
    {
     "name": "stdout",
     "output_type": "stream",
     "text": [
      "      Prediction\n",
      "       0.0   1.0\n",
      "  0.0    7     5\n",
      "  1.0    1    13\n",
      "\n",
      "0.769230769231\n",
      "             precision    recall  f1-score   support\n",
      "\n",
      "        0.0       0.88      0.58      0.70        12\n",
      "        1.0       0.72      0.93      0.81        14\n",
      "\n",
      "avg / total       0.79      0.77      0.76        26\n",
      "\n"
     ]
    }
   ],
   "source": [
    "naive_bayes = GaussianNB()\n",
    "naive_bayes.fit(X_train2, y_train2)\n",
    "evaluate(naive_bayes, X_test2, y_test2)"
   ]
  },
  {
   "cell_type": "code",
   "execution_count": 22,
   "metadata": {},
   "outputs": [
    {
     "name": "stdout",
     "output_type": "stream",
     "text": [
      "      Prediction\n",
      "       0.0   1.0\n",
      "  0.0    8     4\n",
      "  1.0    0    14\n",
      "\n",
      "0.846153846154\n",
      "             precision    recall  f1-score   support\n",
      "\n",
      "        0.0       1.00      0.67      0.80        12\n",
      "        1.0       0.78      1.00      0.88        14\n",
      "\n",
      "avg / total       0.88      0.85      0.84        26\n",
      "\n"
     ]
    }
   ],
   "source": [
    "naive_bayes = GaussianNB()\n",
    "naive_bayes.fit(X_train3, y_train3)\n",
    "evaluate(naive_bayes, X_test3, y_test3)"
   ]
  },
  {
   "cell_type": "markdown",
   "metadata": {},
   "source": [
    "# Logistic Regression"
   ]
  },
  {
   "cell_type": "code",
   "execution_count": 23,
   "metadata": {},
   "outputs": [],
   "source": [
    "from sklearn.linear_model import LogisticRegression"
   ]
  },
  {
   "cell_type": "code",
   "execution_count": 24,
   "metadata": {},
   "outputs": [
    {
     "data": {
      "text/plain": [
       "LogisticRegression(C=1.0, class_weight=None, dual=False, fit_intercept=True,\n",
       "          intercept_scaling=1, max_iter=100, multi_class='ovr', n_jobs=1,\n",
       "          penalty='l2', random_state=None, solver='liblinear', tol=0.0001,\n",
       "          verbose=0, warm_start=False)"
      ]
     },
     "execution_count": 24,
     "metadata": {},
     "output_type": "execute_result"
    }
   ],
   "source": [
    "model1 = LogisticRegression()\n",
    "model1.fit(X_train, y_train)"
   ]
  },
  {
   "cell_type": "code",
   "execution_count": 25,
   "metadata": {},
   "outputs": [
    {
     "name": "stdout",
     "output_type": "stream",
     "text": [
      "      Prediction\n",
      "       0.0   1.0\n",
      "  0.0    6     6\n",
      "  1.0    1    13\n",
      "\n",
      "0.730769230769\n",
      "             precision    recall  f1-score   support\n",
      "\n",
      "        0.0       0.86      0.50      0.63        12\n",
      "        1.0       0.68      0.93      0.79        14\n",
      "\n",
      "avg / total       0.76      0.73      0.72        26\n",
      "\n"
     ]
    }
   ],
   "source": [
    "evaluate(model1, X_test, y_test)"
   ]
  },
  {
   "cell_type": "code",
   "execution_count": 26,
   "metadata": {},
   "outputs": [
    {
     "data": {
      "text/html": [
       "<div>\n",
       "<table border=\"1\" class=\"dataframe\">\n",
       "  <thead>\n",
       "    <tr style=\"text-align: right;\">\n",
       "      <th></th>\n",
       "      <th>0</th>\n",
       "      <th>1</th>\n",
       "    </tr>\n",
       "  </thead>\n",
       "  <tbody>\n",
       "    <tr>\n",
       "      <th>0</th>\n",
       "      <td>b1</td>\n",
       "      <td>[-0.169662518188]</td>\n",
       "    </tr>\n",
       "    <tr>\n",
       "      <th>1</th>\n",
       "      <td>b2</td>\n",
       "      <td>[0.151263476398]</td>\n",
       "    </tr>\n",
       "    <tr>\n",
       "      <th>2</th>\n",
       "      <td>b3</td>\n",
       "      <td>[0.0563143999389]</td>\n",
       "    </tr>\n",
       "    <tr>\n",
       "      <th>3</th>\n",
       "      <td>b4</td>\n",
       "      <td>[-0.0231724541457]</td>\n",
       "    </tr>\n",
       "    <tr>\n",
       "      <th>4</th>\n",
       "      <td>b5</td>\n",
       "      <td>[0.00925514403336]</td>\n",
       "    </tr>\n",
       "    <tr>\n",
       "      <th>5</th>\n",
       "      <td>semester</td>\n",
       "      <td>[0.288721856974]</td>\n",
       "    </tr>\n",
       "    <tr>\n",
       "      <th>6</th>\n",
       "      <td>tutor_tutor1</td>\n",
       "      <td>[-0.614663771677]</td>\n",
       "    </tr>\n",
       "    <tr>\n",
       "      <th>7</th>\n",
       "      <td>tutor_tutor2</td>\n",
       "      <td>[-0.358459878471]</td>\n",
       "    </tr>\n",
       "    <tr>\n",
       "      <th>8</th>\n",
       "      <td>tutor_tutor3</td>\n",
       "      <td>[-0.438122240787]</td>\n",
       "    </tr>\n",
       "    <tr>\n",
       "      <th>9</th>\n",
       "      <td>tutor_tutor4</td>\n",
       "      <td>[-0.445829238114]</td>\n",
       "    </tr>\n",
       "    <tr>\n",
       "      <th>10</th>\n",
       "      <td>tutor_tutor5</td>\n",
       "      <td>[-0.136921562276]</td>\n",
       "    </tr>\n",
       "    <tr>\n",
       "      <th>11</th>\n",
       "      <td>tutor_tutor6</td>\n",
       "      <td>[0.0441515058606]</td>\n",
       "    </tr>\n",
       "    <tr>\n",
       "      <th>12</th>\n",
       "      <td>subject_inf</td>\n",
       "      <td>[0.890978224143]</td>\n",
       "    </tr>\n",
       "    <tr>\n",
       "      <th>13</th>\n",
       "      <td>subject_lehr</td>\n",
       "      <td>[0.515994656174]</td>\n",
       "    </tr>\n",
       "    <tr>\n",
       "      <th>14</th>\n",
       "      <td>subject_mat</td>\n",
       "      <td>[0.75952902937]</td>\n",
       "    </tr>\n",
       "    <tr>\n",
       "      <th>15</th>\n",
       "      <td>subject_mmm</td>\n",
       "      <td>[0.915390631439]</td>\n",
       "    </tr>\n",
       "    <tr>\n",
       "      <th>16</th>\n",
       "      <td>subject_psy</td>\n",
       "      <td>[0.0911049175618]</td>\n",
       "    </tr>\n",
       "    <tr>\n",
       "      <th>17</th>\n",
       "      <td>subject_soz</td>\n",
       "      <td>[0.331879617276]</td>\n",
       "    </tr>\n",
       "    <tr>\n",
       "      <th>18</th>\n",
       "      <td>subject_wip</td>\n",
       "      <td>[-0.926807881184]</td>\n",
       "    </tr>\n",
       "    <tr>\n",
       "      <th>19</th>\n",
       "      <td>degree_ba</td>\n",
       "      <td>[1.21099778677]</td>\n",
       "    </tr>\n",
       "    <tr>\n",
       "      <th>20</th>\n",
       "      <td>degree_ma</td>\n",
       "      <td>[1.36707140801]</td>\n",
       "    </tr>\n",
       "  </tbody>\n",
       "</table>\n",
       "</div>"
      ],
      "text/plain": [
       "               0                   1\n",
       "0             b1   [-0.169662518188]\n",
       "1             b2    [0.151263476398]\n",
       "2             b3   [0.0563143999389]\n",
       "3             b4  [-0.0231724541457]\n",
       "4             b5  [0.00925514403336]\n",
       "5       semester    [0.288721856974]\n",
       "6   tutor_tutor1   [-0.614663771677]\n",
       "7   tutor_tutor2   [-0.358459878471]\n",
       "8   tutor_tutor3   [-0.438122240787]\n",
       "9   tutor_tutor4   [-0.445829238114]\n",
       "10  tutor_tutor5   [-0.136921562276]\n",
       "11  tutor_tutor6   [0.0441515058606]\n",
       "12   subject_inf    [0.890978224143]\n",
       "13  subject_lehr    [0.515994656174]\n",
       "14   subject_mat     [0.75952902937]\n",
       "15   subject_mmm    [0.915390631439]\n",
       "16   subject_psy   [0.0911049175618]\n",
       "17   subject_soz    [0.331879617276]\n",
       "18   subject_wip   [-0.926807881184]\n",
       "19     degree_ba     [1.21099778677]\n",
       "20     degree_ma     [1.36707140801]"
      ]
     },
     "execution_count": 26,
     "metadata": {},
     "output_type": "execute_result"
    }
   ],
   "source": [
    "pd.DataFrame(list(zip(X_train.columns, np.transpose(model1.coef_))))"
   ]
  },
  {
   "cell_type": "markdown",
   "metadata": {},
   "source": [
    "## with small(er) dataset"
   ]
  },
  {
   "cell_type": "code",
   "execution_count": 27,
   "metadata": {},
   "outputs": [
    {
     "data": {
      "text/plain": [
       "LogisticRegression(C=1.0, class_weight=None, dual=False, fit_intercept=True,\n",
       "          intercept_scaling=1, max_iter=100, multi_class='ovr', n_jobs=1,\n",
       "          penalty='l2', random_state=None, solver='liblinear', tol=0.0001,\n",
       "          verbose=0, warm_start=False)"
      ]
     },
     "execution_count": 27,
     "metadata": {},
     "output_type": "execute_result"
    }
   ],
   "source": [
    "model2 = LogisticRegression()\n",
    "model2.fit(X_train2, y_train2)"
   ]
  },
  {
   "cell_type": "code",
   "execution_count": 28,
   "metadata": {},
   "outputs": [
    {
     "name": "stdout",
     "output_type": "stream",
     "text": [
      "      Prediction\n",
      "       0.0   1.0\n",
      "  0.0    6     6\n",
      "  1.0    1    13\n",
      "\n",
      "0.730769230769\n",
      "             precision    recall  f1-score   support\n",
      "\n",
      "        0.0       0.86      0.50      0.63        12\n",
      "        1.0       0.68      0.93      0.79        14\n",
      "\n",
      "avg / total       0.76      0.73      0.72        26\n",
      "\n"
     ]
    }
   ],
   "source": [
    "evaluate(model2, X_test2, y_test2)"
   ]
  },
  {
   "cell_type": "code",
   "execution_count": 29,
   "metadata": {},
   "outputs": [
    {
     "data": {
      "text/html": [
       "<div>\n",
       "<table border=\"1\" class=\"dataframe\">\n",
       "  <thead>\n",
       "    <tr style=\"text-align: right;\">\n",
       "      <th></th>\n",
       "      <th>0</th>\n",
       "      <th>1</th>\n",
       "    </tr>\n",
       "  </thead>\n",
       "  <tbody>\n",
       "    <tr>\n",
       "      <th>0</th>\n",
       "      <td>b1</td>\n",
       "      <td>[-0.175316780708]</td>\n",
       "    </tr>\n",
       "    <tr>\n",
       "      <th>1</th>\n",
       "      <td>b2</td>\n",
       "      <td>[0.151917953194]</td>\n",
       "    </tr>\n",
       "    <tr>\n",
       "      <th>2</th>\n",
       "      <td>b3</td>\n",
       "      <td>[0.0627428111865]</td>\n",
       "    </tr>\n",
       "    <tr>\n",
       "      <th>3</th>\n",
       "      <td>b4</td>\n",
       "      <td>[-0.0192895691798]</td>\n",
       "    </tr>\n",
       "    <tr>\n",
       "      <th>4</th>\n",
       "      <td>b5</td>\n",
       "      <td>[0.00712157524374]</td>\n",
       "    </tr>\n",
       "    <tr>\n",
       "      <th>5</th>\n",
       "      <td>semester</td>\n",
       "      <td>[0.222952922644]</td>\n",
       "    </tr>\n",
       "    <tr>\n",
       "      <th>6</th>\n",
       "      <td>tutor_tutor1</td>\n",
       "      <td>[-0.638372609292]</td>\n",
       "    </tr>\n",
       "    <tr>\n",
       "      <th>7</th>\n",
       "      <td>tutor_tutor2</td>\n",
       "      <td>[-0.310764959969]</td>\n",
       "    </tr>\n",
       "    <tr>\n",
       "      <th>8</th>\n",
       "      <td>tutor_tutor3</td>\n",
       "      <td>[-0.439078019735]</td>\n",
       "    </tr>\n",
       "    <tr>\n",
       "      <th>9</th>\n",
       "      <td>tutor_tutor4</td>\n",
       "      <td>[-0.46840852592]</td>\n",
       "    </tr>\n",
       "    <tr>\n",
       "      <th>10</th>\n",
       "      <td>tutor_tutor5</td>\n",
       "      <td>[-0.161299388664]</td>\n",
       "    </tr>\n",
       "    <tr>\n",
       "      <th>11</th>\n",
       "      <td>tutor_tutor6</td>\n",
       "      <td>[0.0318049460829]</td>\n",
       "    </tr>\n",
       "    <tr>\n",
       "      <th>12</th>\n",
       "      <td>faculty_eco</td>\n",
       "      <td>[-0.0023835679924]</td>\n",
       "    </tr>\n",
       "    <tr>\n",
       "      <th>13</th>\n",
       "      <td>faculty_hum</td>\n",
       "      <td>[0.737594045475]</td>\n",
       "    </tr>\n",
       "    <tr>\n",
       "      <th>14</th>\n",
       "      <td>faculty_soc</td>\n",
       "      <td>[0.49418504694]</td>\n",
       "    </tr>\n",
       "    <tr>\n",
       "      <th>15</th>\n",
       "      <td>faculty_tec</td>\n",
       "      <td>[1.31194801934]</td>\n",
       "    </tr>\n",
       "    <tr>\n",
       "      <th>16</th>\n",
       "      <td>degree_ba</td>\n",
       "      <td>[0.915138153184]</td>\n",
       "    </tr>\n",
       "    <tr>\n",
       "      <th>17</th>\n",
       "      <td>degree_ma</td>\n",
       "      <td>[1.62620539058]</td>\n",
       "    </tr>\n",
       "  </tbody>\n",
       "</table>\n",
       "</div>"
      ],
      "text/plain": [
       "               0                   1\n",
       "0             b1   [-0.175316780708]\n",
       "1             b2    [0.151917953194]\n",
       "2             b3   [0.0627428111865]\n",
       "3             b4  [-0.0192895691798]\n",
       "4             b5  [0.00712157524374]\n",
       "5       semester    [0.222952922644]\n",
       "6   tutor_tutor1   [-0.638372609292]\n",
       "7   tutor_tutor2   [-0.310764959969]\n",
       "8   tutor_tutor3   [-0.439078019735]\n",
       "9   tutor_tutor4    [-0.46840852592]\n",
       "10  tutor_tutor5   [-0.161299388664]\n",
       "11  tutor_tutor6   [0.0318049460829]\n",
       "12   faculty_eco  [-0.0023835679924]\n",
       "13   faculty_hum    [0.737594045475]\n",
       "14   faculty_soc     [0.49418504694]\n",
       "15   faculty_tec     [1.31194801934]\n",
       "16     degree_ba    [0.915138153184]\n",
       "17     degree_ma     [1.62620539058]"
      ]
     },
     "execution_count": 29,
     "metadata": {},
     "output_type": "execute_result"
    }
   ],
   "source": [
    "pd.DataFrame(list(zip(X_train2.columns, np.transpose(model2.coef_))))"
   ]
  },
  {
   "cell_type": "markdown",
   "metadata": {},
   "source": [
    "## Only with Homeworks and Semester"
   ]
  },
  {
   "cell_type": "code",
   "execution_count": 30,
   "metadata": {},
   "outputs": [
    {
     "data": {
      "text/plain": [
       "LogisticRegression(C=1.0, class_weight=None, dual=False, fit_intercept=True,\n",
       "          intercept_scaling=1, max_iter=100, multi_class='ovr', n_jobs=1,\n",
       "          penalty='l2', random_state=None, solver='liblinear', tol=0.0001,\n",
       "          verbose=0, warm_start=False)"
      ]
     },
     "execution_count": 30,
     "metadata": {},
     "output_type": "execute_result"
    }
   ],
   "source": [
    "model3 = LogisticRegression()\n",
    "model3.fit(X_train3, y_train3)"
   ]
  },
  {
   "cell_type": "code",
   "execution_count": 31,
   "metadata": {},
   "outputs": [
    {
     "name": "stdout",
     "output_type": "stream",
     "text": [
      "      Prediction\n",
      "       0.0   1.0\n",
      "  0.0    6     6\n",
      "  1.0    0    14\n",
      "\n",
      "0.769230769231\n",
      "             precision    recall  f1-score   support\n",
      "\n",
      "        0.0       1.00      0.50      0.67        12\n",
      "        1.0       0.70      1.00      0.82        14\n",
      "\n",
      "avg / total       0.84      0.77      0.75        26\n",
      "\n"
     ]
    }
   ],
   "source": [
    "evaluate(model3, X_test3, y_test3)"
   ]
  },
  {
   "cell_type": "code",
   "execution_count": 32,
   "metadata": {},
   "outputs": [
    {
     "data": {
      "text/html": [
       "<div>\n",
       "<table border=\"1\" class=\"dataframe\">\n",
       "  <thead>\n",
       "    <tr style=\"text-align: right;\">\n",
       "      <th></th>\n",
       "      <th>0</th>\n",
       "      <th>1</th>\n",
       "    </tr>\n",
       "  </thead>\n",
       "  <tbody>\n",
       "    <tr>\n",
       "      <th>0</th>\n",
       "      <td>b1</td>\n",
       "      <td>[-0.169966594756]</td>\n",
       "    </tr>\n",
       "    <tr>\n",
       "      <th>1</th>\n",
       "      <td>b2</td>\n",
       "      <td>[0.139146285088]</td>\n",
       "    </tr>\n",
       "    <tr>\n",
       "      <th>2</th>\n",
       "      <td>b3</td>\n",
       "      <td>[0.0663124771063]</td>\n",
       "    </tr>\n",
       "    <tr>\n",
       "      <th>3</th>\n",
       "      <td>b4</td>\n",
       "      <td>[-0.022396295217]</td>\n",
       "    </tr>\n",
       "    <tr>\n",
       "      <th>4</th>\n",
       "      <td>b5</td>\n",
       "      <td>[0.0134817201519]</td>\n",
       "    </tr>\n",
       "    <tr>\n",
       "      <th>5</th>\n",
       "      <td>semester</td>\n",
       "      <td>[0.156816673214]</td>\n",
       "    </tr>\n",
       "    <tr>\n",
       "      <th>6</th>\n",
       "      <td>degree_ba</td>\n",
       "      <td>[1.8742792371]</td>\n",
       "    </tr>\n",
       "    <tr>\n",
       "      <th>7</th>\n",
       "      <td>degree_ma</td>\n",
       "      <td>[1.72672413338]</td>\n",
       "    </tr>\n",
       "  </tbody>\n",
       "</table>\n",
       "</div>"
      ],
      "text/plain": [
       "           0                  1\n",
       "0         b1  [-0.169966594756]\n",
       "1         b2   [0.139146285088]\n",
       "2         b3  [0.0663124771063]\n",
       "3         b4  [-0.022396295217]\n",
       "4         b5  [0.0134817201519]\n",
       "5   semester   [0.156816673214]\n",
       "6  degree_ba     [1.8742792371]\n",
       "7  degree_ma    [1.72672413338]"
      ]
     },
     "execution_count": 32,
     "metadata": {},
     "output_type": "execute_result"
    }
   ],
   "source": [
    "pd.DataFrame(list(zip(X_train3.columns, np.transpose(model3.coef_))))"
   ]
  },
  {
   "cell_type": "markdown",
   "metadata": {},
   "source": [
    "# Decision Tree"
   ]
  },
  {
   "cell_type": "code",
   "execution_count": 33,
   "metadata": {},
   "outputs": [],
   "source": [
    "from sklearn import tree\n",
    "decision_tree = tree.DecisionTreeClassifier()\n",
    "from sklearn.model_selection import StratifiedKFold\n",
    "cross_val = StratifiedKFold(n_splits=10, shuffle=True, random_state=42)\n",
    "from sklearn.model_selection import cross_val_score\n",
    "acc_each_split = cross_val_score(decision_tree, learn_subject, target, cv=cross_val, scoring='accuracy')"
   ]
  },
  {
   "cell_type": "code",
   "execution_count": 34,
   "metadata": {},
   "outputs": [],
   "source": [
    "# for depth in [1,2,3,4,5,6,7,8,9]:    \n",
    "# \tdecision_tree = tree.DecisionTreeClassifier(max_depth=depth)\n",
    "# \tcross_val = StratifiedKFold(n_splits=10, shuffle=True, random_state=42)\n",
    "# \tacc_each_split = cross_val_score(decision_tree, learn_subject, target, cv=cross_val, scoring='accuracy')\n",
    "# \tdecision_tree.fit(learn_subject, target)\n",
    "# \tprint(\"tree with depth= {} and {} nodes has accuracy {}\".format(depth, decision_tree.tree_.node_count,acc_each_split.mean()))"
   ]
  },
  {
   "cell_type": "code",
   "execution_count": 35,
   "metadata": {},
   "outputs": [
    {
     "data": {
      "text/plain": [
       "DecisionTreeClassifier(class_weight=None, criterion='gini', max_depth=2,\n",
       "            max_features=None, max_leaf_nodes=None,\n",
       "            min_impurity_split=1e-07, min_samples_leaf=1,\n",
       "            min_samples_split=2, min_weight_fraction_leaf=0.0,\n",
       "            presort=False, random_state=None, splitter='best')"
      ]
     },
     "execution_count": 35,
     "metadata": {},
     "output_type": "execute_result"
    }
   ],
   "source": [
    "#choose 2\n",
    "decision_tree = tree.DecisionTreeClassifier(max_depth=2)\n",
    "decision_tree.fit(X_train, y_train)"
   ]
  },
  {
   "cell_type": "code",
   "execution_count": 36,
   "metadata": {},
   "outputs": [
    {
     "name": "stdout",
     "output_type": "stream",
     "text": [
      "      Prediction\n",
      "       0.0   1.0\n",
      "  0.0    6     6\n",
      "  1.0    0    14\n",
      "\n",
      "0.769230769231\n",
      "             precision    recall  f1-score   support\n",
      "\n",
      "        0.0       1.00      0.50      0.67        12\n",
      "        1.0       0.70      1.00      0.82        14\n",
      "\n",
      "avg / total       0.84      0.77      0.75        26\n",
      "\n"
     ]
    }
   ],
   "source": [
    "evaluate(decision_tree, X_test, y_test)"
   ]
  },
  {
   "cell_type": "code",
   "execution_count": 37,
   "metadata": {},
   "outputs": [
    {
     "data": {
      "text/html": [
       "<div>\n",
       "<table border=\"1\" class=\"dataframe\">\n",
       "  <thead>\n",
       "    <tr style=\"text-align: right;\">\n",
       "      <th></th>\n",
       "      <th>Importance</th>\n",
       "    </tr>\n",
       "  </thead>\n",
       "  <tbody>\n",
       "    <tr>\n",
       "      <th>b1</th>\n",
       "      <td>0.000000</td>\n",
       "    </tr>\n",
       "    <tr>\n",
       "      <th>b2</th>\n",
       "      <td>0.000000</td>\n",
       "    </tr>\n",
       "    <tr>\n",
       "      <th>b3</th>\n",
       "      <td>0.190001</td>\n",
       "    </tr>\n",
       "    <tr>\n",
       "      <th>b4</th>\n",
       "      <td>0.000000</td>\n",
       "    </tr>\n",
       "    <tr>\n",
       "      <th>b5</th>\n",
       "      <td>0.000000</td>\n",
       "    </tr>\n",
       "    <tr>\n",
       "      <th>semester</th>\n",
       "      <td>0.809999</td>\n",
       "    </tr>\n",
       "    <tr>\n",
       "      <th>tutor_tutor1</th>\n",
       "      <td>0.000000</td>\n",
       "    </tr>\n",
       "    <tr>\n",
       "      <th>tutor_tutor2</th>\n",
       "      <td>0.000000</td>\n",
       "    </tr>\n",
       "    <tr>\n",
       "      <th>tutor_tutor3</th>\n",
       "      <td>0.000000</td>\n",
       "    </tr>\n",
       "    <tr>\n",
       "      <th>tutor_tutor4</th>\n",
       "      <td>0.000000</td>\n",
       "    </tr>\n",
       "    <tr>\n",
       "      <th>tutor_tutor5</th>\n",
       "      <td>0.000000</td>\n",
       "    </tr>\n",
       "    <tr>\n",
       "      <th>tutor_tutor6</th>\n",
       "      <td>0.000000</td>\n",
       "    </tr>\n",
       "    <tr>\n",
       "      <th>subject_inf</th>\n",
       "      <td>0.000000</td>\n",
       "    </tr>\n",
       "    <tr>\n",
       "      <th>subject_lehr</th>\n",
       "      <td>0.000000</td>\n",
       "    </tr>\n",
       "    <tr>\n",
       "      <th>subject_mat</th>\n",
       "      <td>0.000000</td>\n",
       "    </tr>\n",
       "    <tr>\n",
       "      <th>subject_mmm</th>\n",
       "      <td>0.000000</td>\n",
       "    </tr>\n",
       "    <tr>\n",
       "      <th>subject_psy</th>\n",
       "      <td>0.000000</td>\n",
       "    </tr>\n",
       "    <tr>\n",
       "      <th>subject_soz</th>\n",
       "      <td>0.000000</td>\n",
       "    </tr>\n",
       "    <tr>\n",
       "      <th>subject_wip</th>\n",
       "      <td>0.000000</td>\n",
       "    </tr>\n",
       "    <tr>\n",
       "      <th>degree_ba</th>\n",
       "      <td>0.000000</td>\n",
       "    </tr>\n",
       "    <tr>\n",
       "      <th>degree_ma</th>\n",
       "      <td>0.000000</td>\n",
       "    </tr>\n",
       "  </tbody>\n",
       "</table>\n",
       "</div>"
      ],
      "text/plain": [
       "              Importance\n",
       "b1              0.000000\n",
       "b2              0.000000\n",
       "b3              0.190001\n",
       "b4              0.000000\n",
       "b5              0.000000\n",
       "semester        0.809999\n",
       "tutor_tutor1    0.000000\n",
       "tutor_tutor2    0.000000\n",
       "tutor_tutor3    0.000000\n",
       "tutor_tutor4    0.000000\n",
       "tutor_tutor5    0.000000\n",
       "tutor_tutor6    0.000000\n",
       "subject_inf     0.000000\n",
       "subject_lehr    0.000000\n",
       "subject_mat     0.000000\n",
       "subject_mmm     0.000000\n",
       "subject_psy     0.000000\n",
       "subject_soz     0.000000\n",
       "subject_wip     0.000000\n",
       "degree_ba       0.000000\n",
       "degree_ma       0.000000"
      ]
     },
     "execution_count": 37,
     "metadata": {},
     "output_type": "execute_result"
    }
   ],
   "source": [
    "importance =  decision_tree.feature_importances_\n",
    "importance = pd.DataFrame(importance, index=X_train.columns, \n",
    "                          columns=[\"Importance\"])\n",
    "importance"
   ]
  },
  {
   "cell_type": "markdown",
   "metadata": {},
   "source": [
    "## Testing on small(er) Data"
   ]
  },
  {
   "cell_type": "code",
   "execution_count": 38,
   "metadata": {},
   "outputs": [
    {
     "name": "stdout",
     "output_type": "stream",
     "text": [
      "tree with depth= 1 and 3 nodes has accuracy 0.7935164835164835\n",
      "tree with depth= 2 and 5 nodes has accuracy 0.7935164835164835\n",
      "tree with depth= 3 and 9 nodes has accuracy 0.752087912087912\n",
      "tree with depth= 4 and 13 nodes has accuracy 0.7101831501831503\n",
      "tree with depth= 5 and 21 nodes has accuracy 0.7005128205128205\n",
      "tree with depth= 6 and 31 nodes has accuracy 0.6671794871794872\n",
      "tree with depth= 7 and 41 nodes has accuracy 0.6671062271062271\n",
      "tree with depth= 8 and 47 nodes has accuracy 0.6538461538461539\n",
      "tree with depth= 9 and 51 nodes has accuracy 0.6205860805860807\n"
     ]
    }
   ],
   "source": [
    "for depth in [1,2,3,4,5,6,7,8,9]:    \n",
    "\tdecision_tree = tree.DecisionTreeClassifier(max_depth=depth)\n",
    "\tcross_val = StratifiedKFold(n_splits=10, shuffle=True, random_state=42)\n",
    "\tacc_each_split = cross_val_score(decision_tree, X_train2, y_train2, cv=cross_val, scoring='accuracy')\n",
    "\tdecision_tree.fit(X_train2, y_train2)\n",
    "\tprint(\"tree with depth= {} and {} nodes has accuracy {}\".format(depth, decision_tree.tree_.node_count,acc_each_split.mean()))"
   ]
  },
  {
   "cell_type": "code",
   "execution_count": 39,
   "metadata": {},
   "outputs": [
    {
     "data": {
      "text/plain": [
       "DecisionTreeClassifier(class_weight=None, criterion='gini', max_depth=2,\n",
       "            max_features=None, max_leaf_nodes=None,\n",
       "            min_impurity_split=1e-07, min_samples_leaf=1,\n",
       "            min_samples_split=2, min_weight_fraction_leaf=0.0,\n",
       "            presort=False, random_state=None, splitter='best')"
      ]
     },
     "execution_count": 39,
     "metadata": {},
     "output_type": "execute_result"
    }
   ],
   "source": [
    "decision_tree = tree.DecisionTreeClassifier(max_depth=2)\n",
    "decision_tree.fit(X_train2, y_train2)"
   ]
  },
  {
   "cell_type": "code",
   "execution_count": 40,
   "metadata": {},
   "outputs": [
    {
     "name": "stdout",
     "output_type": "stream",
     "text": [
      "      Prediction\n",
      "       0.0   1.0\n",
      "  0.0    6     6\n",
      "  1.0    0    14\n",
      "\n",
      "0.769230769231\n",
      "             precision    recall  f1-score   support\n",
      "\n",
      "        0.0       1.00      0.50      0.67        12\n",
      "        1.0       0.70      1.00      0.82        14\n",
      "\n",
      "avg / total       0.84      0.77      0.75        26\n",
      "\n"
     ]
    }
   ],
   "source": [
    "evaluate(decision_tree, X_test2, y_test2)"
   ]
  },
  {
   "cell_type": "code",
   "execution_count": 41,
   "metadata": {},
   "outputs": [
    {
     "data": {
      "text/html": [
       "<div>\n",
       "<table border=\"1\" class=\"dataframe\">\n",
       "  <thead>\n",
       "    <tr style=\"text-align: right;\">\n",
       "      <th></th>\n",
       "      <th>Importance</th>\n",
       "    </tr>\n",
       "  </thead>\n",
       "  <tbody>\n",
       "    <tr>\n",
       "      <th>b1</th>\n",
       "      <td>0.000000</td>\n",
       "    </tr>\n",
       "    <tr>\n",
       "      <th>b2</th>\n",
       "      <td>0.000000</td>\n",
       "    </tr>\n",
       "    <tr>\n",
       "      <th>b3</th>\n",
       "      <td>0.190001</td>\n",
       "    </tr>\n",
       "    <tr>\n",
       "      <th>b4</th>\n",
       "      <td>0.000000</td>\n",
       "    </tr>\n",
       "    <tr>\n",
       "      <th>b5</th>\n",
       "      <td>0.000000</td>\n",
       "    </tr>\n",
       "    <tr>\n",
       "      <th>semester</th>\n",
       "      <td>0.809999</td>\n",
       "    </tr>\n",
       "    <tr>\n",
       "      <th>tutor_tutor1</th>\n",
       "      <td>0.000000</td>\n",
       "    </tr>\n",
       "    <tr>\n",
       "      <th>tutor_tutor2</th>\n",
       "      <td>0.000000</td>\n",
       "    </tr>\n",
       "    <tr>\n",
       "      <th>tutor_tutor3</th>\n",
       "      <td>0.000000</td>\n",
       "    </tr>\n",
       "    <tr>\n",
       "      <th>tutor_tutor4</th>\n",
       "      <td>0.000000</td>\n",
       "    </tr>\n",
       "    <tr>\n",
       "      <th>tutor_tutor5</th>\n",
       "      <td>0.000000</td>\n",
       "    </tr>\n",
       "    <tr>\n",
       "      <th>tutor_tutor6</th>\n",
       "      <td>0.000000</td>\n",
       "    </tr>\n",
       "    <tr>\n",
       "      <th>faculty_eco</th>\n",
       "      <td>0.000000</td>\n",
       "    </tr>\n",
       "    <tr>\n",
       "      <th>faculty_hum</th>\n",
       "      <td>0.000000</td>\n",
       "    </tr>\n",
       "    <tr>\n",
       "      <th>faculty_soc</th>\n",
       "      <td>0.000000</td>\n",
       "    </tr>\n",
       "    <tr>\n",
       "      <th>faculty_tec</th>\n",
       "      <td>0.000000</td>\n",
       "    </tr>\n",
       "    <tr>\n",
       "      <th>degree_ba</th>\n",
       "      <td>0.000000</td>\n",
       "    </tr>\n",
       "    <tr>\n",
       "      <th>degree_ma</th>\n",
       "      <td>0.000000</td>\n",
       "    </tr>\n",
       "  </tbody>\n",
       "</table>\n",
       "</div>"
      ],
      "text/plain": [
       "              Importance\n",
       "b1              0.000000\n",
       "b2              0.000000\n",
       "b3              0.190001\n",
       "b4              0.000000\n",
       "b5              0.000000\n",
       "semester        0.809999\n",
       "tutor_tutor1    0.000000\n",
       "tutor_tutor2    0.000000\n",
       "tutor_tutor3    0.000000\n",
       "tutor_tutor4    0.000000\n",
       "tutor_tutor5    0.000000\n",
       "tutor_tutor6    0.000000\n",
       "faculty_eco     0.000000\n",
       "faculty_hum     0.000000\n",
       "faculty_soc     0.000000\n",
       "faculty_tec     0.000000\n",
       "degree_ba       0.000000\n",
       "degree_ma       0.000000"
      ]
     },
     "execution_count": 41,
     "metadata": {},
     "output_type": "execute_result"
    }
   ],
   "source": [
    "importance =  decision_tree.feature_importances_\n",
    "importance = pd.DataFrame(importance, index=X_train2.columns, \n",
    "                          columns=[\"Importance\"])\n",
    "importance"
   ]
  },
  {
   "cell_type": "markdown",
   "metadata": {},
   "source": [
    "## Testing on Homework and Semester Data only"
   ]
  },
  {
   "cell_type": "code",
   "execution_count": 42,
   "metadata": {},
   "outputs": [
    {
     "name": "stdout",
     "output_type": "stream",
     "text": [
      "tree with depth= 1 and 3 nodes has accuracy 0.7935164835164835\n",
      "tree with depth= 2 and 5 nodes has accuracy 0.7935164835164835\n",
      "tree with depth= 3 and 9 nodes has accuracy 0.752087912087912\n",
      "tree with depth= 4 and 13 nodes has accuracy 0.7382783882783883\n",
      "tree with depth= 5 and 21 nodes has accuracy 0.7730402930402931\n",
      "tree with depth= 6 and 31 nodes has accuracy 0.7116117216117216\n",
      "tree with depth= 7 and 41 nodes has accuracy 0.7044688644688645\n",
      "tree with depth= 8 and 47 nodes has accuracy 0.7192307692307691\n",
      "tree with depth= 9 and 53 nodes has accuracy 0.6711355311355313\n"
     ]
    }
   ],
   "source": [
    "for depth in [1,2,3,4,5,6,7,8,9]:    \n",
    "\tdecision_tree = tree.DecisionTreeClassifier(max_depth=depth)\n",
    "\tcross_val = StratifiedKFold(n_splits=10, shuffle=True, random_state=42)\n",
    "\tacc_each_split = cross_val_score(decision_tree, X_train3, y_train3, cv=cross_val, scoring='accuracy')\n",
    "\tdecision_tree.fit(X_train3, y_train3)\n",
    "\tprint(\"tree with depth= {} and {} nodes has accuracy {}\".format(depth, decision_tree.tree_.node_count,acc_each_split.mean()))"
   ]
  },
  {
   "cell_type": "code",
   "execution_count": 43,
   "metadata": {},
   "outputs": [
    {
     "data": {
      "text/plain": [
       "DecisionTreeClassifier(class_weight=None, criterion='gini', max_depth=2,\n",
       "            max_features=None, max_leaf_nodes=None,\n",
       "            min_impurity_split=1e-07, min_samples_leaf=1,\n",
       "            min_samples_split=2, min_weight_fraction_leaf=0.0,\n",
       "            presort=False, random_state=None, splitter='best')"
      ]
     },
     "execution_count": 43,
     "metadata": {},
     "output_type": "execute_result"
    }
   ],
   "source": [
    "decision_tree = tree.DecisionTreeClassifier(max_depth=2)\n",
    "decision_tree.fit(X_train3, y_train3)"
   ]
  },
  {
   "cell_type": "code",
   "execution_count": 44,
   "metadata": {},
   "outputs": [
    {
     "name": "stdout",
     "output_type": "stream",
     "text": [
      "      Prediction\n",
      "       0.0   1.0\n",
      "  0.0    6     6\n",
      "  1.0    0    14\n",
      "\n",
      "0.769230769231\n",
      "             precision    recall  f1-score   support\n",
      "\n",
      "        0.0       1.00      0.50      0.67        12\n",
      "        1.0       0.70      1.00      0.82        14\n",
      "\n",
      "avg / total       0.84      0.77      0.75        26\n",
      "\n"
     ]
    }
   ],
   "source": [
    "evaluate(decision_tree, X_test3, y_test3)"
   ]
  },
  {
   "cell_type": "code",
   "execution_count": 45,
   "metadata": {},
   "outputs": [
    {
     "data": {
      "text/html": [
       "<div>\n",
       "<table border=\"1\" class=\"dataframe\">\n",
       "  <thead>\n",
       "    <tr style=\"text-align: right;\">\n",
       "      <th></th>\n",
       "      <th>Importance</th>\n",
       "    </tr>\n",
       "  </thead>\n",
       "  <tbody>\n",
       "    <tr>\n",
       "      <th>b1</th>\n",
       "      <td>0.000000</td>\n",
       "    </tr>\n",
       "    <tr>\n",
       "      <th>b2</th>\n",
       "      <td>0.000000</td>\n",
       "    </tr>\n",
       "    <tr>\n",
       "      <th>b3</th>\n",
       "      <td>0.190001</td>\n",
       "    </tr>\n",
       "    <tr>\n",
       "      <th>b4</th>\n",
       "      <td>0.000000</td>\n",
       "    </tr>\n",
       "    <tr>\n",
       "      <th>b5</th>\n",
       "      <td>0.000000</td>\n",
       "    </tr>\n",
       "    <tr>\n",
       "      <th>semester</th>\n",
       "      <td>0.809999</td>\n",
       "    </tr>\n",
       "    <tr>\n",
       "      <th>degree_ba</th>\n",
       "      <td>0.000000</td>\n",
       "    </tr>\n",
       "    <tr>\n",
       "      <th>degree_ma</th>\n",
       "      <td>0.000000</td>\n",
       "    </tr>\n",
       "  </tbody>\n",
       "</table>\n",
       "</div>"
      ],
      "text/plain": [
       "           Importance\n",
       "b1           0.000000\n",
       "b2           0.000000\n",
       "b3           0.190001\n",
       "b4           0.000000\n",
       "b5           0.000000\n",
       "semester     0.809999\n",
       "degree_ba    0.000000\n",
       "degree_ma    0.000000"
      ]
     },
     "execution_count": 45,
     "metadata": {},
     "output_type": "execute_result"
    }
   ],
   "source": [
    "importance =  decision_tree.feature_importances_\n",
    "importance = pd.DataFrame(importance, index=X_train3.columns, \n",
    "                          columns=[\"Importance\"])\n",
    "importance"
   ]
  },
  {
   "cell_type": "markdown",
   "metadata": {},
   "source": [
    "# Random Forest"
   ]
  },
  {
   "cell_type": "code",
   "execution_count": 46,
   "metadata": {},
   "outputs": [],
   "source": [
    "from sklearn.ensemble import RandomForestClassifier"
   ]
  },
  {
   "cell_type": "code",
   "execution_count": 47,
   "metadata": {},
   "outputs": [],
   "source": [
    "# for estimators in [10, 20, 30, 40, 50, 60]:\n",
    "#     for depth in [1,2,3,4,5,6,7,8,9]:    \n",
    "#         rf_model =  RandomForestClassifier(max_depth=depth, n_estimators=estimators)\n",
    "#         cross_val = StratifiedKFold(n_splits=10, shuffle=True, random_state=42)\n",
    "#         acc_each_split = cross_val_score(rf_model, X_train, y_train, cv=cross_val, scoring='accuracy')\n",
    "#         rf_model.fit(X_train, y_train)\n",
    "#         print(\"tree with depth= {} and estimators= {} has accuracy {}\".format(depth, estimators, acc_each_split.mean()))"
   ]
  },
  {
   "cell_type": "code",
   "execution_count": 48,
   "metadata": {},
   "outputs": [
    {
     "name": "stdout",
     "output_type": "stream",
     "text": [
      "      Prediction\n",
      "       0.0   1.0\n",
      "  0.0    8     4\n",
      "  1.0    1    13\n",
      "\n",
      "0.807692307692\n",
      "             precision    recall  f1-score   support\n",
      "\n",
      "        0.0       0.89      0.67      0.76        12\n",
      "        1.0       0.76      0.93      0.84        14\n",
      "\n",
      "avg / total       0.82      0.81      0.80        26\n",
      "\n"
     ]
    }
   ],
   "source": [
    "rf_model =  RandomForestClassifier(max_depth=8,n_estimators=60)\n",
    "rf_model.fit(X_train,y_train)\n",
    "evaluate(rf_model, X_test, y_test)"
   ]
  },
  {
   "cell_type": "code",
   "execution_count": 49,
   "metadata": {},
   "outputs": [],
   "source": [
    "# for estimators in [10, 20, 30, 40, 50, 60]:\n",
    "#     for depth in [1,2,3,4,5,6,7,8,9]:    \n",
    "#         rf_model2 =  RandomForestClassifier(max_depth=depth, n_estimators=estimators)\n",
    "#         cross_val = StratifiedKFold(n_splits=10, shuffle=True, random_state=42)\n",
    "#         acc_each_split = cross_val_score(rf_model2, X_train2, y_train2, cv=cross_val, scoring='accuracy')\n",
    "#         rf_model.fit(X_train2, y_train2)\n",
    "#         print(\"tree with depth= {} and estimators= {} has accuracy {}\".format(depth, estimators, acc_each_split.mean()))"
   ]
  },
  {
   "cell_type": "code",
   "execution_count": 50,
   "metadata": {},
   "outputs": [
    {
     "name": "stdout",
     "output_type": "stream",
     "text": [
      "      Prediction\n",
      "       0.0   1.0\n",
      "  0.0   10     2\n",
      "  1.0    1    13\n",
      "\n",
      "0.884615384615\n",
      "             precision    recall  f1-score   support\n",
      "\n",
      "        0.0       0.91      0.83      0.87        12\n",
      "        1.0       0.87      0.93      0.90        14\n",
      "\n",
      "avg / total       0.89      0.88      0.88        26\n",
      "\n"
     ]
    }
   ],
   "source": [
    "rf_model2 =  RandomForestClassifier(max_depth=9,n_estimators=10)\n",
    "rf_model2.fit(X_train2,y_train2)\n",
    "evaluate(rf_model2, X_test2, y_test2)"
   ]
  },
  {
   "cell_type": "code",
   "execution_count": 51,
   "metadata": {},
   "outputs": [],
   "source": [
    "# for estimators in [10, 20, 30, 40, 50, 60]:\n",
    "#     for depth in [1,2,3,4,5,6,7,8,9]:    \n",
    "#         rf_model3 =  RandomForestClassifier(max_depth=depth, n_estimators=estimators)\n",
    "#         cross_val = StratifiedKFold(n_splits=10, shuffle=True, random_state=42)\n",
    "#         acc_each_split = cross_val_score(rf_model3, X_train3, y_train3, cv=cross_val, scoring='accuracy')\n",
    "#         rf_model.fit(X_train3, y_train3)\n",
    "#         print(\"tree with depth= {} and estimators= {} has accuracy {}\".format(depth, estimators, acc_each_split.mean()))"
   ]
  },
  {
   "cell_type": "code",
   "execution_count": 52,
   "metadata": {},
   "outputs": [
    {
     "name": "stdout",
     "output_type": "stream",
     "text": [
      "      Prediction\n",
      "       0.0   1.0\n",
      "  0.0    9     3\n",
      "  1.0    1    13\n",
      "\n",
      "0.846153846154\n",
      "             precision    recall  f1-score   support\n",
      "\n",
      "        0.0       0.90      0.75      0.82        12\n",
      "        1.0       0.81      0.93      0.87        14\n",
      "\n",
      "avg / total       0.85      0.85      0.84        26\n",
      "\n"
     ]
    }
   ],
   "source": [
    "rf_model3 =  RandomForestClassifier(max_depth=8,n_estimators=20)\n",
    "rf_model3.fit(X_train3,y_train3)\n",
    "evaluate(rf_model3, X_test3, y_test3)"
   ]
  },
  {
   "cell_type": "code",
   "execution_count": 53,
   "metadata": {},
   "outputs": [
    {
     "data": {
      "text/html": [
       "<div>\n",
       "<table border=\"1\" class=\"dataframe\">\n",
       "  <thead>\n",
       "    <tr style=\"text-align: right;\">\n",
       "      <th></th>\n",
       "      <th>Importance</th>\n",
       "    </tr>\n",
       "  </thead>\n",
       "  <tbody>\n",
       "    <tr>\n",
       "      <th>b1</th>\n",
       "      <td>0.069491</td>\n",
       "    </tr>\n",
       "    <tr>\n",
       "      <th>b2</th>\n",
       "      <td>0.080939</td>\n",
       "    </tr>\n",
       "    <tr>\n",
       "      <th>b3</th>\n",
       "      <td>0.111871</td>\n",
       "    </tr>\n",
       "    <tr>\n",
       "      <th>b4</th>\n",
       "      <td>0.092113</td>\n",
       "    </tr>\n",
       "    <tr>\n",
       "      <th>b5</th>\n",
       "      <td>0.078781</td>\n",
       "    </tr>\n",
       "    <tr>\n",
       "      <th>semester</th>\n",
       "      <td>0.260802</td>\n",
       "    </tr>\n",
       "    <tr>\n",
       "      <th>tutor_tutor1</th>\n",
       "      <td>0.024181</td>\n",
       "    </tr>\n",
       "    <tr>\n",
       "      <th>tutor_tutor2</th>\n",
       "      <td>0.009339</td>\n",
       "    </tr>\n",
       "    <tr>\n",
       "      <th>tutor_tutor3</th>\n",
       "      <td>0.019055</td>\n",
       "    </tr>\n",
       "    <tr>\n",
       "      <th>tutor_tutor4</th>\n",
       "      <td>0.008170</td>\n",
       "    </tr>\n",
       "    <tr>\n",
       "      <th>tutor_tutor5</th>\n",
       "      <td>0.024613</td>\n",
       "    </tr>\n",
       "    <tr>\n",
       "      <th>tutor_tutor6</th>\n",
       "      <td>0.010454</td>\n",
       "    </tr>\n",
       "    <tr>\n",
       "      <th>faculty_eco</th>\n",
       "      <td>0.023255</td>\n",
       "    </tr>\n",
       "    <tr>\n",
       "      <th>faculty_hum</th>\n",
       "      <td>0.007392</td>\n",
       "    </tr>\n",
       "    <tr>\n",
       "      <th>faculty_soc</th>\n",
       "      <td>0.004255</td>\n",
       "    </tr>\n",
       "    <tr>\n",
       "      <th>faculty_tec</th>\n",
       "      <td>0.065522</td>\n",
       "    </tr>\n",
       "    <tr>\n",
       "      <th>degree_ba</th>\n",
       "      <td>0.087052</td>\n",
       "    </tr>\n",
       "    <tr>\n",
       "      <th>degree_ma</th>\n",
       "      <td>0.022714</td>\n",
       "    </tr>\n",
       "  </tbody>\n",
       "</table>\n",
       "</div>"
      ],
      "text/plain": [
       "              Importance\n",
       "b1              0.069491\n",
       "b2              0.080939\n",
       "b3              0.111871\n",
       "b4              0.092113\n",
       "b5              0.078781\n",
       "semester        0.260802\n",
       "tutor_tutor1    0.024181\n",
       "tutor_tutor2    0.009339\n",
       "tutor_tutor3    0.019055\n",
       "tutor_tutor4    0.008170\n",
       "tutor_tutor5    0.024613\n",
       "tutor_tutor6    0.010454\n",
       "faculty_eco     0.023255\n",
       "faculty_hum     0.007392\n",
       "faculty_soc     0.004255\n",
       "faculty_tec     0.065522\n",
       "degree_ba       0.087052\n",
       "degree_ma       0.022714"
      ]
     },
     "execution_count": 53,
     "metadata": {},
     "output_type": "execute_result"
    }
   ],
   "source": [
    "importance =  rf_model2.feature_importances_\n",
    "importance = pd.DataFrame(importance, index=X_train2.columns, \n",
    "                          columns=[\"Importance\"])\n",
    "importance"
   ]
  },
  {
   "cell_type": "code",
   "execution_count": 54,
   "metadata": {},
   "outputs": [],
   "source": [
    "import matplotlib.pyplot as plt"
   ]
  },
  {
   "cell_type": "code",
   "execution_count": 55,
   "metadata": {},
   "outputs": [],
   "source": [
    "plotdata = pd.Series(range(0,160,1))\n",
    "plotdata = plotdata.to_frame(\"weight\")\n",
    "plotdata[\"precision\"] = 0\n",
    "plotdata[\"recall\"] = 0"
   ]
  },
  {
   "cell_type": "code",
   "execution_count": 56,
   "metadata": {},
   "outputs": [
    {
     "name": "stderr",
     "output_type": "stream",
     "text": [
      "C:\\Users\\laris\\Anaconda3\\lib\\site-packages\\ipykernel_launcher.py:11: SettingWithCopyWarning: \n",
      "A value is trying to be set on a copy of a slice from a DataFrame\n",
      "\n",
      "See the caveats in the documentation: http://pandas.pydata.org/pandas-docs/stable/indexing.html#indexing-view-versus-copy\n",
      "  # This is added back by InteractiveShellApp.init_path()\n",
      "C:\\Users\\laris\\Anaconda3\\lib\\site-packages\\ipykernel_launcher.py:12: RuntimeWarning: invalid value encountered in long_scalars\n",
      "  if sys.path[0] == '':\n",
      "C:\\Users\\laris\\Anaconda3\\lib\\site-packages\\ipykernel_launcher.py:12: SettingWithCopyWarning: \n",
      "A value is trying to be set on a copy of a slice from a DataFrame\n",
      "\n",
      "See the caveats in the documentation: http://pandas.pydata.org/pandas-docs/stable/indexing.html#indexing-view-versus-copy\n",
      "  if sys.path[0] == '':\n",
      "C:\\Users\\laris\\Anaconda3\\lib\\site-packages\\ipykernel_launcher.py:11: SettingWithCopyWarning: \n",
      "A value is trying to be set on a copy of a slice from a DataFrame\n",
      "\n",
      "See the caveats in the documentation: http://pandas.pydata.org/pandas-docs/stable/indexing.html#indexing-view-versus-copy\n",
      "  # This is added back by InteractiveShellApp.init_path()\n"
     ]
    }
   ],
   "source": [
    "for i in plotdata[\"weight\"]:\n",
    "    rf_model =  RandomForestClassifier(max_depth = 8, \n",
    "                                       n_estimators = 20, \n",
    "                                       class_weight = {0:i, 1:1}, \n",
    "                                       random_state = 42)\n",
    "    rf_model.fit(X_train3,y_train3)\n",
    "    #evaluate(rf_model, X_test3, y_test3)\n",
    "    prediction = rf_model.predict(X_test3)\n",
    "    y_pred = X_test3.assign(prediction = prediction)\n",
    "    y_pred = y_pred.assign(true = y_test3)\n",
    "    plotdata[\"recall\"][plotdata[\"weight\"] == i] = confusion_matrix(y_pred[\"true\"], y_pred[\"prediction\"])[0,0] / (confusion_matrix(y_pred[\"true\"], y_pred[\"prediction\"])[0,0] + confusion_matrix(y_pred[\"true\"], y_pred[\"prediction\"])[0,1])\n",
    "    plotdata[\"precision\"][plotdata[\"weight\"] == i] = confusion_matrix(y_pred[\"true\"], y_pred[\"prediction\"])[0,0] / (confusion_matrix(y_pred[\"true\"], y_pred[\"prediction\"])[0,0] + confusion_matrix(y_pred[\"true\"], y_pred[\"prediction\"])[1,0])\n",
    "    #print(row['weight'], row['precision'], row['recall'])"
   ]
  },
  {
   "cell_type": "code",
   "execution_count": 57,
   "metadata": {},
   "outputs": [
    {
     "data": {
      "image/png": "[encoded data removed]",
      "text/plain": [
       "<matplotlib.figure.Figure at 0x2270db76128>"
      ]
     },
     "metadata": {},
     "output_type": "display_data"
    }
   ],
   "source": [
    "plt.plot(plotdata[\"weight\"], plotdata[\"recall\"])\n",
    "plt.plot(plotdata[\"weight\"], plotdata[\"precision\"])\n",
    "plt.title(\"Different Oversampling Rates of Failing Students\")\n",
    "plt.xlabel(\"Weighting Rates\")\n",
    "plt.ylabel(\"Accuracy\")\n",
    "plt.legend()\n",
    "plt.show()"
   ]
  }
 ],
 "metadata": {
  "kernelspec": {
   "display_name": "Python 3",
   "language": "python",
   "name": "python3"
  },
  "language_info": {
   "codemirror_mode": {
    "name": "ipython",
    "version": 3
   },
   "file_extension": ".py",
   "mimetype": "text/x-python",
   "name": "python",
   "nbconvert_exporter": "python",
   "pygments_lexer": "ipython3",
   "version": "3.6.4"
  }
 },
 "nbformat": 4,
 "nbformat_minor": 2
}
