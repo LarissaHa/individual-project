{
 "cells": [
  {
   "cell_type": "markdown",
   "metadata": {},
   "source": [
    "# 3 - Correlation and Pattern Prediction\n",
    "\n",
    "## prediction over weeks - prediction as soon as possible?"
   ]
  },
  {
   "cell_type": "code",
   "execution_count": 1,
   "metadata": {},
   "outputs": [],
   "source": [
    "import pandas as pd\n",
    "import re \n",
    "import numpy as np\n",
    "import matplotlib.pyplot as plt\n",
    "import seaborn as sn"
   ]
  },
  {
   "cell_type": "code",
   "execution_count": 2,
   "metadata": {},
   "outputs": [],
   "source": [
    "gem = pd.read_csv('task-and-exam-marks-in-groups.csv', delimiter=\";\", encoding=\"utf-8\")\n",
    "del gem[\"Unnamed: 0\"]"
   ]
  },
  {
   "cell_type": "code",
   "execution_count": 3,
   "metadata": {},
   "outputs": [],
   "source": [
    "pd.options.display.max_columns = 50"
   ]
  },
  {
   "cell_type": "code",
   "execution_count": 4,
   "metadata": {},
   "outputs": [
    {
     "data": {
      "text/html": [
       "<div>\n",
       "<table border=\"1\" class=\"dataframe\">\n",
       "  <thead>\n",
       "    <tr style=\"text-align: right;\">\n",
       "      <th></th>\n",
       "      <th>tutor</th>\n",
       "      <th>team_id</th>\n",
       "      <th>b1</th>\n",
       "      <th>b2</th>\n",
       "      <th>b3</th>\n",
       "      <th>b4</th>\n",
       "      <th>b5</th>\n",
       "      <th>b6</th>\n",
       "      <th>b7</th>\n",
       "      <th>b8</th>\n",
       "      <th>b9</th>\n",
       "      <th>b10</th>\n",
       "      <th>b11</th>\n",
       "      <th>hash2</th>\n",
       "      <th>a1</th>\n",
       "      <th>a2</th>\n",
       "      <th>a3</th>\n",
       "      <th>a4</th>\n",
       "      <th>a5</th>\n",
       "      <th>a6</th>\n",
       "      <th>a7</th>\n",
       "      <th>punkte</th>\n",
       "      <th>note</th>\n",
       "      <th>student_id</th>\n",
       "      <th>pass</th>\n",
       "      <th>subject</th>\n",
       "      <th>semester</th>\n",
       "      <th>faculty</th>\n",
       "      <th>degree</th>\n",
       "    </tr>\n",
       "  </thead>\n",
       "  <tbody>\n",
       "    <tr>\n",
       "      <th>0</th>\n",
       "      <td>tutor2</td>\n",
       "      <td>1.0</td>\n",
       "      <td>10.00</td>\n",
       "      <td>6.5</td>\n",
       "      <td>11.5</td>\n",
       "      <td>13.0</td>\n",
       "      <td>8.5</td>\n",
       "      <td>8.0</td>\n",
       "      <td>10.5</td>\n",
       "      <td>12.5</td>\n",
       "      <td>7.0</td>\n",
       "      <td>13.0</td>\n",
       "      <td>0.0</td>\n",
       "      <td>0afdc45f7ee8e52ebf1afb2970e37b36</td>\n",
       "      <td>0.0</td>\n",
       "      <td>0.0</td>\n",
       "      <td>0.0</td>\n",
       "      <td>0.0</td>\n",
       "      <td>0.0</td>\n",
       "      <td>0.0</td>\n",
       "      <td>0.0</td>\n",
       "      <td>0.0</td>\n",
       "      <td>0.0</td>\n",
       "      <td>0.0</td>\n",
       "      <td>0.0</td>\n",
       "      <td>inf</td>\n",
       "      <td>1.0</td>\n",
       "      <td>tec</td>\n",
       "      <td>ba</td>\n",
       "    </tr>\n",
       "    <tr>\n",
       "      <th>1</th>\n",
       "      <td>tutor2</td>\n",
       "      <td>1.0</td>\n",
       "      <td>10.00</td>\n",
       "      <td>6.5</td>\n",
       "      <td>11.5</td>\n",
       "      <td>13.0</td>\n",
       "      <td>8.5</td>\n",
       "      <td>8.0</td>\n",
       "      <td>10.5</td>\n",
       "      <td>12.5</td>\n",
       "      <td>7.0</td>\n",
       "      <td>13.0</td>\n",
       "      <td>0.0</td>\n",
       "      <td>d821cd2c7b995d4e3a75c64d25e53529</td>\n",
       "      <td>0.0</td>\n",
       "      <td>0.0</td>\n",
       "      <td>0.0</td>\n",
       "      <td>0.0</td>\n",
       "      <td>0.0</td>\n",
       "      <td>0.0</td>\n",
       "      <td>0.0</td>\n",
       "      <td>0.0</td>\n",
       "      <td>0.0</td>\n",
       "      <td>1.0</td>\n",
       "      <td>0.0</td>\n",
       "      <td>inf</td>\n",
       "      <td>1.0</td>\n",
       "      <td>tec</td>\n",
       "      <td>ba</td>\n",
       "    </tr>\n",
       "    <tr>\n",
       "      <th>2</th>\n",
       "      <td>tutor1</td>\n",
       "      <td>1146.0</td>\n",
       "      <td>13.75</td>\n",
       "      <td>13.5</td>\n",
       "      <td>14.5</td>\n",
       "      <td>13.5</td>\n",
       "      <td>11.0</td>\n",
       "      <td>11.5</td>\n",
       "      <td>13.5</td>\n",
       "      <td>15.0</td>\n",
       "      <td>14.5</td>\n",
       "      <td>4.0</td>\n",
       "      <td>0.0</td>\n",
       "      <td>fa873577b8543ed8a6d7d8d7fe6ca546</td>\n",
       "      <td>7.0</td>\n",
       "      <td>7.0</td>\n",
       "      <td>8.5</td>\n",
       "      <td>8.0</td>\n",
       "      <td>6.0</td>\n",
       "      <td>7.0</td>\n",
       "      <td>8.5</td>\n",
       "      <td>52.0</td>\n",
       "      <td>3.3</td>\n",
       "      <td>2.0</td>\n",
       "      <td>1.0</td>\n",
       "      <td>inf</td>\n",
       "      <td>1.0</td>\n",
       "      <td>tec</td>\n",
       "      <td>ba</td>\n",
       "    </tr>\n",
       "    <tr>\n",
       "      <th>3</th>\n",
       "      <td>tutor3</td>\n",
       "      <td>19.0</td>\n",
       "      <td>13.00</td>\n",
       "      <td>6.5</td>\n",
       "      <td>7.5</td>\n",
       "      <td>9.0</td>\n",
       "      <td>3.5</td>\n",
       "      <td>4.5</td>\n",
       "      <td>5.5</td>\n",
       "      <td>0.0</td>\n",
       "      <td>0.0</td>\n",
       "      <td>0.0</td>\n",
       "      <td>0.0</td>\n",
       "      <td>e7c181a90d7161b4f885a69f6d426474</td>\n",
       "      <td>0.0</td>\n",
       "      <td>0.0</td>\n",
       "      <td>0.0</td>\n",
       "      <td>0.0</td>\n",
       "      <td>0.0</td>\n",
       "      <td>0.0</td>\n",
       "      <td>0.0</td>\n",
       "      <td>0.0</td>\n",
       "      <td>0.0</td>\n",
       "      <td>3.0</td>\n",
       "      <td>0.0</td>\n",
       "      <td>inf</td>\n",
       "      <td>1.0</td>\n",
       "      <td>tec</td>\n",
       "      <td>ba</td>\n",
       "    </tr>\n",
       "    <tr>\n",
       "      <th>4</th>\n",
       "      <td>tutor5</td>\n",
       "      <td>5012.0</td>\n",
       "      <td>14.00</td>\n",
       "      <td>11.5</td>\n",
       "      <td>12.5</td>\n",
       "      <td>14.5</td>\n",
       "      <td>8.0</td>\n",
       "      <td>7.0</td>\n",
       "      <td>13.5</td>\n",
       "      <td>6.5</td>\n",
       "      <td>8.5</td>\n",
       "      <td>14.0</td>\n",
       "      <td>0.0</td>\n",
       "      <td>e2be9ece8b482afb4717e4e13907a525</td>\n",
       "      <td>4.0</td>\n",
       "      <td>7.0</td>\n",
       "      <td>7.0</td>\n",
       "      <td>8.5</td>\n",
       "      <td>6.5</td>\n",
       "      <td>1.5</td>\n",
       "      <td>4.0</td>\n",
       "      <td>38.5</td>\n",
       "      <td>5.0</td>\n",
       "      <td>4.0</td>\n",
       "      <td>0.0</td>\n",
       "      <td>inf</td>\n",
       "      <td>3.0</td>\n",
       "      <td>tec</td>\n",
       "      <td>ba</td>\n",
       "    </tr>\n",
       "  </tbody>\n",
       "</table>\n",
       "</div>"
      ],
      "text/plain": [
       "    tutor  team_id     b1    b2    b3    b4    b5    b6    b7    b8    b9  \\\n",
       "0  tutor2      1.0  10.00   6.5  11.5  13.0   8.5   8.0  10.5  12.5   7.0   \n",
       "1  tutor2      1.0  10.00   6.5  11.5  13.0   8.5   8.0  10.5  12.5   7.0   \n",
       "2  tutor1   1146.0  13.75  13.5  14.5  13.5  11.0  11.5  13.5  15.0  14.5   \n",
       "3  tutor3     19.0  13.00   6.5   7.5   9.0   3.5   4.5   5.5   0.0   0.0   \n",
       "4  tutor5   5012.0  14.00  11.5  12.5  14.5   8.0   7.0  13.5   6.5   8.5   \n",
       "\n",
       "    b10  b11                             hash2   a1   a2   a3   a4   a5   a6  \\\n",
       "0  13.0  0.0  0afdc45f7ee8e52ebf1afb2970e37b36  0.0  0.0  0.0  0.0  0.0  0.0   \n",
       "1  13.0  0.0  d821cd2c7b995d4e3a75c64d25e53529  0.0  0.0  0.0  0.0  0.0  0.0   \n",
       "2   4.0  0.0  fa873577b8543ed8a6d7d8d7fe6ca546  7.0  7.0  8.5  8.0  6.0  7.0   \n",
       "3   0.0  0.0  e7c181a90d7161b4f885a69f6d426474  0.0  0.0  0.0  0.0  0.0  0.0   \n",
       "4  14.0  0.0  e2be9ece8b482afb4717e4e13907a525  4.0  7.0  7.0  8.5  6.5  1.5   \n",
       "\n",
       "    a7  punkte  note  student_id  pass subject  semester faculty degree  \n",
       "0  0.0     0.0   0.0         0.0   0.0     inf       1.0     tec     ba  \n",
       "1  0.0     0.0   0.0         1.0   0.0     inf       1.0     tec     ba  \n",
       "2  8.5    52.0   3.3         2.0   1.0     inf       1.0     tec     ba  \n",
       "3  0.0     0.0   0.0         3.0   0.0     inf       1.0     tec     ba  \n",
       "4  4.0    38.5   5.0         4.0   0.0     inf       3.0     tec     ba  "
      ]
     },
     "execution_count": 4,
     "metadata": {},
     "output_type": "execute_result"
    }
   ],
   "source": [
    "gem.head()"
   ]
  },
  {
   "cell_type": "markdown",
   "metadata": {},
   "source": [
    "## Preparation of Dataset"
   ]
  },
  {
   "cell_type": "code",
   "execution_count": 5,
   "metadata": {},
   "outputs": [],
   "source": [
    "learn = gem.copy()"
   ]
  },
  {
   "cell_type": "code",
   "execution_count": 6,
   "metadata": {},
   "outputs": [],
   "source": [
    "del learn[\"hash2\"]\n",
    "del learn[\"a1\"]\n",
    "del learn[\"a2\"]\n",
    "del learn[\"a3\"]\n",
    "del learn[\"a4\"]\n",
    "del learn[\"a5\"]\n",
    "del learn[\"a6\"]\n",
    "del learn[\"a7\"]\n",
    "del learn[\"note\"]\n",
    "del learn[\"punkte\"]\n",
    "del learn[\"student_id\"]"
   ]
  },
  {
   "cell_type": "code",
   "execution_count": 7,
   "metadata": {},
   "outputs": [],
   "source": [
    "target = learn[\"pass\"]"
   ]
  },
  {
   "cell_type": "code",
   "execution_count": 8,
   "metadata": {},
   "outputs": [],
   "source": [
    "del learn[\"pass\"]"
   ]
  },
  {
   "cell_type": "code",
   "execution_count": 9,
   "metadata": {},
   "outputs": [],
   "source": [
    "del learn[\"team_id\"]"
   ]
  },
  {
   "cell_type": "code",
   "execution_count": 10,
   "metadata": {},
   "outputs": [
    {
     "data": {
      "text/html": [
       "<div>\n",
       "<table border=\"1\" class=\"dataframe\">\n",
       "  <thead>\n",
       "    <tr style=\"text-align: right;\">\n",
       "      <th></th>\n",
       "      <th>tutor</th>\n",
       "      <th>b1</th>\n",
       "      <th>b2</th>\n",
       "      <th>b3</th>\n",
       "      <th>b4</th>\n",
       "      <th>b5</th>\n",
       "      <th>b6</th>\n",
       "      <th>b7</th>\n",
       "      <th>b8</th>\n",
       "      <th>b9</th>\n",
       "      <th>b10</th>\n",
       "      <th>b11</th>\n",
       "      <th>subject</th>\n",
       "      <th>semester</th>\n",
       "      <th>faculty</th>\n",
       "      <th>degree</th>\n",
       "    </tr>\n",
       "  </thead>\n",
       "  <tbody>\n",
       "    <tr>\n",
       "      <th>0</th>\n",
       "      <td>tutor2</td>\n",
       "      <td>10.00</td>\n",
       "      <td>6.5</td>\n",
       "      <td>11.5</td>\n",
       "      <td>13.0</td>\n",
       "      <td>8.5</td>\n",
       "      <td>8.0</td>\n",
       "      <td>10.5</td>\n",
       "      <td>12.5</td>\n",
       "      <td>7.0</td>\n",
       "      <td>13.0</td>\n",
       "      <td>0.0</td>\n",
       "      <td>inf</td>\n",
       "      <td>1.0</td>\n",
       "      <td>tec</td>\n",
       "      <td>ba</td>\n",
       "    </tr>\n",
       "    <tr>\n",
       "      <th>1</th>\n",
       "      <td>tutor2</td>\n",
       "      <td>10.00</td>\n",
       "      <td>6.5</td>\n",
       "      <td>11.5</td>\n",
       "      <td>13.0</td>\n",
       "      <td>8.5</td>\n",
       "      <td>8.0</td>\n",
       "      <td>10.5</td>\n",
       "      <td>12.5</td>\n",
       "      <td>7.0</td>\n",
       "      <td>13.0</td>\n",
       "      <td>0.0</td>\n",
       "      <td>inf</td>\n",
       "      <td>1.0</td>\n",
       "      <td>tec</td>\n",
       "      <td>ba</td>\n",
       "    </tr>\n",
       "    <tr>\n",
       "      <th>2</th>\n",
       "      <td>tutor1</td>\n",
       "      <td>13.75</td>\n",
       "      <td>13.5</td>\n",
       "      <td>14.5</td>\n",
       "      <td>13.5</td>\n",
       "      <td>11.0</td>\n",
       "      <td>11.5</td>\n",
       "      <td>13.5</td>\n",
       "      <td>15.0</td>\n",
       "      <td>14.5</td>\n",
       "      <td>4.0</td>\n",
       "      <td>0.0</td>\n",
       "      <td>inf</td>\n",
       "      <td>1.0</td>\n",
       "      <td>tec</td>\n",
       "      <td>ba</td>\n",
       "    </tr>\n",
       "    <tr>\n",
       "      <th>3</th>\n",
       "      <td>tutor3</td>\n",
       "      <td>13.00</td>\n",
       "      <td>6.5</td>\n",
       "      <td>7.5</td>\n",
       "      <td>9.0</td>\n",
       "      <td>3.5</td>\n",
       "      <td>4.5</td>\n",
       "      <td>5.5</td>\n",
       "      <td>0.0</td>\n",
       "      <td>0.0</td>\n",
       "      <td>0.0</td>\n",
       "      <td>0.0</td>\n",
       "      <td>inf</td>\n",
       "      <td>1.0</td>\n",
       "      <td>tec</td>\n",
       "      <td>ba</td>\n",
       "    </tr>\n",
       "    <tr>\n",
       "      <th>4</th>\n",
       "      <td>tutor5</td>\n",
       "      <td>14.00</td>\n",
       "      <td>11.5</td>\n",
       "      <td>12.5</td>\n",
       "      <td>14.5</td>\n",
       "      <td>8.0</td>\n",
       "      <td>7.0</td>\n",
       "      <td>13.5</td>\n",
       "      <td>6.5</td>\n",
       "      <td>8.5</td>\n",
       "      <td>14.0</td>\n",
       "      <td>0.0</td>\n",
       "      <td>inf</td>\n",
       "      <td>3.0</td>\n",
       "      <td>tec</td>\n",
       "      <td>ba</td>\n",
       "    </tr>\n",
       "  </tbody>\n",
       "</table>\n",
       "</div>"
      ],
      "text/plain": [
       "    tutor     b1    b2    b3    b4    b5    b6    b7    b8    b9   b10  b11  \\\n",
       "0  tutor2  10.00   6.5  11.5  13.0   8.5   8.0  10.5  12.5   7.0  13.0  0.0   \n",
       "1  tutor2  10.00   6.5  11.5  13.0   8.5   8.0  10.5  12.5   7.0  13.0  0.0   \n",
       "2  tutor1  13.75  13.5  14.5  13.5  11.0  11.5  13.5  15.0  14.5   4.0  0.0   \n",
       "3  tutor3  13.00   6.5   7.5   9.0   3.5   4.5   5.5   0.0   0.0   0.0  0.0   \n",
       "4  tutor5  14.00  11.5  12.5  14.5   8.0   7.0  13.5   6.5   8.5  14.0  0.0   \n",
       "\n",
       "  subject  semester faculty degree  \n",
       "0     inf       1.0     tec     ba  \n",
       "1     inf       1.0     tec     ba  \n",
       "2     inf       1.0     tec     ba  \n",
       "3     inf       1.0     tec     ba  \n",
       "4     inf       3.0     tec     ba  "
      ]
     },
     "execution_count": 10,
     "metadata": {},
     "output_type": "execute_result"
    }
   ],
   "source": [
    "learn.head()"
   ]
  },
  {
   "cell_type": "markdown",
   "metadata": {},
   "source": [
    "## Preparation of Evaluation"
   ]
  },
  {
   "cell_type": "code",
   "execution_count": 11,
   "metadata": {},
   "outputs": [],
   "source": [
    "from sklearn.metrics import confusion_matrix\n",
    "from sklearn.utils.multiclass import unique_labels\n",
    "from sklearn.metrics import classification_report\n",
    "from sklearn.metrics import accuracy_score\n",
    "\n",
    "def confusion_matrix_report(y_true, y_pred):\n",
    "\tcm, labels = confusion_matrix(y_true, y_pred), unique_labels(y_true, y_pred)\n",
    "\tcolumn_width = max([len(str(x)) for x in labels] + [5])\n",
    "\treport = \" \" * column_width + \" \" + \"{:_^{}}\".format(\"Prediction\", column_width * len(labels))+ \"\\n\"\n",
    "\treport += \" \" * column_width + \" \".join([\"{:>{}}\".format(label, column_width) for label in labels]) + \"\\n\"\n",
    "\tfor i, label1 in enumerate(labels):\n",
    "\t\treport += \"{:>{}}\".format(label1, column_width) + \" \".join([\"{:{}d}\".format(cm[i, j], column_width) for j in range(len(labels))]) + \"\\n\"\n",
    "\treturn report"
   ]
  },
  {
   "cell_type": "code",
   "execution_count": 12,
   "metadata": {},
   "outputs": [],
   "source": [
    "def evaluate(model, X_test, y_test):\n",
    "    prediction = model.predict(X_test)\n",
    "    y_pred = X_test.assign(prediction = prediction)\n",
    "    y_pred = y_pred.assign(true = y_test)\n",
    "    print(confusion_matrix_report(y_pred[\"true\"], y_pred[\"prediction\"]))\n",
    "    print(accuracy_score(y_pred[\"true\"], y_pred[\"prediction\"]))\n",
    "    print(classification_report(y_pred[\"true\"], y_pred[\"prediction\"]))"
   ]
  },
  {
   "cell_type": "markdown",
   "metadata": {},
   "source": [
    "## Data Preparation"
   ]
  },
  {
   "cell_type": "code",
   "execution_count": 13,
   "metadata": {},
   "outputs": [
    {
     "data": {
      "text/plain": [
       "Index(['tutor', 'b1', 'b2', 'b3', 'b4', 'b5', 'b6', 'b7', 'b8', 'b9', 'b10',\n",
       "       'b11', 'subject', 'semester', 'faculty', 'degree'],\n",
       "      dtype='object')"
      ]
     },
     "execution_count": 13,
     "metadata": {},
     "output_type": "execute_result"
    }
   ],
   "source": [
    "learn.columns"
   ]
  },
  {
   "cell_type": "code",
   "execution_count": 14,
   "metadata": {},
   "outputs": [
    {
     "data": {
      "text/html": [
       "<div>\n",
       "<table border=\"1\" class=\"dataframe\">\n",
       "  <thead>\n",
       "    <tr style=\"text-align: right;\">\n",
       "      <th></th>\n",
       "      <th>b1</th>\n",
       "      <th>b2</th>\n",
       "      <th>b3</th>\n",
       "      <th>b4</th>\n",
       "      <th>b5</th>\n",
       "      <th>b6</th>\n",
       "      <th>b7</th>\n",
       "      <th>b8</th>\n",
       "      <th>b9</th>\n",
       "      <th>b10</th>\n",
       "      <th>b11</th>\n",
       "      <th>semester</th>\n",
       "      <th>degree_ba</th>\n",
       "      <th>degree_ma</th>\n",
       "    </tr>\n",
       "  </thead>\n",
       "  <tbody>\n",
       "    <tr>\n",
       "      <th>0</th>\n",
       "      <td>10</td>\n",
       "      <td>6.5</td>\n",
       "      <td>11.5</td>\n",
       "      <td>13</td>\n",
       "      <td>8.5</td>\n",
       "      <td>8</td>\n",
       "      <td>10.5</td>\n",
       "      <td>12.5</td>\n",
       "      <td>7</td>\n",
       "      <td>13</td>\n",
       "      <td>0</td>\n",
       "      <td>1</td>\n",
       "      <td>1</td>\n",
       "      <td>0</td>\n",
       "    </tr>\n",
       "    <tr>\n",
       "      <th>1</th>\n",
       "      <td>10</td>\n",
       "      <td>6.5</td>\n",
       "      <td>11.5</td>\n",
       "      <td>13</td>\n",
       "      <td>8.5</td>\n",
       "      <td>8</td>\n",
       "      <td>10.5</td>\n",
       "      <td>12.5</td>\n",
       "      <td>7</td>\n",
       "      <td>13</td>\n",
       "      <td>0</td>\n",
       "      <td>1</td>\n",
       "      <td>1</td>\n",
       "      <td>0</td>\n",
       "    </tr>\n",
       "    <tr>\n",
       "      <th>2</th>\n",
       "      <td>13.75</td>\n",
       "      <td>13.5</td>\n",
       "      <td>14.5</td>\n",
       "      <td>13.5</td>\n",
       "      <td>11</td>\n",
       "      <td>11.5</td>\n",
       "      <td>13.5</td>\n",
       "      <td>15</td>\n",
       "      <td>14.5</td>\n",
       "      <td>4</td>\n",
       "      <td>0</td>\n",
       "      <td>1</td>\n",
       "      <td>1</td>\n",
       "      <td>0</td>\n",
       "    </tr>\n",
       "    <tr>\n",
       "      <th>3</th>\n",
       "      <td>13</td>\n",
       "      <td>6.5</td>\n",
       "      <td>7.5</td>\n",
       "      <td>9</td>\n",
       "      <td>3.5</td>\n",
       "      <td>4.5</td>\n",
       "      <td>5.5</td>\n",
       "      <td>0</td>\n",
       "      <td>0</td>\n",
       "      <td>0</td>\n",
       "      <td>0</td>\n",
       "      <td>1</td>\n",
       "      <td>1</td>\n",
       "      <td>0</td>\n",
       "    </tr>\n",
       "    <tr>\n",
       "      <th>4</th>\n",
       "      <td>14</td>\n",
       "      <td>11.5</td>\n",
       "      <td>12.5</td>\n",
       "      <td>14.5</td>\n",
       "      <td>8</td>\n",
       "      <td>7</td>\n",
       "      <td>13.5</td>\n",
       "      <td>6.5</td>\n",
       "      <td>8.5</td>\n",
       "      <td>14</td>\n",
       "      <td>0</td>\n",
       "      <td>3</td>\n",
       "      <td>1</td>\n",
       "      <td>0</td>\n",
       "    </tr>\n",
       "  </tbody>\n",
       "</table>\n",
       "</div>"
      ],
      "text/plain": [
       "      b1    b2    b3    b4   b5    b6    b7    b8    b9 b10 b11 semester  \\\n",
       "0     10   6.5  11.5    13  8.5     8  10.5  12.5     7  13   0        1   \n",
       "1     10   6.5  11.5    13  8.5     8  10.5  12.5     7  13   0        1   \n",
       "2  13.75  13.5  14.5  13.5   11  11.5  13.5    15  14.5   4   0        1   \n",
       "3     13   6.5   7.5     9  3.5   4.5   5.5     0     0   0   0        1   \n",
       "4     14  11.5  12.5  14.5    8     7  13.5   6.5   8.5  14   0        3   \n",
       "\n",
       "   degree_ba  degree_ma  \n",
       "0          1          0  \n",
       "1          1          0  \n",
       "2          1          0  \n",
       "3          1          0  \n",
       "4          1          0  "
      ]
     },
     "execution_count": 14,
     "metadata": {},
     "output_type": "execute_result"
    }
   ],
   "source": [
    "learn_only = learn.copy()\n",
    "del learn_only[\"faculty\"]\n",
    "del learn_only[\"tutor\"]\n",
    "del learn_only[\"subject\"]\n",
    "learn_only = pd.get_dummies(learn_only)\n",
    "del learn_only[\"degree_ext\"]\n",
    "learn_only = learn_only.replace(np.nan, \"0\")\n",
    "learn_only.head()"
   ]
  },
  {
   "cell_type": "code",
   "execution_count": 15,
   "metadata": {},
   "outputs": [],
   "source": [
    "week1 = learn_only.copy()\n",
    "del week1[\"b2\"]\n",
    "del week1[\"b3\"]\n",
    "del week1[\"b4\"]\n",
    "del week1[\"b5\"]\n",
    "del week1[\"b6\"]\n",
    "del week1[\"b7\"]\n",
    "del week1[\"b8\"]\n",
    "del week1[\"b9\"]\n",
    "del week1[\"b10\"]\n",
    "del week1[\"b11\"]"
   ]
  },
  {
   "cell_type": "code",
   "execution_count": 16,
   "metadata": {},
   "outputs": [],
   "source": [
    "week2 = learn_only.copy()\n",
    "del week2[\"b3\"]\n",
    "del week2[\"b4\"]\n",
    "del week2[\"b5\"]\n",
    "del week2[\"b6\"]\n",
    "del week2[\"b7\"]\n",
    "del week2[\"b8\"]\n",
    "del week2[\"b9\"]\n",
    "del week2[\"b10\"]\n",
    "del week2[\"b11\"]"
   ]
  },
  {
   "cell_type": "code",
   "execution_count": 17,
   "metadata": {},
   "outputs": [],
   "source": [
    "week3 = learn_only.copy()\n",
    "del week3[\"b4\"]\n",
    "del week3[\"b5\"]\n",
    "del week3[\"b6\"]\n",
    "del week3[\"b7\"]\n",
    "del week3[\"b8\"]\n",
    "del week3[\"b9\"]\n",
    "del week3[\"b10\"]\n",
    "del week3[\"b11\"]"
   ]
  },
  {
   "cell_type": "code",
   "execution_count": 18,
   "metadata": {},
   "outputs": [],
   "source": [
    "week4 = learn_only.copy()\n",
    "del week4[\"b5\"]\n",
    "del week4[\"b6\"]\n",
    "del week4[\"b7\"]\n",
    "del week4[\"b8\"]\n",
    "del week4[\"b9\"]\n",
    "del week4[\"b10\"]\n",
    "del week4[\"b11\"]"
   ]
  },
  {
   "cell_type": "code",
   "execution_count": 19,
   "metadata": {},
   "outputs": [],
   "source": [
    "week5 = learn_only.copy()\n",
    "del week5[\"b6\"]\n",
    "del week5[\"b7\"]\n",
    "del week5[\"b8\"]\n",
    "del week5[\"b9\"]\n",
    "del week5[\"b10\"]\n",
    "del week5[\"b11\"]"
   ]
  },
  {
   "cell_type": "code",
   "execution_count": 20,
   "metadata": {},
   "outputs": [],
   "source": [
    "week6 = learn_only.copy()\n",
    "del week6[\"b7\"]\n",
    "del week6[\"b8\"]\n",
    "del week6[\"b9\"]\n",
    "del week6[\"b10\"]\n",
    "del week6[\"b11\"]"
   ]
  },
  {
   "cell_type": "code",
   "execution_count": 21,
   "metadata": {},
   "outputs": [],
   "source": [
    "week7 = learn_only.copy()\n",
    "del week7[\"b8\"]\n",
    "del week7[\"b9\"]\n",
    "del week7[\"b10\"]\n",
    "del week7[\"b11\"]"
   ]
  },
  {
   "cell_type": "code",
   "execution_count": 22,
   "metadata": {},
   "outputs": [],
   "source": [
    "week8 = learn_only.copy()\n",
    "del week8[\"b9\"]\n",
    "del week8[\"b10\"]\n",
    "del week8[\"b11\"]"
   ]
  },
  {
   "cell_type": "code",
   "execution_count": 23,
   "metadata": {},
   "outputs": [],
   "source": [
    "week9 = learn_only.copy()\n",
    "del week9[\"b10\"]\n",
    "del week9[\"b11\"]"
   ]
  },
  {
   "cell_type": "code",
   "execution_count": 24,
   "metadata": {},
   "outputs": [],
   "source": [
    "week10 = learn_only.copy()\n",
    "del week10[\"b11\"]"
   ]
  },
  {
   "cell_type": "code",
   "execution_count": 25,
   "metadata": {},
   "outputs": [],
   "source": [
    "week11 = learn_only.copy()"
   ]
  },
  {
   "cell_type": "code",
   "execution_count": 26,
   "metadata": {},
   "outputs": [],
   "source": [
    "from sklearn.model_selection import train_test_split\n",
    "X_train1, X_test1, y_train1, y_test1 = train_test_split(week1, target, test_size=0.15, random_state=42)\n",
    "X_train2, X_test2, y_train2, y_test2 = train_test_split(week2, target, test_size=0.15, random_state=42)\n",
    "X_train3, X_test3, y_train3, y_test3 = train_test_split(week3, target, test_size=0.15, random_state=42)\n",
    "X_train4, X_test4, y_train4, y_test4 = train_test_split(week4, target, test_size=0.15, random_state=42)\n",
    "X_train5, X_test5, y_train5, y_test5 = train_test_split(week5, target, test_size=0.15, random_state=42)\n",
    "X_train6, X_test6, y_train6, y_test6 = train_test_split(week6, target, test_size=0.15, random_state=42)\n",
    "X_train7, X_test7, y_train7, y_test7 = train_test_split(week7, target, test_size=0.15, random_state=42)\n",
    "X_train8, X_test8, y_train8, y_test8 = train_test_split(week8, target, test_size=0.15, random_state=42)\n",
    "X_train9, X_test9, y_train9, y_test9 = train_test_split(week9, target, test_size=0.15, random_state=42)\n",
    "X_train10, X_test10, y_train10, y_test10 = train_test_split(week10, target, test_size=0.15, random_state=42)\n",
    "X_train11, X_test11, y_train11, y_test11 = train_test_split(week11, target, test_size=0.15, random_state=42)"
   ]
  },
  {
   "cell_type": "markdown",
   "metadata": {},
   "source": [
    "# Random Forest"
   ]
  },
  {
   "cell_type": "code",
   "execution_count": 27,
   "metadata": {},
   "outputs": [],
   "source": [
    "from sklearn.ensemble import RandomForestClassifier\n",
    "from sklearn.model_selection import StratifiedKFold\n",
    "from sklearn.model_selection import cross_val_score"
   ]
  },
  {
   "cell_type": "code",
   "execution_count": 28,
   "metadata": {},
   "outputs": [],
   "source": [
    "# for estimators in [10, 20, 30, 40, 50, 60]:\n",
    "#     for depth in [1,2,3,4,5,6,7,8,9]:    \n",
    "#         rf_model =  RandomForestClassifier(max_depth=depth, n_estimators=estimators)\n",
    "#         cross_val = StratifiedKFold(n_splits=10, shuffle=True, random_state=42)\n",
    "#         acc_each_split = cross_val_score(rf_model, X_train1, y_train1, cv=cross_val, scoring='accuracy')\n",
    "#         rf_model.fit(X_train1, y_train1)\n",
    "#         print(\"tree with depth= {} and estimators= {} has accuracy {}\".format(depth, estimators, acc_each_split.mean()))"
   ]
  },
  {
   "cell_type": "code",
   "execution_count": 29,
   "metadata": {},
   "outputs": [],
   "source": [
    "depth = 9\n",
    "estimator = 80"
   ]
  },
  {
   "cell_type": "code",
   "execution_count": 30,
   "metadata": {},
   "outputs": [
    {
     "name": "stdout",
     "output_type": "stream",
     "text": [
      "      Prediction\n",
      "       0.0   1.0\n",
      "  0.0   15     8\n",
      "  1.0    6     9\n",
      "\n",
      "0.631578947368\n",
      "             precision    recall  f1-score   support\n",
      "\n",
      "        0.0       0.71      0.65      0.68        23\n",
      "        1.0       0.53      0.60      0.56        15\n",
      "\n",
      "avg / total       0.64      0.63      0.63        38\n",
      "\n"
     ]
    }
   ],
   "source": [
    "rf_model1 =  RandomForestClassifier(max_depth=depth,n_estimators=estimator,random_state=180906)\n",
    "rf_model1.fit(X_train1,y_train1)\n",
    "evaluate(rf_model1, X_test1, y_test1)"
   ]
  },
  {
   "cell_type": "code",
   "execution_count": 31,
   "metadata": {},
   "outputs": [
    {
     "name": "stdout",
     "output_type": "stream",
     "text": [
      "      Prediction\n",
      "       0.0   1.0\n",
      "  0.0   19     4\n",
      "  1.0    3    12\n",
      "\n",
      "0.815789473684\n",
      "             precision    recall  f1-score   support\n",
      "\n",
      "        0.0       0.86      0.83      0.84        23\n",
      "        1.0       0.75      0.80      0.77        15\n",
      "\n",
      "avg / total       0.82      0.82      0.82        38\n",
      "\n"
     ]
    }
   ],
   "source": [
    "rf_model2 =  RandomForestClassifier(max_depth=depth,n_estimators=estimator,random_state=180906)\n",
    "rf_model2.fit(X_train2,y_train2)\n",
    "evaluate(rf_model2, X_test2, y_test2)"
   ]
  },
  {
   "cell_type": "code",
   "execution_count": 32,
   "metadata": {},
   "outputs": [
    {
     "name": "stdout",
     "output_type": "stream",
     "text": [
      "      Prediction\n",
      "       0.0   1.0\n",
      "  0.0   18     5\n",
      "  1.0    4    11\n",
      "\n",
      "0.763157894737\n",
      "             precision    recall  f1-score   support\n",
      "\n",
      "        0.0       0.82      0.78      0.80        23\n",
      "        1.0       0.69      0.73      0.71        15\n",
      "\n",
      "avg / total       0.77      0.76      0.76        38\n",
      "\n"
     ]
    }
   ],
   "source": [
    "rf_model3 =  RandomForestClassifier(max_depth=depth,n_estimators=estimator,random_state=180906)\n",
    "rf_model3.fit(X_train3,y_train3)\n",
    "evaluate(rf_model3, X_test3, y_test3)"
   ]
  },
  {
   "cell_type": "code",
   "execution_count": 33,
   "metadata": {},
   "outputs": [
    {
     "name": "stdout",
     "output_type": "stream",
     "text": [
      "      Prediction\n",
      "       0.0   1.0\n",
      "  0.0   17     6\n",
      "  1.0    4    11\n",
      "\n",
      "0.736842105263\n",
      "             precision    recall  f1-score   support\n",
      "\n",
      "        0.0       0.81      0.74      0.77        23\n",
      "        1.0       0.65      0.73      0.69        15\n",
      "\n",
      "avg / total       0.75      0.74      0.74        38\n",
      "\n"
     ]
    }
   ],
   "source": [
    "rf_model4 =  RandomForestClassifier(max_depth=depth,n_estimators=estimator,random_state=180906)\n",
    "rf_model4.fit(X_train4,y_train4)\n",
    "evaluate(rf_model4, X_test4, y_test4)"
   ]
  },
  {
   "cell_type": "code",
   "execution_count": 34,
   "metadata": {},
   "outputs": [
    {
     "name": "stdout",
     "output_type": "stream",
     "text": [
      "      Prediction\n",
      "       0.0   1.0\n",
      "  0.0   17     6\n",
      "  1.0    2    13\n",
      "\n",
      "0.789473684211\n",
      "             precision    recall  f1-score   support\n",
      "\n",
      "        0.0       0.89      0.74      0.81        23\n",
      "        1.0       0.68      0.87      0.76        15\n",
      "\n",
      "avg / total       0.81      0.79      0.79        38\n",
      "\n"
     ]
    }
   ],
   "source": [
    "rf_model5 =  RandomForestClassifier(max_depth=depth,n_estimators=estimator,random_state=180906)\n",
    "rf_model5.fit(X_train5,y_train5)\n",
    "evaluate(rf_model5, X_test5, y_test5)"
   ]
  },
  {
   "cell_type": "code",
   "execution_count": 35,
   "metadata": {},
   "outputs": [
    {
     "name": "stdout",
     "output_type": "stream",
     "text": [
      "      Prediction\n",
      "       0.0   1.0\n",
      "  0.0   17     6\n",
      "  1.0    2    13\n",
      "\n",
      "0.789473684211\n",
      "             precision    recall  f1-score   support\n",
      "\n",
      "        0.0       0.89      0.74      0.81        23\n",
      "        1.0       0.68      0.87      0.76        15\n",
      "\n",
      "avg / total       0.81      0.79      0.79        38\n",
      "\n"
     ]
    }
   ],
   "source": [
    "rf_model6 =  RandomForestClassifier(max_depth=depth,n_estimators=estimator,random_state=180906)\n",
    "rf_model6.fit(X_train6,y_train6)\n",
    "evaluate(rf_model6, X_test6, y_test6)"
   ]
  },
  {
   "cell_type": "code",
   "execution_count": 36,
   "metadata": {},
   "outputs": [
    {
     "name": "stdout",
     "output_type": "stream",
     "text": [
      "      Prediction\n",
      "       0.0   1.0\n",
      "  0.0   17     6\n",
      "  1.0    3    12\n",
      "\n",
      "0.763157894737\n",
      "             precision    recall  f1-score   support\n",
      "\n",
      "        0.0       0.85      0.74      0.79        23\n",
      "        1.0       0.67      0.80      0.73        15\n",
      "\n",
      "avg / total       0.78      0.76      0.77        38\n",
      "\n"
     ]
    }
   ],
   "source": [
    "rf_model7 =  RandomForestClassifier(max_depth=depth,n_estimators=estimator,random_state=180906)\n",
    "rf_model7.fit(X_train7,y_train7)\n",
    "evaluate(rf_model7, X_test7, y_test7)"
   ]
  },
  {
   "cell_type": "code",
   "execution_count": 37,
   "metadata": {},
   "outputs": [
    {
     "name": "stdout",
     "output_type": "stream",
     "text": [
      "      Prediction\n",
      "       0.0   1.0\n",
      "  0.0   17     6\n",
      "  1.0    3    12\n",
      "\n",
      "0.763157894737\n",
      "             precision    recall  f1-score   support\n",
      "\n",
      "        0.0       0.85      0.74      0.79        23\n",
      "        1.0       0.67      0.80      0.73        15\n",
      "\n",
      "avg / total       0.78      0.76      0.77        38\n",
      "\n"
     ]
    }
   ],
   "source": [
    "rf_model8 =  RandomForestClassifier(max_depth=depth,n_estimators=estimator,random_state=180906)\n",
    "rf_model8.fit(X_train8,y_train8)\n",
    "evaluate(rf_model8, X_test8, y_test8)"
   ]
  },
  {
   "cell_type": "code",
   "execution_count": 38,
   "metadata": {},
   "outputs": [
    {
     "name": "stdout",
     "output_type": "stream",
     "text": [
      "      Prediction\n",
      "       0.0   1.0\n",
      "  0.0   19     4\n",
      "  1.0    3    12\n",
      "\n",
      "0.815789473684\n",
      "             precision    recall  f1-score   support\n",
      "\n",
      "        0.0       0.86      0.83      0.84        23\n",
      "        1.0       0.75      0.80      0.77        15\n",
      "\n",
      "avg / total       0.82      0.82      0.82        38\n",
      "\n"
     ]
    }
   ],
   "source": [
    "rf_model9 =  RandomForestClassifier(max_depth=depth,n_estimators=estimator,random_state=180906)\n",
    "rf_model9.fit(X_train9,y_train9)\n",
    "evaluate(rf_model9, X_test9, y_test9)"
   ]
  },
  {
   "cell_type": "code",
   "execution_count": 39,
   "metadata": {},
   "outputs": [
    {
     "name": "stdout",
     "output_type": "stream",
     "text": [
      "      Prediction\n",
      "       0.0   1.0\n",
      "  0.0   19     4\n",
      "  1.0    2    13\n",
      "\n",
      "0.842105263158\n",
      "             precision    recall  f1-score   support\n",
      "\n",
      "        0.0       0.90      0.83      0.86        23\n",
      "        1.0       0.76      0.87      0.81        15\n",
      "\n",
      "avg / total       0.85      0.84      0.84        38\n",
      "\n"
     ]
    }
   ],
   "source": [
    "rf_model10 =  RandomForestClassifier(max_depth=depth,n_estimators=estimator,random_state=180906)\n",
    "rf_model10.fit(X_train10,y_train10)\n",
    "evaluate(rf_model10, X_test10, y_test10)"
   ]
  },
  {
   "cell_type": "code",
   "execution_count": 40,
   "metadata": {},
   "outputs": [
    {
     "name": "stdout",
     "output_type": "stream",
     "text": [
      "      Prediction\n",
      "       0.0   1.0\n",
      "  0.0   19     4\n",
      "  1.0    2    13\n",
      "\n",
      "0.842105263158\n",
      "             precision    recall  f1-score   support\n",
      "\n",
      "        0.0       0.90      0.83      0.86        23\n",
      "        1.0       0.76      0.87      0.81        15\n",
      "\n",
      "avg / total       0.85      0.84      0.84        38\n",
      "\n"
     ]
    }
   ],
   "source": [
    "rf_model11 =  RandomForestClassifier(max_depth=depth,n_estimators=estimator,random_state=180906)\n",
    "rf_model11.fit(X_train11,y_train11)\n",
    "evaluate(rf_model11, X_test11, y_test11)"
   ]
  },
  {
   "cell_type": "code",
   "execution_count": 41,
   "metadata": {},
   "outputs": [
    {
     "name": "stdout",
     "output_type": "stream",
     "text": [
      "Week 1:  0.631578947368\n",
      "Week 2:  0.815789473684\n",
      "Week 3:  0.763157894737\n",
      "Week 4:  0.736842105263\n",
      "Week 5:  0.789473684211\n",
      "Week 6:  0.789473684211\n",
      "Week 7:  0.763157894737\n",
      "Week 8:  0.763157894737\n",
      "Week 9:  0.815789473684\n",
      "Week 10:  0.842105263158\n",
      "Week 11:  0.842105263158\n"
     ]
    }
   ],
   "source": [
    "print(\"Week 1: \", accuracy_score(y_test1, rf_model1.predict(X_test1)))\n",
    "print(\"Week 2: \", accuracy_score(y_test2, rf_model2.predict(X_test2)))\n",
    "print(\"Week 3: \", accuracy_score(y_test3, rf_model3.predict(X_test3)))\n",
    "print(\"Week 4: \", accuracy_score(y_test4, rf_model4.predict(X_test4)))\n",
    "print(\"Week 5: \", accuracy_score(y_test5, rf_model5.predict(X_test5)))\n",
    "print(\"Week 6: \", accuracy_score(y_test6, rf_model6.predict(X_test6)))\n",
    "print(\"Week 7: \", accuracy_score(y_test7, rf_model7.predict(X_test7)))\n",
    "print(\"Week 8: \", accuracy_score(y_test8, rf_model8.predict(X_test8)))\n",
    "print(\"Week 9: \", accuracy_score(y_test9, rf_model9.predict(X_test9)))\n",
    "print(\"Week 10: \", accuracy_score(y_test10, rf_model10.predict(X_test10)))\n",
    "print(\"Week 11: \", accuracy_score(y_test11, rf_model11.predict(X_test11)))"
   ]
  },
  {
   "cell_type": "code",
   "execution_count": 42,
   "metadata": {},
   "outputs": [],
   "source": [
    "acc = pd.Series([accuracy_score(y_test1, rf_model1.predict(X_test1)), \n",
    "                accuracy_score(y_test2, rf_model2.predict(X_test2)),\n",
    "                accuracy_score(y_test3, rf_model3.predict(X_test3)),\n",
    "                accuracy_score(y_test4, rf_model4.predict(X_test4)),\n",
    "                accuracy_score(y_test5, rf_model5.predict(X_test5)),\n",
    "                accuracy_score(y_test6, rf_model6.predict(X_test6)),\n",
    "                accuracy_score(y_test7, rf_model7.predict(X_test7)),\n",
    "                accuracy_score(y_test8, rf_model8.predict(X_test8)),\n",
    "                accuracy_score(y_test9, rf_model9.predict(X_test9)),\n",
    "                accuracy_score(y_test10, rf_model10.predict(X_test10)),\n",
    "                accuracy_score(y_test11, rf_model11.predict(X_test11))])"
   ]
  },
  {
   "cell_type": "code",
   "execution_count": 43,
   "metadata": {},
   "outputs": [],
   "source": [
    "week = pd.Series([1, 2, 3, 4, 5, 6, 7, 8, 9, 10, 11])"
   ]
  },
  {
   "cell_type": "code",
   "execution_count": 44,
   "metadata": {},
   "outputs": [],
   "source": [
    "df = pd.DataFrame({\"week\" : week, \"accuracy\" : acc})"
   ]
  },
  {
   "cell_type": "code",
   "execution_count": 45,
   "metadata": {},
   "outputs": [
    {
     "data": {
      "image/png": "[encoded data removed]",
      "text/plain": [
       "<matplotlib.figure.Figure at 0x248df94f0f0>"
      ]
     },
     "metadata": {},
     "output_type": "display_data"
    }
   ],
   "source": [
    "#plt.hist(df[\"week\"])\n",
    "plt.plot(df[\"accuracy\"])\n",
    "plt.xlabel('Assignments')\n",
    "plt.ylabel('Accuracy')\n",
    "plt.title('Accuracy Development over different Assignment Weeks')\n",
    "#plt.axis([40, 160, 0, 0.03])\n",
    "plt.grid(True)"
   ]
  },
  {
   "cell_type": "code",
   "execution_count": 46,
   "metadata": {},
   "outputs": [
    {
     "data": {
      "text/html": [
       "<div>\n",
       "<table border=\"1\" class=\"dataframe\">\n",
       "  <thead>\n",
       "    <tr style=\"text-align: right;\">\n",
       "      <th></th>\n",
       "      <th>Importance</th>\n",
       "    </tr>\n",
       "  </thead>\n",
       "  <tbody>\n",
       "    <tr>\n",
       "      <th>b1</th>\n",
       "      <td>0.239993</td>\n",
       "    </tr>\n",
       "    <tr>\n",
       "      <th>b2</th>\n",
       "      <td>0.378333</td>\n",
       "    </tr>\n",
       "    <tr>\n",
       "      <th>semester</th>\n",
       "      <td>0.300202</td>\n",
       "    </tr>\n",
       "    <tr>\n",
       "      <th>degree_ba</th>\n",
       "      <td>0.045158</td>\n",
       "    </tr>\n",
       "    <tr>\n",
       "      <th>degree_ma</th>\n",
       "      <td>0.036315</td>\n",
       "    </tr>\n",
       "  </tbody>\n",
       "</table>\n",
       "</div>"
      ],
      "text/plain": [
       "           Importance\n",
       "b1           0.239993\n",
       "b2           0.378333\n",
       "semester     0.300202\n",
       "degree_ba    0.045158\n",
       "degree_ma    0.036315"
      ]
     },
     "execution_count": 46,
     "metadata": {},
     "output_type": "execute_result"
    }
   ],
   "source": [
    "importance =  rf_model2.feature_importances_\n",
    "importance = pd.DataFrame(importance, index=X_train2.columns, \n",
    "                          columns=[\"Importance\"])\n",
    "importance"
   ]
  }
 ],
 "metadata": {
  "kernelspec": {
   "display_name": "Python 3",
   "language": "python",
   "name": "python3"
  },
  "language_info": {
   "codemirror_mode": {
    "name": "ipython",
    "version": 3
   },
   "file_extension": ".py",
   "mimetype": "text/x-python",
   "name": "python",
   "nbconvert_exporter": "python",
   "pygments_lexer": "ipython3",
   "version": "3.6.4"
  }
 },
 "nbformat": 4,
 "nbformat_minor": 2
}
